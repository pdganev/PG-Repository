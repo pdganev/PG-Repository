{
 "cells": [
  {
   "cell_type": "code",
   "execution_count": 1,
   "metadata": {},
   "outputs": [],
   "source": [
    "import numpy as np\n",
    "import tensorflow as tf"
   ]
  },
  {
   "cell_type": "code",
   "execution_count": 2,
   "metadata": {},
   "outputs": [],
   "source": [
    "npz = np.load('Audiobooks_data_train.npz')\n",
    "train_inputs = npz['inputs'].astype(np.float)\n",
    "train_targets = npz['targets'].astype(np.int)\n",
    "npz = np.load('Audiobooks_data_validation.npz')\n",
    "validation_inputs, validation_targets = npz['inputs'].astype(np.float), npz['targets'].astype(np.int)\n",
    "npz = np.load('Audiobooks_data_test.npz')\n",
    "test_inputs, test_targets = npz['inputs'].astype(np.float), npz['targets'].astype(np.int)"
   ]
  },
  {
   "cell_type": "markdown",
   "metadata": {},
   "source": [
    "### Model"
   ]
  },
  {
   "cell_type": "markdown",
   "metadata": {},
   "source": [
    "Outline, optimizers, loss, early stopping and training"
   ]
  },
  {
   "cell_type": "code",
   "execution_count": 3,
   "metadata": {},
   "outputs": [
    {
     "name": "stdout",
     "output_type": "stream",
     "text": [
      "Train on 3579 samples, validate on 447 samples\n",
      "Epoch 1/100\n",
      "3579/3579 - 1s - loss: 0.5764 - accuracy: 0.6932 - val_loss: 0.5102 - val_accuracy: 0.7271\n",
      "Epoch 2/100\n",
      "3579/3579 - 0s - loss: 0.4594 - accuracy: 0.7650 - val_loss: 0.4409 - val_accuracy: 0.7562\n",
      "Epoch 3/100\n",
      "3579/3579 - 0s - loss: 0.4164 - accuracy: 0.7793 - val_loss: 0.4117 - val_accuracy: 0.7763\n",
      "Epoch 4/100\n",
      "3579/3579 - 0s - loss: 0.3925 - accuracy: 0.7913 - val_loss: 0.3914 - val_accuracy: 0.7763\n",
      "Epoch 5/100\n",
      "3579/3579 - 0s - loss: 0.3783 - accuracy: 0.7980 - val_loss: 0.3847 - val_accuracy: 0.7740\n",
      "Epoch 6/100\n",
      "3579/3579 - 0s - loss: 0.3679 - accuracy: 0.8041 - val_loss: 0.3833 - val_accuracy: 0.7763\n",
      "Epoch 7/100\n",
      "3579/3579 - 0s - loss: 0.3598 - accuracy: 0.8069 - val_loss: 0.3643 - val_accuracy: 0.8076\n",
      "Epoch 8/100\n",
      "3579/3579 - 0s - loss: 0.3559 - accuracy: 0.8041 - val_loss: 0.3593 - val_accuracy: 0.8054\n",
      "Epoch 9/100\n",
      "3579/3579 - 0s - loss: 0.3512 - accuracy: 0.8083 - val_loss: 0.3696 - val_accuracy: 0.7964\n",
      "Epoch 10/100\n",
      "3579/3579 - 0s - loss: 0.3453 - accuracy: 0.8150 - val_loss: 0.3513 - val_accuracy: 0.7987\n",
      "Epoch 11/100\n",
      "3579/3579 - 0s - loss: 0.3468 - accuracy: 0.8064 - val_loss: 0.3515 - val_accuracy: 0.8054\n",
      "Epoch 12/100\n",
      "3579/3579 - 0s - loss: 0.3394 - accuracy: 0.8153 - val_loss: 0.3456 - val_accuracy: 0.8166\n",
      "Epoch 13/100\n",
      "3579/3579 - 0s - loss: 0.3404 - accuracy: 0.8134 - val_loss: 0.3428 - val_accuracy: 0.8255\n",
      "Epoch 14/100\n",
      "3579/3579 - 0s - loss: 0.3368 - accuracy: 0.8120 - val_loss: 0.3496 - val_accuracy: 0.8188\n",
      "Epoch 15/100\n",
      "3579/3579 - 0s - loss: 0.3339 - accuracy: 0.8134 - val_loss: 0.3392 - val_accuracy: 0.8255\n",
      "Epoch 16/100\n",
      "3579/3579 - 0s - loss: 0.3311 - accuracy: 0.8229 - val_loss: 0.3386 - val_accuracy: 0.8121\n",
      "Epoch 17/100\n",
      "3579/3579 - 0s - loss: 0.3293 - accuracy: 0.8187 - val_loss: 0.3440 - val_accuracy: 0.8143\n",
      "Epoch 18/100\n",
      "3579/3579 - 0s - loss: 0.3303 - accuracy: 0.8164 - val_loss: 0.3441 - val_accuracy: 0.8210\n"
     ]
    },
    {
     "data": {
      "text/plain": [
       "<tensorflow.python.keras.callbacks.History at 0x269e4e6a508>"
      ]
     },
     "execution_count": 3,
     "metadata": {},
     "output_type": "execute_result"
    }
   ],
   "source": [
    "# Set the input and output sizes\n",
    "input_size = 10\n",
    "output_size = 2\n",
    "# Use same hidden layer size for both hidden layers. Not a necessity.\n",
    "hidden_layer_size = 50\n",
    "    \n",
    "# define how the model will look like\n",
    "model = tf.keras.Sequential([\n",
    "tf.keras.layers.Dense(hidden_layer_size, activation='relu'),\n",
    "tf.keras.layers.Dense(hidden_layer_size, activation='relu'),\n",
    "tf.keras.layers.Dense(output_size, activation='softmax')\n",
    "])\n",
    "### Choose the optimizer and the loss function\n",
    "model.compile(optimizer='adam', loss='sparse_categorical_crossentropy', metrics=['accuracy'])\n",
    "### Training\n",
    "# set the batch size\n",
    "batch_size = 100\n",
    "# set a maximum number of training epochs\n",
    "max_epochs = 100\n",
    "# set an early stopping mechanism\n",
    "early_stopping = tf.keras.callbacks.EarlyStopping(patience=2)\n",
    "# fit the model\n",
    "model.fit(train_inputs, # train inputs\n",
    "          train_targets, # train targets\n",
    "          batch_size=batch_size, # batch size\n",
    "epochs=max_epochs,\n",
    "callbacks=[early_stopping], # early stopping\n",
    "validation_data=(validation_inputs, validation_targets), # validation data\n",
    "verbose = 2 # making sure we get enough information about the training process\n",
    "          )  "
   ]
  },
  {
   "cell_type": "markdown",
   "metadata": {},
   "source": [
    "### Testing the Model"
   ]
  },
  {
   "cell_type": "code",
   "execution_count": 4,
   "metadata": {},
   "outputs": [
    {
     "name": "stdout",
     "output_type": "stream",
     "text": [
      "448/448 [==============================] - 0s 323us/sample - loss: 0.3122 - accuracy: 0.8326\n",
      "\n",
      "Test loss: 0.31. Test accuracy: 83.26%\n"
     ]
    }
   ],
   "source": [
    "test_loss, test_accuracy = model.evaluate(test_inputs, test_targets)\n",
    "print('\\nTest loss: {0:.2f}. Test accuracy: {1:.2f}%'.format(test_loss, test_accuracy*100.))"
   ]
  },
  {
   "cell_type": "code",
   "execution_count": null,
   "metadata": {},
   "outputs": [],
   "source": []
  }
 ],
 "metadata": {
  "kernelspec": {
   "display_name": "Python [conda env:py3-TF2.0]",
   "language": "python",
   "name": "conda-env-py3-TF2.0-py"
  },
  "language_info": {
   "codemirror_mode": {
    "name": "ipython",
    "version": 3
   },
   "file_extension": ".py",
   "mimetype": "text/x-python",
   "name": "python",
   "nbconvert_exporter": "python",
   "pygments_lexer": "ipython3",
   "version": "3.7.9"
  }
 },
 "nbformat": 4,
 "nbformat_minor": 4
}
