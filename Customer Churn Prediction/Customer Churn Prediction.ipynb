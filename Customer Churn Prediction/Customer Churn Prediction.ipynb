{
 "cells": [
  {
   "cell_type": "markdown",
   "metadata": {},
   "source": [
    "### Business Case"
   ]
  },
  {
   "cell_type": "markdown",
   "metadata": {},
   "source": [
    "A telecommunications company is concerned about the number of customers leaving their land-line business for cable competitors. I will use a telecommunications dataset for predicting customer churn. This is a historical customer dataset where each row represents one customer. Usually, it is less expensive to keep customers, than to acquire new ones, so the focus is to predict the customers who will stay with the company.\n",
    "\n",
    "The dataset includes information about:\n",
    "\n",
    "- Customers who left within the last month – the column is called Churn\n",
    "- Services that each customer has signed up for – phone, multiple lines, internet, online security, online backup, device protection, tech support, and streaming TV and movies\n",
    "- Customer account information – how long they had been a customer, contract, payment method, paperless billing, monthly charges, and total charges\n",
    "- Demographic info about customers – gender, age, and if they have partners and dependents\n"
   ]
  },
  {
   "cell_type": "code",
   "execution_count": 1,
   "metadata": {},
   "outputs": [],
   "source": [
    "import pandas as pd\n",
    "import numpy as np\n",
    "import matplotlib.pyplot as plt\n",
    "import seaborn as sns\n",
    "from scipy import stats\n",
    "from sklearn.linear_model import LogisticRegression\n",
    "from sklearn.model_selection import train_test_split\n",
    "from sklearn.metrics import accuracy_score, confusion_matrix\n",
    "from sklearn.neighbors import KNeighborsClassifier\n",
    "from sklearn.svm import SVC\n",
    "from sklearn.tree import DecisionTreeClassifier\n",
    "from sklearn.ensemble import RandomForestClassifier\n",
    "from sklearn.metrics import roc_curve\n",
    "%matplotlib inline "
   ]
  },
  {
   "cell_type": "code",
   "execution_count": 2,
   "metadata": {},
   "outputs": [],
   "source": [
    "df = pd.read_csv('ChurnData.csv')"
   ]
  },
  {
   "cell_type": "code",
   "execution_count": 3,
   "metadata": {},
   "outputs": [],
   "source": [
    "pd.set_option('display.max_columns', None)"
   ]
  },
  {
   "cell_type": "code",
   "execution_count": 4,
   "metadata": {},
   "outputs": [
    {
     "data": {
      "text/html": [
       "<div>\n",
       "<style scoped>\n",
       "    .dataframe tbody tr th:only-of-type {\n",
       "        vertical-align: middle;\n",
       "    }\n",
       "\n",
       "    .dataframe tbody tr th {\n",
       "        vertical-align: top;\n",
       "    }\n",
       "\n",
       "    .dataframe thead th {\n",
       "        text-align: right;\n",
       "    }\n",
       "</style>\n",
       "<table border=\"1\" class=\"dataframe\">\n",
       "  <thead>\n",
       "    <tr style=\"text-align: right;\">\n",
       "      <th></th>\n",
       "      <th>tenure</th>\n",
       "      <th>age</th>\n",
       "      <th>address</th>\n",
       "      <th>income</th>\n",
       "      <th>ed</th>\n",
       "      <th>employ</th>\n",
       "      <th>equip</th>\n",
       "      <th>callcard</th>\n",
       "      <th>wireless</th>\n",
       "      <th>longmon</th>\n",
       "      <th>tollmon</th>\n",
       "      <th>equipmon</th>\n",
       "      <th>cardmon</th>\n",
       "      <th>wiremon</th>\n",
       "      <th>longten</th>\n",
       "      <th>tollten</th>\n",
       "      <th>cardten</th>\n",
       "      <th>voice</th>\n",
       "      <th>pager</th>\n",
       "      <th>internet</th>\n",
       "      <th>callwait</th>\n",
       "      <th>confer</th>\n",
       "      <th>ebill</th>\n",
       "      <th>loglong</th>\n",
       "      <th>logtoll</th>\n",
       "      <th>lninc</th>\n",
       "      <th>custcat</th>\n",
       "      <th>churn</th>\n",
       "    </tr>\n",
       "  </thead>\n",
       "  <tbody>\n",
       "    <tr>\n",
       "      <th>0</th>\n",
       "      <td>11.0</td>\n",
       "      <td>33.0</td>\n",
       "      <td>7.0</td>\n",
       "      <td>136.0</td>\n",
       "      <td>5.0</td>\n",
       "      <td>5.0</td>\n",
       "      <td>0.0</td>\n",
       "      <td>1.0</td>\n",
       "      <td>1.0</td>\n",
       "      <td>4.40</td>\n",
       "      <td>20.75</td>\n",
       "      <td>0.0</td>\n",
       "      <td>15.25</td>\n",
       "      <td>35.7</td>\n",
       "      <td>42.00</td>\n",
       "      <td>211.45</td>\n",
       "      <td>125.0</td>\n",
       "      <td>1.0</td>\n",
       "      <td>1.0</td>\n",
       "      <td>0.0</td>\n",
       "      <td>1.0</td>\n",
       "      <td>1.0</td>\n",
       "      <td>0.0</td>\n",
       "      <td>1.482</td>\n",
       "      <td>3.033</td>\n",
       "      <td>4.913</td>\n",
       "      <td>4.0</td>\n",
       "      <td>1.0</td>\n",
       "    </tr>\n",
       "    <tr>\n",
       "      <th>1</th>\n",
       "      <td>33.0</td>\n",
       "      <td>33.0</td>\n",
       "      <td>12.0</td>\n",
       "      <td>33.0</td>\n",
       "      <td>2.0</td>\n",
       "      <td>0.0</td>\n",
       "      <td>0.0</td>\n",
       "      <td>0.0</td>\n",
       "      <td>0.0</td>\n",
       "      <td>9.45</td>\n",
       "      <td>0.00</td>\n",
       "      <td>0.0</td>\n",
       "      <td>0.00</td>\n",
       "      <td>0.0</td>\n",
       "      <td>288.80</td>\n",
       "      <td>0.00</td>\n",
       "      <td>0.0</td>\n",
       "      <td>0.0</td>\n",
       "      <td>0.0</td>\n",
       "      <td>0.0</td>\n",
       "      <td>0.0</td>\n",
       "      <td>0.0</td>\n",
       "      <td>0.0</td>\n",
       "      <td>2.246</td>\n",
       "      <td>3.240</td>\n",
       "      <td>3.497</td>\n",
       "      <td>1.0</td>\n",
       "      <td>1.0</td>\n",
       "    </tr>\n",
       "    <tr>\n",
       "      <th>2</th>\n",
       "      <td>23.0</td>\n",
       "      <td>30.0</td>\n",
       "      <td>9.0</td>\n",
       "      <td>30.0</td>\n",
       "      <td>1.0</td>\n",
       "      <td>2.0</td>\n",
       "      <td>0.0</td>\n",
       "      <td>0.0</td>\n",
       "      <td>0.0</td>\n",
       "      <td>6.30</td>\n",
       "      <td>0.00</td>\n",
       "      <td>0.0</td>\n",
       "      <td>0.00</td>\n",
       "      <td>0.0</td>\n",
       "      <td>157.05</td>\n",
       "      <td>0.00</td>\n",
       "      <td>0.0</td>\n",
       "      <td>0.0</td>\n",
       "      <td>0.0</td>\n",
       "      <td>0.0</td>\n",
       "      <td>0.0</td>\n",
       "      <td>1.0</td>\n",
       "      <td>0.0</td>\n",
       "      <td>1.841</td>\n",
       "      <td>3.240</td>\n",
       "      <td>3.401</td>\n",
       "      <td>3.0</td>\n",
       "      <td>0.0</td>\n",
       "    </tr>\n",
       "    <tr>\n",
       "      <th>3</th>\n",
       "      <td>38.0</td>\n",
       "      <td>35.0</td>\n",
       "      <td>5.0</td>\n",
       "      <td>76.0</td>\n",
       "      <td>2.0</td>\n",
       "      <td>10.0</td>\n",
       "      <td>1.0</td>\n",
       "      <td>1.0</td>\n",
       "      <td>1.0</td>\n",
       "      <td>6.05</td>\n",
       "      <td>45.00</td>\n",
       "      <td>50.1</td>\n",
       "      <td>23.25</td>\n",
       "      <td>64.9</td>\n",
       "      <td>239.55</td>\n",
       "      <td>1873.05</td>\n",
       "      <td>880.0</td>\n",
       "      <td>1.0</td>\n",
       "      <td>1.0</td>\n",
       "      <td>1.0</td>\n",
       "      <td>1.0</td>\n",
       "      <td>1.0</td>\n",
       "      <td>1.0</td>\n",
       "      <td>1.800</td>\n",
       "      <td>3.807</td>\n",
       "      <td>4.331</td>\n",
       "      <td>4.0</td>\n",
       "      <td>0.0</td>\n",
       "    </tr>\n",
       "    <tr>\n",
       "      <th>4</th>\n",
       "      <td>7.0</td>\n",
       "      <td>35.0</td>\n",
       "      <td>14.0</td>\n",
       "      <td>80.0</td>\n",
       "      <td>2.0</td>\n",
       "      <td>15.0</td>\n",
       "      <td>0.0</td>\n",
       "      <td>1.0</td>\n",
       "      <td>0.0</td>\n",
       "      <td>7.10</td>\n",
       "      <td>22.00</td>\n",
       "      <td>0.0</td>\n",
       "      <td>23.75</td>\n",
       "      <td>0.0</td>\n",
       "      <td>47.45</td>\n",
       "      <td>166.10</td>\n",
       "      <td>145.0</td>\n",
       "      <td>1.0</td>\n",
       "      <td>0.0</td>\n",
       "      <td>0.0</td>\n",
       "      <td>1.0</td>\n",
       "      <td>1.0</td>\n",
       "      <td>0.0</td>\n",
       "      <td>1.960</td>\n",
       "      <td>3.091</td>\n",
       "      <td>4.382</td>\n",
       "      <td>3.0</td>\n",
       "      <td>0.0</td>\n",
       "    </tr>\n",
       "  </tbody>\n",
       "</table>\n",
       "</div>"
      ],
      "text/plain": [
       "   tenure   age  address  income   ed  employ  equip  callcard  wireless  \\\n",
       "0    11.0  33.0      7.0   136.0  5.0     5.0    0.0       1.0       1.0   \n",
       "1    33.0  33.0     12.0    33.0  2.0     0.0    0.0       0.0       0.0   \n",
       "2    23.0  30.0      9.0    30.0  1.0     2.0    0.0       0.0       0.0   \n",
       "3    38.0  35.0      5.0    76.0  2.0    10.0    1.0       1.0       1.0   \n",
       "4     7.0  35.0     14.0    80.0  2.0    15.0    0.0       1.0       0.0   \n",
       "\n",
       "   longmon  tollmon  equipmon  cardmon  wiremon  longten  tollten  cardten  \\\n",
       "0     4.40    20.75       0.0    15.25     35.7    42.00   211.45    125.0   \n",
       "1     9.45     0.00       0.0     0.00      0.0   288.80     0.00      0.0   \n",
       "2     6.30     0.00       0.0     0.00      0.0   157.05     0.00      0.0   \n",
       "3     6.05    45.00      50.1    23.25     64.9   239.55  1873.05    880.0   \n",
       "4     7.10    22.00       0.0    23.75      0.0    47.45   166.10    145.0   \n",
       "\n",
       "   voice  pager  internet  callwait  confer  ebill  loglong  logtoll  lninc  \\\n",
       "0    1.0    1.0       0.0       1.0     1.0    0.0    1.482    3.033  4.913   \n",
       "1    0.0    0.0       0.0       0.0     0.0    0.0    2.246    3.240  3.497   \n",
       "2    0.0    0.0       0.0       0.0     1.0    0.0    1.841    3.240  3.401   \n",
       "3    1.0    1.0       1.0       1.0     1.0    1.0    1.800    3.807  4.331   \n",
       "4    1.0    0.0       0.0       1.0     1.0    0.0    1.960    3.091  4.382   \n",
       "\n",
       "   custcat  churn  \n",
       "0      4.0    1.0  \n",
       "1      1.0    1.0  \n",
       "2      3.0    0.0  \n",
       "3      4.0    0.0  \n",
       "4      3.0    0.0  "
      ]
     },
     "execution_count": 4,
     "metadata": {},
     "output_type": "execute_result"
    }
   ],
   "source": [
    "df.head()"
   ]
  },
  {
   "cell_type": "code",
   "execution_count": 5,
   "metadata": {},
   "outputs": [
    {
     "data": {
      "text/plain": [
       "(200, 28)"
      ]
     },
     "execution_count": 5,
     "metadata": {},
     "output_type": "execute_result"
    }
   ],
   "source": [
    "df.shape"
   ]
  },
  {
   "cell_type": "markdown",
   "metadata": {},
   "source": [
    "### Exploratory Data Analysis"
   ]
  },
  {
   "cell_type": "code",
   "execution_count": 6,
   "metadata": {},
   "outputs": [
    {
     "data": {
      "text/plain": [
       "tenure      0\n",
       "age         0\n",
       "address     0\n",
       "income      0\n",
       "ed          0\n",
       "employ      0\n",
       "equip       0\n",
       "callcard    0\n",
       "wireless    0\n",
       "longmon     0\n",
       "tollmon     0\n",
       "equipmon    0\n",
       "cardmon     0\n",
       "wiremon     0\n",
       "longten     0\n",
       "tollten     0\n",
       "cardten     0\n",
       "voice       0\n",
       "pager       0\n",
       "internet    0\n",
       "callwait    0\n",
       "confer      0\n",
       "ebill       0\n",
       "loglong     0\n",
       "logtoll     0\n",
       "lninc       0\n",
       "custcat     0\n",
       "churn       0\n",
       "dtype: int64"
      ]
     },
     "execution_count": 6,
     "metadata": {},
     "output_type": "execute_result"
    }
   ],
   "source": [
    "df.isnull().sum()"
   ]
  },
  {
   "cell_type": "code",
   "execution_count": 7,
   "metadata": {},
   "outputs": [
    {
     "data": {
      "text/html": [
       "<div>\n",
       "<style scoped>\n",
       "    .dataframe tbody tr th:only-of-type {\n",
       "        vertical-align: middle;\n",
       "    }\n",
       "\n",
       "    .dataframe tbody tr th {\n",
       "        vertical-align: top;\n",
       "    }\n",
       "\n",
       "    .dataframe thead th {\n",
       "        text-align: right;\n",
       "    }\n",
       "</style>\n",
       "<table border=\"1\" class=\"dataframe\">\n",
       "  <thead>\n",
       "    <tr style=\"text-align: right;\">\n",
       "      <th></th>\n",
       "      <th>count</th>\n",
       "      <th>mean</th>\n",
       "      <th>std</th>\n",
       "      <th>min</th>\n",
       "      <th>25%</th>\n",
       "      <th>50%</th>\n",
       "      <th>75%</th>\n",
       "      <th>max</th>\n",
       "    </tr>\n",
       "  </thead>\n",
       "  <tbody>\n",
       "    <tr>\n",
       "      <th>tenure</th>\n",
       "      <td>200.0</td>\n",
       "      <td>35.505000</td>\n",
       "      <td>21.640971</td>\n",
       "      <td>1.000</td>\n",
       "      <td>16.75000</td>\n",
       "      <td>33.500</td>\n",
       "      <td>55.2500</td>\n",
       "      <td>72.000</td>\n",
       "    </tr>\n",
       "    <tr>\n",
       "      <th>age</th>\n",
       "      <td>200.0</td>\n",
       "      <td>41.165000</td>\n",
       "      <td>13.076803</td>\n",
       "      <td>19.000</td>\n",
       "      <td>31.00000</td>\n",
       "      <td>40.000</td>\n",
       "      <td>51.0000</td>\n",
       "      <td>76.000</td>\n",
       "    </tr>\n",
       "    <tr>\n",
       "      <th>address</th>\n",
       "      <td>200.0</td>\n",
       "      <td>11.650000</td>\n",
       "      <td>10.158419</td>\n",
       "      <td>0.000</td>\n",
       "      <td>3.00000</td>\n",
       "      <td>9.000</td>\n",
       "      <td>18.0000</td>\n",
       "      <td>48.000</td>\n",
       "    </tr>\n",
       "    <tr>\n",
       "      <th>income</th>\n",
       "      <td>200.0</td>\n",
       "      <td>75.130000</td>\n",
       "      <td>128.430468</td>\n",
       "      <td>9.000</td>\n",
       "      <td>31.00000</td>\n",
       "      <td>48.000</td>\n",
       "      <td>80.0000</td>\n",
       "      <td>1668.000</td>\n",
       "    </tr>\n",
       "    <tr>\n",
       "      <th>ed</th>\n",
       "      <td>200.0</td>\n",
       "      <td>2.825000</td>\n",
       "      <td>1.285550</td>\n",
       "      <td>1.000</td>\n",
       "      <td>2.00000</td>\n",
       "      <td>3.000</td>\n",
       "      <td>4.0000</td>\n",
       "      <td>5.000</td>\n",
       "    </tr>\n",
       "    <tr>\n",
       "      <th>employ</th>\n",
       "      <td>200.0</td>\n",
       "      <td>10.225000</td>\n",
       "      <td>8.957430</td>\n",
       "      <td>0.000</td>\n",
       "      <td>3.00000</td>\n",
       "      <td>7.500</td>\n",
       "      <td>17.0000</td>\n",
       "      <td>44.000</td>\n",
       "    </tr>\n",
       "    <tr>\n",
       "      <th>equip</th>\n",
       "      <td>200.0</td>\n",
       "      <td>0.425000</td>\n",
       "      <td>0.495584</td>\n",
       "      <td>0.000</td>\n",
       "      <td>0.00000</td>\n",
       "      <td>0.000</td>\n",
       "      <td>1.0000</td>\n",
       "      <td>1.000</td>\n",
       "    </tr>\n",
       "    <tr>\n",
       "      <th>callcard</th>\n",
       "      <td>200.0</td>\n",
       "      <td>0.705000</td>\n",
       "      <td>0.457187</td>\n",
       "      <td>0.000</td>\n",
       "      <td>0.00000</td>\n",
       "      <td>1.000</td>\n",
       "      <td>1.0000</td>\n",
       "      <td>1.000</td>\n",
       "    </tr>\n",
       "    <tr>\n",
       "      <th>wireless</th>\n",
       "      <td>200.0</td>\n",
       "      <td>0.290000</td>\n",
       "      <td>0.454901</td>\n",
       "      <td>0.000</td>\n",
       "      <td>0.00000</td>\n",
       "      <td>0.000</td>\n",
       "      <td>1.0000</td>\n",
       "      <td>1.000</td>\n",
       "    </tr>\n",
       "    <tr>\n",
       "      <th>longmon</th>\n",
       "      <td>200.0</td>\n",
       "      <td>11.789250</td>\n",
       "      <td>9.887250</td>\n",
       "      <td>1.100</td>\n",
       "      <td>5.53750</td>\n",
       "      <td>8.250</td>\n",
       "      <td>14.3000</td>\n",
       "      <td>62.300</td>\n",
       "    </tr>\n",
       "    <tr>\n",
       "      <th>tollmon</th>\n",
       "      <td>200.0</td>\n",
       "      <td>13.240000</td>\n",
       "      <td>15.643842</td>\n",
       "      <td>0.000</td>\n",
       "      <td>0.00000</td>\n",
       "      <td>0.000</td>\n",
       "      <td>24.7500</td>\n",
       "      <td>68.500</td>\n",
       "    </tr>\n",
       "    <tr>\n",
       "      <th>equipmon</th>\n",
       "      <td>200.0</td>\n",
       "      <td>15.783250</td>\n",
       "      <td>19.557103</td>\n",
       "      <td>0.000</td>\n",
       "      <td>0.00000</td>\n",
       "      <td>0.000</td>\n",
       "      <td>33.0125</td>\n",
       "      <td>63.250</td>\n",
       "    </tr>\n",
       "    <tr>\n",
       "      <th>cardmon</th>\n",
       "      <td>200.0</td>\n",
       "      <td>14.358750</td>\n",
       "      <td>14.781269</td>\n",
       "      <td>0.000</td>\n",
       "      <td>0.00000</td>\n",
       "      <td>12.500</td>\n",
       "      <td>20.7500</td>\n",
       "      <td>109.250</td>\n",
       "    </tr>\n",
       "    <tr>\n",
       "      <th>wiremon</th>\n",
       "      <td>200.0</td>\n",
       "      <td>12.217000</td>\n",
       "      <td>21.632600</td>\n",
       "      <td>0.000</td>\n",
       "      <td>0.00000</td>\n",
       "      <td>0.000</td>\n",
       "      <td>23.4625</td>\n",
       "      <td>109.700</td>\n",
       "    </tr>\n",
       "    <tr>\n",
       "      <th>longten</th>\n",
       "      <td>200.0</td>\n",
       "      <td>577.770750</td>\n",
       "      <td>746.608653</td>\n",
       "      <td>1.100</td>\n",
       "      <td>79.33750</td>\n",
       "      <td>289.525</td>\n",
       "      <td>806.7625</td>\n",
       "      <td>4333.000</td>\n",
       "    </tr>\n",
       "    <tr>\n",
       "      <th>tollten</th>\n",
       "      <td>200.0</td>\n",
       "      <td>507.007500</td>\n",
       "      <td>820.027858</td>\n",
       "      <td>0.000</td>\n",
       "      <td>0.00000</td>\n",
       "      <td>0.000</td>\n",
       "      <td>724.1625</td>\n",
       "      <td>4938.600</td>\n",
       "    </tr>\n",
       "    <tr>\n",
       "      <th>cardten</th>\n",
       "      <td>200.0</td>\n",
       "      <td>650.663750</td>\n",
       "      <td>941.470689</td>\n",
       "      <td>0.000</td>\n",
       "      <td>0.00000</td>\n",
       "      <td>342.500</td>\n",
       "      <td>921.2500</td>\n",
       "      <td>7515.000</td>\n",
       "    </tr>\n",
       "    <tr>\n",
       "      <th>voice</th>\n",
       "      <td>200.0</td>\n",
       "      <td>0.295000</td>\n",
       "      <td>0.457187</td>\n",
       "      <td>0.000</td>\n",
       "      <td>0.00000</td>\n",
       "      <td>0.000</td>\n",
       "      <td>1.0000</td>\n",
       "      <td>1.000</td>\n",
       "    </tr>\n",
       "    <tr>\n",
       "      <th>pager</th>\n",
       "      <td>200.0</td>\n",
       "      <td>0.275000</td>\n",
       "      <td>0.447635</td>\n",
       "      <td>0.000</td>\n",
       "      <td>0.00000</td>\n",
       "      <td>0.000</td>\n",
       "      <td>1.0000</td>\n",
       "      <td>1.000</td>\n",
       "    </tr>\n",
       "    <tr>\n",
       "      <th>internet</th>\n",
       "      <td>200.0</td>\n",
       "      <td>0.440000</td>\n",
       "      <td>0.497633</td>\n",
       "      <td>0.000</td>\n",
       "      <td>0.00000</td>\n",
       "      <td>0.000</td>\n",
       "      <td>1.0000</td>\n",
       "      <td>1.000</td>\n",
       "    </tr>\n",
       "    <tr>\n",
       "      <th>callwait</th>\n",
       "      <td>200.0</td>\n",
       "      <td>0.455000</td>\n",
       "      <td>0.499220</td>\n",
       "      <td>0.000</td>\n",
       "      <td>0.00000</td>\n",
       "      <td>0.000</td>\n",
       "      <td>1.0000</td>\n",
       "      <td>1.000</td>\n",
       "    </tr>\n",
       "    <tr>\n",
       "      <th>confer</th>\n",
       "      <td>200.0</td>\n",
       "      <td>0.460000</td>\n",
       "      <td>0.499648</td>\n",
       "      <td>0.000</td>\n",
       "      <td>0.00000</td>\n",
       "      <td>0.000</td>\n",
       "      <td>1.0000</td>\n",
       "      <td>1.000</td>\n",
       "    </tr>\n",
       "    <tr>\n",
       "      <th>ebill</th>\n",
       "      <td>200.0</td>\n",
       "      <td>0.440000</td>\n",
       "      <td>0.497633</td>\n",
       "      <td>0.000</td>\n",
       "      <td>0.00000</td>\n",
       "      <td>0.000</td>\n",
       "      <td>1.0000</td>\n",
       "      <td>1.000</td>\n",
       "    </tr>\n",
       "    <tr>\n",
       "      <th>loglong</th>\n",
       "      <td>200.0</td>\n",
       "      <td>2.193285</td>\n",
       "      <td>0.731282</td>\n",
       "      <td>0.095</td>\n",
       "      <td>1.71175</td>\n",
       "      <td>2.110</td>\n",
       "      <td>2.6600</td>\n",
       "      <td>4.132</td>\n",
       "    </tr>\n",
       "    <tr>\n",
       "      <th>logtoll</th>\n",
       "      <td>200.0</td>\n",
       "      <td>3.229185</td>\n",
       "      <td>0.281019</td>\n",
       "      <td>1.749</td>\n",
       "      <td>3.22650</td>\n",
       "      <td>3.240</td>\n",
       "      <td>3.2400</td>\n",
       "      <td>4.227</td>\n",
       "    </tr>\n",
       "    <tr>\n",
       "      <th>lninc</th>\n",
       "      <td>200.0</td>\n",
       "      <td>3.951015</td>\n",
       "      <td>0.752553</td>\n",
       "      <td>2.197</td>\n",
       "      <td>3.43400</td>\n",
       "      <td>3.871</td>\n",
       "      <td>4.3820</td>\n",
       "      <td>7.419</td>\n",
       "    </tr>\n",
       "    <tr>\n",
       "      <th>custcat</th>\n",
       "      <td>200.0</td>\n",
       "      <td>2.475000</td>\n",
       "      <td>1.079445</td>\n",
       "      <td>1.000</td>\n",
       "      <td>2.00000</td>\n",
       "      <td>2.000</td>\n",
       "      <td>3.0000</td>\n",
       "      <td>4.000</td>\n",
       "    </tr>\n",
       "    <tr>\n",
       "      <th>churn</th>\n",
       "      <td>200.0</td>\n",
       "      <td>0.290000</td>\n",
       "      <td>0.454901</td>\n",
       "      <td>0.000</td>\n",
       "      <td>0.00000</td>\n",
       "      <td>0.000</td>\n",
       "      <td>1.0000</td>\n",
       "      <td>1.000</td>\n",
       "    </tr>\n",
       "  </tbody>\n",
       "</table>\n",
       "</div>"
      ],
      "text/plain": [
       "          count        mean         std     min       25%      50%       75%  \\\n",
       "tenure    200.0   35.505000   21.640971   1.000  16.75000   33.500   55.2500   \n",
       "age       200.0   41.165000   13.076803  19.000  31.00000   40.000   51.0000   \n",
       "address   200.0   11.650000   10.158419   0.000   3.00000    9.000   18.0000   \n",
       "income    200.0   75.130000  128.430468   9.000  31.00000   48.000   80.0000   \n",
       "ed        200.0    2.825000    1.285550   1.000   2.00000    3.000    4.0000   \n",
       "employ    200.0   10.225000    8.957430   0.000   3.00000    7.500   17.0000   \n",
       "equip     200.0    0.425000    0.495584   0.000   0.00000    0.000    1.0000   \n",
       "callcard  200.0    0.705000    0.457187   0.000   0.00000    1.000    1.0000   \n",
       "wireless  200.0    0.290000    0.454901   0.000   0.00000    0.000    1.0000   \n",
       "longmon   200.0   11.789250    9.887250   1.100   5.53750    8.250   14.3000   \n",
       "tollmon   200.0   13.240000   15.643842   0.000   0.00000    0.000   24.7500   \n",
       "equipmon  200.0   15.783250   19.557103   0.000   0.00000    0.000   33.0125   \n",
       "cardmon   200.0   14.358750   14.781269   0.000   0.00000   12.500   20.7500   \n",
       "wiremon   200.0   12.217000   21.632600   0.000   0.00000    0.000   23.4625   \n",
       "longten   200.0  577.770750  746.608653   1.100  79.33750  289.525  806.7625   \n",
       "tollten   200.0  507.007500  820.027858   0.000   0.00000    0.000  724.1625   \n",
       "cardten   200.0  650.663750  941.470689   0.000   0.00000  342.500  921.2500   \n",
       "voice     200.0    0.295000    0.457187   0.000   0.00000    0.000    1.0000   \n",
       "pager     200.0    0.275000    0.447635   0.000   0.00000    0.000    1.0000   \n",
       "internet  200.0    0.440000    0.497633   0.000   0.00000    0.000    1.0000   \n",
       "callwait  200.0    0.455000    0.499220   0.000   0.00000    0.000    1.0000   \n",
       "confer    200.0    0.460000    0.499648   0.000   0.00000    0.000    1.0000   \n",
       "ebill     200.0    0.440000    0.497633   0.000   0.00000    0.000    1.0000   \n",
       "loglong   200.0    2.193285    0.731282   0.095   1.71175    2.110    2.6600   \n",
       "logtoll   200.0    3.229185    0.281019   1.749   3.22650    3.240    3.2400   \n",
       "lninc     200.0    3.951015    0.752553   2.197   3.43400    3.871    4.3820   \n",
       "custcat   200.0    2.475000    1.079445   1.000   2.00000    2.000    3.0000   \n",
       "churn     200.0    0.290000    0.454901   0.000   0.00000    0.000    1.0000   \n",
       "\n",
       "               max  \n",
       "tenure      72.000  \n",
       "age         76.000  \n",
       "address     48.000  \n",
       "income    1668.000  \n",
       "ed           5.000  \n",
       "employ      44.000  \n",
       "equip        1.000  \n",
       "callcard     1.000  \n",
       "wireless     1.000  \n",
       "longmon     62.300  \n",
       "tollmon     68.500  \n",
       "equipmon    63.250  \n",
       "cardmon    109.250  \n",
       "wiremon    109.700  \n",
       "longten   4333.000  \n",
       "tollten   4938.600  \n",
       "cardten   7515.000  \n",
       "voice        1.000  \n",
       "pager        1.000  \n",
       "internet     1.000  \n",
       "callwait     1.000  \n",
       "confer       1.000  \n",
       "ebill        1.000  \n",
       "loglong      4.132  \n",
       "logtoll      4.227  \n",
       "lninc        7.419  \n",
       "custcat      4.000  \n",
       "churn        1.000  "
      ]
     },
     "execution_count": 7,
     "metadata": {},
     "output_type": "execute_result"
    }
   ],
   "source": [
    "df.describe().T"
   ]
  },
  {
   "cell_type": "code",
   "execution_count": 8,
   "metadata": {},
   "outputs": [
    {
     "data": {
      "text/html": [
       "<div>\n",
       "<style scoped>\n",
       "    .dataframe tbody tr th:only-of-type {\n",
       "        vertical-align: middle;\n",
       "    }\n",
       "\n",
       "    .dataframe tbody tr th {\n",
       "        vertical-align: top;\n",
       "    }\n",
       "\n",
       "    .dataframe thead th {\n",
       "        text-align: right;\n",
       "    }\n",
       "</style>\n",
       "<table border=\"1\" class=\"dataframe\">\n",
       "  <thead>\n",
       "    <tr style=\"text-align: right;\">\n",
       "      <th></th>\n",
       "      <th>tenure</th>\n",
       "      <th>age</th>\n",
       "      <th>address</th>\n",
       "      <th>income</th>\n",
       "      <th>ed</th>\n",
       "      <th>employ</th>\n",
       "      <th>equip</th>\n",
       "      <th>callcard</th>\n",
       "      <th>wireless</th>\n",
       "      <th>longmon</th>\n",
       "      <th>tollmon</th>\n",
       "      <th>equipmon</th>\n",
       "      <th>cardmon</th>\n",
       "      <th>wiremon</th>\n",
       "      <th>longten</th>\n",
       "      <th>tollten</th>\n",
       "      <th>cardten</th>\n",
       "      <th>voice</th>\n",
       "      <th>pager</th>\n",
       "      <th>internet</th>\n",
       "      <th>callwait</th>\n",
       "      <th>confer</th>\n",
       "      <th>ebill</th>\n",
       "      <th>loglong</th>\n",
       "      <th>logtoll</th>\n",
       "      <th>lninc</th>\n",
       "      <th>custcat</th>\n",
       "      <th>churn</th>\n",
       "    </tr>\n",
       "  </thead>\n",
       "  <tbody>\n",
       "    <tr>\n",
       "      <th>tenure</th>\n",
       "      <td>1.000000</td>\n",
       "      <td>0.431802</td>\n",
       "      <td>0.456328</td>\n",
       "      <td>0.109383</td>\n",
       "      <td>-0.070503</td>\n",
       "      <td>0.445755</td>\n",
       "      <td>-0.117102</td>\n",
       "      <td>0.426530</td>\n",
       "      <td>-0.070590</td>\n",
       "      <td>0.763134</td>\n",
       "      <td>0.100214</td>\n",
       "      <td>-0.043274</td>\n",
       "      <td>0.489857</td>\n",
       "      <td>0.043067</td>\n",
       "      <td>0.796355</td>\n",
       "      <td>0.398869</td>\n",
       "      <td>0.676920</td>\n",
       "      <td>-0.050686</td>\n",
       "      <td>0.018791</td>\n",
       "      <td>-0.164921</td>\n",
       "      <td>-0.009747</td>\n",
       "      <td>0.080650</td>\n",
       "      <td>-0.099128</td>\n",
       "      <td>0.864388</td>\n",
       "      <td>0.310045</td>\n",
       "      <td>0.246353</td>\n",
       "      <td>0.134237</td>\n",
       "      <td>-0.376860</td>\n",
       "    </tr>\n",
       "    <tr>\n",
       "      <th>age</th>\n",
       "      <td>0.431802</td>\n",
       "      <td>1.000000</td>\n",
       "      <td>0.746566</td>\n",
       "      <td>0.211275</td>\n",
       "      <td>-0.071509</td>\n",
       "      <td>0.622553</td>\n",
       "      <td>-0.071357</td>\n",
       "      <td>0.170404</td>\n",
       "      <td>-0.065527</td>\n",
       "      <td>0.373547</td>\n",
       "      <td>0.053595</td>\n",
       "      <td>-0.030402</td>\n",
       "      <td>0.203202</td>\n",
       "      <td>-0.003685</td>\n",
       "      <td>0.393370</td>\n",
       "      <td>0.187221</td>\n",
       "      <td>0.336903</td>\n",
       "      <td>0.019555</td>\n",
       "      <td>0.006803</td>\n",
       "      <td>-0.078395</td>\n",
       "      <td>0.020002</td>\n",
       "      <td>0.030625</td>\n",
       "      <td>-0.048279</td>\n",
       "      <td>0.379413</td>\n",
       "      <td>0.093600</td>\n",
       "      <td>0.313359</td>\n",
       "      <td>0.041055</td>\n",
       "      <td>-0.287697</td>\n",
       "    </tr>\n",
       "    <tr>\n",
       "      <th>address</th>\n",
       "      <td>0.456328</td>\n",
       "      <td>0.746566</td>\n",
       "      <td>1.000000</td>\n",
       "      <td>0.132807</td>\n",
       "      <td>-0.145550</td>\n",
       "      <td>0.520926</td>\n",
       "      <td>-0.148977</td>\n",
       "      <td>0.209204</td>\n",
       "      <td>-0.146478</td>\n",
       "      <td>0.421782</td>\n",
       "      <td>-0.015564</td>\n",
       "      <td>-0.125212</td>\n",
       "      <td>0.297395</td>\n",
       "      <td>-0.113143</td>\n",
       "      <td>0.447256</td>\n",
       "      <td>0.129141</td>\n",
       "      <td>0.406964</td>\n",
       "      <td>-0.069627</td>\n",
       "      <td>-0.105812</td>\n",
       "      <td>-0.191058</td>\n",
       "      <td>-0.019967</td>\n",
       "      <td>-0.030494</td>\n",
       "      <td>-0.172171</td>\n",
       "      <td>0.409357</td>\n",
       "      <td>0.018386</td>\n",
       "      <td>0.212929</td>\n",
       "      <td>-0.016841</td>\n",
       "      <td>-0.260659</td>\n",
       "    </tr>\n",
       "    <tr>\n",
       "      <th>income</th>\n",
       "      <td>0.109383</td>\n",
       "      <td>0.211275</td>\n",
       "      <td>0.132807</td>\n",
       "      <td>1.000000</td>\n",
       "      <td>0.141241</td>\n",
       "      <td>0.345161</td>\n",
       "      <td>-0.010741</td>\n",
       "      <td>-0.019969</td>\n",
       "      <td>-0.029635</td>\n",
       "      <td>0.041808</td>\n",
       "      <td>-0.003701</td>\n",
       "      <td>0.000275</td>\n",
       "      <td>-0.013513</td>\n",
       "      <td>-0.027998</td>\n",
       "      <td>0.048374</td>\n",
       "      <td>-0.000262</td>\n",
       "      <td>0.019358</td>\n",
       "      <td>0.085525</td>\n",
       "      <td>0.056977</td>\n",
       "      <td>0.102809</td>\n",
       "      <td>0.081133</td>\n",
       "      <td>-0.031556</td>\n",
       "      <td>-0.041392</td>\n",
       "      <td>0.065595</td>\n",
       "      <td>-0.156498</td>\n",
       "      <td>0.680313</td>\n",
       "      <td>0.030725</td>\n",
       "      <td>-0.090790</td>\n",
       "    </tr>\n",
       "    <tr>\n",
       "      <th>ed</th>\n",
       "      <td>-0.070503</td>\n",
       "      <td>-0.071509</td>\n",
       "      <td>-0.145550</td>\n",
       "      <td>0.141241</td>\n",
       "      <td>1.000000</td>\n",
       "      <td>-0.213886</td>\n",
       "      <td>0.488041</td>\n",
       "      <td>-0.071178</td>\n",
       "      <td>0.267670</td>\n",
       "      <td>-0.072735</td>\n",
       "      <td>-0.000712</td>\n",
       "      <td>0.492999</td>\n",
       "      <td>-0.070990</td>\n",
       "      <td>0.288571</td>\n",
       "      <td>-0.083032</td>\n",
       "      <td>-0.016257</td>\n",
       "      <td>-0.069499</td>\n",
       "      <td>0.233628</td>\n",
       "      <td>0.258698</td>\n",
       "      <td>0.552996</td>\n",
       "      <td>-0.016247</td>\n",
       "      <td>-0.132215</td>\n",
       "      <td>0.427315</td>\n",
       "      <td>-0.054581</td>\n",
       "      <td>-0.007227</td>\n",
       "      <td>0.206718</td>\n",
       "      <td>0.013127</td>\n",
       "      <td>0.216112</td>\n",
       "    </tr>\n",
       "    <tr>\n",
       "      <th>employ</th>\n",
       "      <td>0.445755</td>\n",
       "      <td>0.622553</td>\n",
       "      <td>0.520926</td>\n",
       "      <td>0.345161</td>\n",
       "      <td>-0.213886</td>\n",
       "      <td>1.000000</td>\n",
       "      <td>-0.174470</td>\n",
       "      <td>0.266612</td>\n",
       "      <td>-0.101187</td>\n",
       "      <td>0.363386</td>\n",
       "      <td>0.117962</td>\n",
       "      <td>-0.141651</td>\n",
       "      <td>0.219413</td>\n",
       "      <td>-0.045539</td>\n",
       "      <td>0.385254</td>\n",
       "      <td>0.240498</td>\n",
       "      <td>0.309183</td>\n",
       "      <td>-0.035922</td>\n",
       "      <td>0.038381</td>\n",
       "      <td>-0.250044</td>\n",
       "      <td>0.119708</td>\n",
       "      <td>0.173247</td>\n",
       "      <td>-0.151965</td>\n",
       "      <td>0.377186</td>\n",
       "      <td>0.068718</td>\n",
       "      <td>0.540052</td>\n",
       "      <td>0.131292</td>\n",
       "      <td>-0.337969</td>\n",
       "    </tr>\n",
       "    <tr>\n",
       "      <th>equip</th>\n",
       "      <td>-0.117102</td>\n",
       "      <td>-0.071357</td>\n",
       "      <td>-0.148977</td>\n",
       "      <td>-0.010741</td>\n",
       "      <td>0.488041</td>\n",
       "      <td>-0.174470</td>\n",
       "      <td>1.000000</td>\n",
       "      <td>-0.087051</td>\n",
       "      <td>0.386735</td>\n",
       "      <td>-0.097618</td>\n",
       "      <td>-0.090516</td>\n",
       "      <td>0.941065</td>\n",
       "      <td>-0.056590</td>\n",
       "      <td>0.367579</td>\n",
       "      <td>-0.098271</td>\n",
       "      <td>-0.097151</td>\n",
       "      <td>-0.053837</td>\n",
       "      <td>0.264481</td>\n",
       "      <td>0.308633</td>\n",
       "      <td>0.623509</td>\n",
       "      <td>-0.034021</td>\n",
       "      <td>-0.103499</td>\n",
       "      <td>0.603133</td>\n",
       "      <td>-0.113065</td>\n",
       "      <td>-0.027882</td>\n",
       "      <td>0.083494</td>\n",
       "      <td>0.174955</td>\n",
       "      <td>0.275284</td>\n",
       "    </tr>\n",
       "    <tr>\n",
       "      <th>callcard</th>\n",
       "      <td>0.426530</td>\n",
       "      <td>0.170404</td>\n",
       "      <td>0.209204</td>\n",
       "      <td>-0.019969</td>\n",
       "      <td>-0.071178</td>\n",
       "      <td>0.266612</td>\n",
       "      <td>-0.087051</td>\n",
       "      <td>1.000000</td>\n",
       "      <td>0.220118</td>\n",
       "      <td>0.322514</td>\n",
       "      <td>0.352994</td>\n",
       "      <td>0.026955</td>\n",
       "      <td>0.629955</td>\n",
       "      <td>0.259638</td>\n",
       "      <td>0.342553</td>\n",
       "      <td>0.292555</td>\n",
       "      <td>0.448182</td>\n",
       "      <td>0.226109</td>\n",
       "      <td>0.251069</td>\n",
       "      <td>-0.067146</td>\n",
       "      <td>0.370878</td>\n",
       "      <td>0.311056</td>\n",
       "      <td>-0.045058</td>\n",
       "      <td>0.351030</td>\n",
       "      <td>0.080060</td>\n",
       "      <td>0.156920</td>\n",
       "      <td>0.407553</td>\n",
       "      <td>-0.311451</td>\n",
       "    </tr>\n",
       "    <tr>\n",
       "      <th>wireless</th>\n",
       "      <td>-0.070590</td>\n",
       "      <td>-0.065527</td>\n",
       "      <td>-0.146478</td>\n",
       "      <td>-0.029635</td>\n",
       "      <td>0.267670</td>\n",
       "      <td>-0.101187</td>\n",
       "      <td>0.386735</td>\n",
       "      <td>0.220118</td>\n",
       "      <td>1.000000</td>\n",
       "      <td>-0.073043</td>\n",
       "      <td>0.462751</td>\n",
       "      <td>0.527573</td>\n",
       "      <td>0.195387</td>\n",
       "      <td>0.885879</td>\n",
       "      <td>-0.088461</td>\n",
       "      <td>0.328256</td>\n",
       "      <td>0.047773</td>\n",
       "      <td>0.649721</td>\n",
       "      <td>0.667535</td>\n",
       "      <td>0.343631</td>\n",
       "      <td>0.389670</td>\n",
       "      <td>0.382925</td>\n",
       "      <td>0.321433</td>\n",
       "      <td>-0.042637</td>\n",
       "      <td>0.178317</td>\n",
       "      <td>0.033558</td>\n",
       "      <td>0.598156</td>\n",
       "      <td>0.174356</td>\n",
       "    </tr>\n",
       "    <tr>\n",
       "      <th>longmon</th>\n",
       "      <td>0.763134</td>\n",
       "      <td>0.373547</td>\n",
       "      <td>0.421782</td>\n",
       "      <td>0.041808</td>\n",
       "      <td>-0.072735</td>\n",
       "      <td>0.363386</td>\n",
       "      <td>-0.097618</td>\n",
       "      <td>0.322514</td>\n",
       "      <td>-0.073043</td>\n",
       "      <td>1.000000</td>\n",
       "      <td>0.083771</td>\n",
       "      <td>-0.070876</td>\n",
       "      <td>0.493439</td>\n",
       "      <td>-0.020392</td>\n",
       "      <td>0.984808</td>\n",
       "      <td>0.338036</td>\n",
       "      <td>0.673179</td>\n",
       "      <td>-0.080503</td>\n",
       "      <td>-0.001372</td>\n",
       "      <td>-0.223929</td>\n",
       "      <td>0.032913</td>\n",
       "      <td>0.060614</td>\n",
       "      <td>-0.124605</td>\n",
       "      <td>0.901631</td>\n",
       "      <td>0.247302</td>\n",
       "      <td>0.122550</td>\n",
       "      <td>0.072519</td>\n",
       "      <td>-0.292026</td>\n",
       "    </tr>\n",
       "    <tr>\n",
       "      <th>tollmon</th>\n",
       "      <td>0.100214</td>\n",
       "      <td>0.053595</td>\n",
       "      <td>-0.015564</td>\n",
       "      <td>-0.003701</td>\n",
       "      <td>-0.000712</td>\n",
       "      <td>0.117962</td>\n",
       "      <td>-0.090516</td>\n",
       "      <td>0.352994</td>\n",
       "      <td>0.462751</td>\n",
       "      <td>0.083771</td>\n",
       "      <td>1.000000</td>\n",
       "      <td>0.061560</td>\n",
       "      <td>0.256158</td>\n",
       "      <td>0.561234</td>\n",
       "      <td>0.080536</td>\n",
       "      <td>0.860230</td>\n",
       "      <td>0.107951</td>\n",
       "      <td>0.455174</td>\n",
       "      <td>0.499124</td>\n",
       "      <td>0.036393</td>\n",
       "      <td>0.678454</td>\n",
       "      <td>0.651039</td>\n",
       "      <td>-0.032998</td>\n",
       "      <td>0.082273</td>\n",
       "      <td>0.440661</td>\n",
       "      <td>0.007098</td>\n",
       "      <td>0.653991</td>\n",
       "      <td>0.014356</td>\n",
       "    </tr>\n",
       "    <tr>\n",
       "      <th>equipmon</th>\n",
       "      <td>-0.043274</td>\n",
       "      <td>-0.030402</td>\n",
       "      <td>-0.125212</td>\n",
       "      <td>0.000275</td>\n",
       "      <td>0.492999</td>\n",
       "      <td>-0.141651</td>\n",
       "      <td>0.941065</td>\n",
       "      <td>0.026955</td>\n",
       "      <td>0.527573</td>\n",
       "      <td>-0.070876</td>\n",
       "      <td>0.061560</td>\n",
       "      <td>1.000000</td>\n",
       "      <td>0.025248</td>\n",
       "      <td>0.562497</td>\n",
       "      <td>-0.066587</td>\n",
       "      <td>0.039731</td>\n",
       "      <td>0.005396</td>\n",
       "      <td>0.407651</td>\n",
       "      <td>0.461458</td>\n",
       "      <td>0.631338</td>\n",
       "      <td>0.104341</td>\n",
       "      <td>0.056846</td>\n",
       "      <td>0.602010</td>\n",
       "      <td>-0.062455</td>\n",
       "      <td>0.047387</td>\n",
       "      <td>0.095942</td>\n",
       "      <td>0.333664</td>\n",
       "      <td>0.255348</td>\n",
       "    </tr>\n",
       "    <tr>\n",
       "      <th>cardmon</th>\n",
       "      <td>0.489857</td>\n",
       "      <td>0.203202</td>\n",
       "      <td>0.297395</td>\n",
       "      <td>-0.013513</td>\n",
       "      <td>-0.070990</td>\n",
       "      <td>0.219413</td>\n",
       "      <td>-0.056590</td>\n",
       "      <td>0.629955</td>\n",
       "      <td>0.195387</td>\n",
       "      <td>0.493439</td>\n",
       "      <td>0.256158</td>\n",
       "      <td>0.025248</td>\n",
       "      <td>1.000000</td>\n",
       "      <td>0.262683</td>\n",
       "      <td>0.521835</td>\n",
       "      <td>0.266869</td>\n",
       "      <td>0.898935</td>\n",
       "      <td>0.186521</td>\n",
       "      <td>0.216653</td>\n",
       "      <td>-0.129166</td>\n",
       "      <td>0.222755</td>\n",
       "      <td>0.232357</td>\n",
       "      <td>-0.036768</td>\n",
       "      <td>0.467535</td>\n",
       "      <td>0.240991</td>\n",
       "      <td>0.073435</td>\n",
       "      <td>0.310353</td>\n",
       "      <td>-0.177163</td>\n",
       "    </tr>\n",
       "    <tr>\n",
       "      <th>wiremon</th>\n",
       "      <td>0.043067</td>\n",
       "      <td>-0.003685</td>\n",
       "      <td>-0.113143</td>\n",
       "      <td>-0.027998</td>\n",
       "      <td>0.288571</td>\n",
       "      <td>-0.045539</td>\n",
       "      <td>0.367579</td>\n",
       "      <td>0.259638</td>\n",
       "      <td>0.885879</td>\n",
       "      <td>-0.020392</td>\n",
       "      <td>0.561234</td>\n",
       "      <td>0.562497</td>\n",
       "      <td>0.262683</td>\n",
       "      <td>1.000000</td>\n",
       "      <td>-0.025127</td>\n",
       "      <td>0.485813</td>\n",
       "      <td>0.142109</td>\n",
       "      <td>0.667050</td>\n",
       "      <td>0.704724</td>\n",
       "      <td>0.359273</td>\n",
       "      <td>0.435465</td>\n",
       "      <td>0.426042</td>\n",
       "      <td>0.347533</td>\n",
       "      <td>0.023625</td>\n",
       "      <td>0.332693</td>\n",
       "      <td>0.030176</td>\n",
       "      <td>0.624791</td>\n",
       "      <td>0.177483</td>\n",
       "    </tr>\n",
       "    <tr>\n",
       "      <th>longten</th>\n",
       "      <td>0.796355</td>\n",
       "      <td>0.393370</td>\n",
       "      <td>0.447256</td>\n",
       "      <td>0.048374</td>\n",
       "      <td>-0.083032</td>\n",
       "      <td>0.385254</td>\n",
       "      <td>-0.098271</td>\n",
       "      <td>0.342553</td>\n",
       "      <td>-0.088461</td>\n",
       "      <td>0.984808</td>\n",
       "      <td>0.080536</td>\n",
       "      <td>-0.066587</td>\n",
       "      <td>0.521835</td>\n",
       "      <td>-0.025127</td>\n",
       "      <td>1.000000</td>\n",
       "      <td>0.345334</td>\n",
       "      <td>0.716689</td>\n",
       "      <td>-0.080161</td>\n",
       "      <td>-0.011369</td>\n",
       "      <td>-0.217916</td>\n",
       "      <td>0.013932</td>\n",
       "      <td>0.058190</td>\n",
       "      <td>-0.119885</td>\n",
       "      <td>0.862646</td>\n",
       "      <td>0.243419</td>\n",
       "      <td>0.133208</td>\n",
       "      <td>0.068060</td>\n",
       "      <td>-0.294906</td>\n",
       "    </tr>\n",
       "    <tr>\n",
       "      <th>tollten</th>\n",
       "      <td>0.398869</td>\n",
       "      <td>0.187221</td>\n",
       "      <td>0.129141</td>\n",
       "      <td>-0.000262</td>\n",
       "      <td>-0.016257</td>\n",
       "      <td>0.240498</td>\n",
       "      <td>-0.097151</td>\n",
       "      <td>0.292555</td>\n",
       "      <td>0.328256</td>\n",
       "      <td>0.338036</td>\n",
       "      <td>0.860230</td>\n",
       "      <td>0.039731</td>\n",
       "      <td>0.266869</td>\n",
       "      <td>0.485813</td>\n",
       "      <td>0.345334</td>\n",
       "      <td>1.000000</td>\n",
       "      <td>0.269311</td>\n",
       "      <td>0.331738</td>\n",
       "      <td>0.390620</td>\n",
       "      <td>-0.017063</td>\n",
       "      <td>0.507160</td>\n",
       "      <td>0.515239</td>\n",
       "      <td>-0.064126</td>\n",
       "      <td>0.347852</td>\n",
       "      <td>0.544121</td>\n",
       "      <td>0.025079</td>\n",
       "      <td>0.494205</td>\n",
       "      <td>-0.059482</td>\n",
       "    </tr>\n",
       "    <tr>\n",
       "      <th>cardten</th>\n",
       "      <td>0.676920</td>\n",
       "      <td>0.336903</td>\n",
       "      <td>0.406964</td>\n",
       "      <td>0.019358</td>\n",
       "      <td>-0.069499</td>\n",
       "      <td>0.309183</td>\n",
       "      <td>-0.053837</td>\n",
       "      <td>0.448182</td>\n",
       "      <td>0.047773</td>\n",
       "      <td>0.673179</td>\n",
       "      <td>0.107951</td>\n",
       "      <td>0.005396</td>\n",
       "      <td>0.898935</td>\n",
       "      <td>0.142109</td>\n",
       "      <td>0.716689</td>\n",
       "      <td>0.269311</td>\n",
       "      <td>1.000000</td>\n",
       "      <td>0.047934</td>\n",
       "      <td>0.097579</td>\n",
       "      <td>-0.154030</td>\n",
       "      <td>0.065429</td>\n",
       "      <td>0.084221</td>\n",
       "      <td>-0.051008</td>\n",
       "      <td>0.629907</td>\n",
       "      <td>0.266098</td>\n",
       "      <td>0.114908</td>\n",
       "      <td>0.163888</td>\n",
       "      <td>-0.228634</td>\n",
       "    </tr>\n",
       "    <tr>\n",
       "      <th>voice</th>\n",
       "      <td>-0.050686</td>\n",
       "      <td>0.019555</td>\n",
       "      <td>-0.069627</td>\n",
       "      <td>0.085525</td>\n",
       "      <td>0.233628</td>\n",
       "      <td>-0.035922</td>\n",
       "      <td>0.264481</td>\n",
       "      <td>0.226109</td>\n",
       "      <td>0.649721</td>\n",
       "      <td>-0.080503</td>\n",
       "      <td>0.455174</td>\n",
       "      <td>0.407651</td>\n",
       "      <td>0.186521</td>\n",
       "      <td>0.667050</td>\n",
       "      <td>-0.080161</td>\n",
       "      <td>0.331738</td>\n",
       "      <td>0.047934</td>\n",
       "      <td>1.000000</td>\n",
       "      <td>0.608335</td>\n",
       "      <td>0.243845</td>\n",
       "      <td>0.399721</td>\n",
       "      <td>0.392889</td>\n",
       "      <td>0.288019</td>\n",
       "      <td>-0.058510</td>\n",
       "      <td>0.224314</td>\n",
       "      <td>0.048915</td>\n",
       "      <td>0.600510</td>\n",
       "      <td>0.142315</td>\n",
       "    </tr>\n",
       "    <tr>\n",
       "      <th>pager</th>\n",
       "      <td>0.018791</td>\n",
       "      <td>0.006803</td>\n",
       "      <td>-0.105812</td>\n",
       "      <td>0.056977</td>\n",
       "      <td>0.258698</td>\n",
       "      <td>0.038381</td>\n",
       "      <td>0.308633</td>\n",
       "      <td>0.251069</td>\n",
       "      <td>0.667535</td>\n",
       "      <td>-0.001372</td>\n",
       "      <td>0.499124</td>\n",
       "      <td>0.461458</td>\n",
       "      <td>0.216653</td>\n",
       "      <td>0.704724</td>\n",
       "      <td>-0.011369</td>\n",
       "      <td>0.390620</td>\n",
       "      <td>0.097579</td>\n",
       "      <td>0.608335</td>\n",
       "      <td>1.000000</td>\n",
       "      <td>0.266193</td>\n",
       "      <td>0.426690</td>\n",
       "      <td>0.352743</td>\n",
       "      <td>0.288752</td>\n",
       "      <td>0.015771</td>\n",
       "      <td>0.231647</td>\n",
       "      <td>0.159049</td>\n",
       "      <td>0.653884</td>\n",
       "      <td>0.124623</td>\n",
       "    </tr>\n",
       "    <tr>\n",
       "      <th>internet</th>\n",
       "      <td>-0.164921</td>\n",
       "      <td>-0.078395</td>\n",
       "      <td>-0.191058</td>\n",
       "      <td>0.102809</td>\n",
       "      <td>0.552996</td>\n",
       "      <td>-0.250044</td>\n",
       "      <td>0.623509</td>\n",
       "      <td>-0.067146</td>\n",
       "      <td>0.343631</td>\n",
       "      <td>-0.223929</td>\n",
       "      <td>0.036393</td>\n",
       "      <td>0.631338</td>\n",
       "      <td>-0.129166</td>\n",
       "      <td>0.359273</td>\n",
       "      <td>-0.217916</td>\n",
       "      <td>-0.017063</td>\n",
       "      <td>-0.154030</td>\n",
       "      <td>0.243845</td>\n",
       "      <td>0.266193</td>\n",
       "      <td>1.000000</td>\n",
       "      <td>0.019419</td>\n",
       "      <td>-0.029911</td>\n",
       "      <td>0.512987</td>\n",
       "      <td>-0.202230</td>\n",
       "      <td>0.038008</td>\n",
       "      <td>0.067611</td>\n",
       "      <td>0.160904</td>\n",
       "      <td>0.254838</td>\n",
       "    </tr>\n",
       "    <tr>\n",
       "      <th>callwait</th>\n",
       "      <td>-0.009747</td>\n",
       "      <td>0.020002</td>\n",
       "      <td>-0.019967</td>\n",
       "      <td>0.081133</td>\n",
       "      <td>-0.016247</td>\n",
       "      <td>0.119708</td>\n",
       "      <td>-0.034021</td>\n",
       "      <td>0.370878</td>\n",
       "      <td>0.389670</td>\n",
       "      <td>0.032913</td>\n",
       "      <td>0.678454</td>\n",
       "      <td>0.104341</td>\n",
       "      <td>0.222755</td>\n",
       "      <td>0.435465</td>\n",
       "      <td>0.013932</td>\n",
       "      <td>0.507160</td>\n",
       "      <td>0.065429</td>\n",
       "      <td>0.399721</td>\n",
       "      <td>0.426690</td>\n",
       "      <td>0.019419</td>\n",
       "      <td>1.000000</td>\n",
       "      <td>0.566910</td>\n",
       "      <td>-0.061492</td>\n",
       "      <td>0.028577</td>\n",
       "      <td>0.147224</td>\n",
       "      <td>0.069897</td>\n",
       "      <td>0.687960</td>\n",
       "      <td>-0.052885</td>\n",
       "    </tr>\n",
       "    <tr>\n",
       "      <th>confer</th>\n",
       "      <td>0.080650</td>\n",
       "      <td>0.030625</td>\n",
       "      <td>-0.030494</td>\n",
       "      <td>-0.031556</td>\n",
       "      <td>-0.132215</td>\n",
       "      <td>0.173247</td>\n",
       "      <td>-0.103499</td>\n",
       "      <td>0.311056</td>\n",
       "      <td>0.382925</td>\n",
       "      <td>0.060614</td>\n",
       "      <td>0.651039</td>\n",
       "      <td>0.056846</td>\n",
       "      <td>0.232357</td>\n",
       "      <td>0.426042</td>\n",
       "      <td>0.058190</td>\n",
       "      <td>0.515239</td>\n",
       "      <td>0.084221</td>\n",
       "      <td>0.392889</td>\n",
       "      <td>0.352743</td>\n",
       "      <td>-0.029911</td>\n",
       "      <td>0.566910</td>\n",
       "      <td>1.000000</td>\n",
       "      <td>-0.090542</td>\n",
       "      <td>0.067662</td>\n",
       "      <td>0.235203</td>\n",
       "      <td>-0.004963</td>\n",
       "      <td>0.673629</td>\n",
       "      <td>-0.081361</td>\n",
       "    </tr>\n",
       "    <tr>\n",
       "      <th>ebill</th>\n",
       "      <td>-0.099128</td>\n",
       "      <td>-0.048279</td>\n",
       "      <td>-0.172171</td>\n",
       "      <td>-0.041392</td>\n",
       "      <td>0.427315</td>\n",
       "      <td>-0.151965</td>\n",
       "      <td>0.603133</td>\n",
       "      <td>-0.045058</td>\n",
       "      <td>0.321433</td>\n",
       "      <td>-0.124605</td>\n",
       "      <td>-0.032998</td>\n",
       "      <td>0.602010</td>\n",
       "      <td>-0.036768</td>\n",
       "      <td>0.347533</td>\n",
       "      <td>-0.119885</td>\n",
       "      <td>-0.064126</td>\n",
       "      <td>-0.051008</td>\n",
       "      <td>0.288019</td>\n",
       "      <td>0.288752</td>\n",
       "      <td>0.512987</td>\n",
       "      <td>-0.061492</td>\n",
       "      <td>-0.090542</td>\n",
       "      <td>1.000000</td>\n",
       "      <td>-0.133310</td>\n",
       "      <td>0.024784</td>\n",
       "      <td>0.039137</td>\n",
       "      <td>0.104775</td>\n",
       "      <td>0.254838</td>\n",
       "    </tr>\n",
       "    <tr>\n",
       "      <th>loglong</th>\n",
       "      <td>0.864388</td>\n",
       "      <td>0.379413</td>\n",
       "      <td>0.409357</td>\n",
       "      <td>0.065595</td>\n",
       "      <td>-0.054581</td>\n",
       "      <td>0.377186</td>\n",
       "      <td>-0.113065</td>\n",
       "      <td>0.351030</td>\n",
       "      <td>-0.042637</td>\n",
       "      <td>0.901631</td>\n",
       "      <td>0.082273</td>\n",
       "      <td>-0.062455</td>\n",
       "      <td>0.467535</td>\n",
       "      <td>0.023625</td>\n",
       "      <td>0.862646</td>\n",
       "      <td>0.347852</td>\n",
       "      <td>0.629907</td>\n",
       "      <td>-0.058510</td>\n",
       "      <td>0.015771</td>\n",
       "      <td>-0.202230</td>\n",
       "      <td>0.028577</td>\n",
       "      <td>0.067662</td>\n",
       "      <td>-0.133310</td>\n",
       "      <td>1.000000</td>\n",
       "      <td>0.297260</td>\n",
       "      <td>0.182414</td>\n",
       "      <td>0.120468</td>\n",
       "      <td>-0.336869</td>\n",
       "    </tr>\n",
       "    <tr>\n",
       "      <th>logtoll</th>\n",
       "      <td>0.310045</td>\n",
       "      <td>0.093600</td>\n",
       "      <td>0.018386</td>\n",
       "      <td>-0.156498</td>\n",
       "      <td>-0.007227</td>\n",
       "      <td>0.068718</td>\n",
       "      <td>-0.027882</td>\n",
       "      <td>0.080060</td>\n",
       "      <td>0.178317</td>\n",
       "      <td>0.247302</td>\n",
       "      <td>0.440661</td>\n",
       "      <td>0.047387</td>\n",
       "      <td>0.240991</td>\n",
       "      <td>0.332693</td>\n",
       "      <td>0.243419</td>\n",
       "      <td>0.544121</td>\n",
       "      <td>0.266098</td>\n",
       "      <td>0.224314</td>\n",
       "      <td>0.231647</td>\n",
       "      <td>0.038008</td>\n",
       "      <td>0.147224</td>\n",
       "      <td>0.235203</td>\n",
       "      <td>0.024784</td>\n",
       "      <td>0.297260</td>\n",
       "      <td>1.000000</td>\n",
       "      <td>-0.104801</td>\n",
       "      <td>0.233153</td>\n",
       "      <td>-0.070156</td>\n",
       "    </tr>\n",
       "    <tr>\n",
       "      <th>lninc</th>\n",
       "      <td>0.246353</td>\n",
       "      <td>0.313359</td>\n",
       "      <td>0.212929</td>\n",
       "      <td>0.680313</td>\n",
       "      <td>0.206718</td>\n",
       "      <td>0.540052</td>\n",
       "      <td>0.083494</td>\n",
       "      <td>0.156920</td>\n",
       "      <td>0.033558</td>\n",
       "      <td>0.122550</td>\n",
       "      <td>0.007098</td>\n",
       "      <td>0.095942</td>\n",
       "      <td>0.073435</td>\n",
       "      <td>0.030176</td>\n",
       "      <td>0.133208</td>\n",
       "      <td>0.025079</td>\n",
       "      <td>0.114908</td>\n",
       "      <td>0.048915</td>\n",
       "      <td>0.159049</td>\n",
       "      <td>0.067611</td>\n",
       "      <td>0.069897</td>\n",
       "      <td>-0.004963</td>\n",
       "      <td>0.039137</td>\n",
       "      <td>0.182414</td>\n",
       "      <td>-0.104801</td>\n",
       "      <td>1.000000</td>\n",
       "      <td>0.122486</td>\n",
       "      <td>-0.117459</td>\n",
       "    </tr>\n",
       "    <tr>\n",
       "      <th>custcat</th>\n",
       "      <td>0.134237</td>\n",
       "      <td>0.041055</td>\n",
       "      <td>-0.016841</td>\n",
       "      <td>0.030725</td>\n",
       "      <td>0.013127</td>\n",
       "      <td>0.131292</td>\n",
       "      <td>0.174955</td>\n",
       "      <td>0.407553</td>\n",
       "      <td>0.598156</td>\n",
       "      <td>0.072519</td>\n",
       "      <td>0.653991</td>\n",
       "      <td>0.333664</td>\n",
       "      <td>0.310353</td>\n",
       "      <td>0.624791</td>\n",
       "      <td>0.068060</td>\n",
       "      <td>0.494205</td>\n",
       "      <td>0.163888</td>\n",
       "      <td>0.600510</td>\n",
       "      <td>0.653884</td>\n",
       "      <td>0.160904</td>\n",
       "      <td>0.687960</td>\n",
       "      <td>0.673629</td>\n",
       "      <td>0.104775</td>\n",
       "      <td>0.120468</td>\n",
       "      <td>0.233153</td>\n",
       "      <td>0.122486</td>\n",
       "      <td>1.000000</td>\n",
       "      <td>0.014839</td>\n",
       "    </tr>\n",
       "    <tr>\n",
       "      <th>churn</th>\n",
       "      <td>-0.376860</td>\n",
       "      <td>-0.287697</td>\n",
       "      <td>-0.260659</td>\n",
       "      <td>-0.090790</td>\n",
       "      <td>0.216112</td>\n",
       "      <td>-0.337969</td>\n",
       "      <td>0.275284</td>\n",
       "      <td>-0.311451</td>\n",
       "      <td>0.174356</td>\n",
       "      <td>-0.292026</td>\n",
       "      <td>0.014356</td>\n",
       "      <td>0.255348</td>\n",
       "      <td>-0.177163</td>\n",
       "      <td>0.177483</td>\n",
       "      <td>-0.294906</td>\n",
       "      <td>-0.059482</td>\n",
       "      <td>-0.228634</td>\n",
       "      <td>0.142315</td>\n",
       "      <td>0.124623</td>\n",
       "      <td>0.254838</td>\n",
       "      <td>-0.052885</td>\n",
       "      <td>-0.081361</td>\n",
       "      <td>0.254838</td>\n",
       "      <td>-0.336869</td>\n",
       "      <td>-0.070156</td>\n",
       "      <td>-0.117459</td>\n",
       "      <td>0.014839</td>\n",
       "      <td>1.000000</td>\n",
       "    </tr>\n",
       "  </tbody>\n",
       "</table>\n",
       "</div>"
      ],
      "text/plain": [
       "            tenure       age   address    income        ed    employ  \\\n",
       "tenure    1.000000  0.431802  0.456328  0.109383 -0.070503  0.445755   \n",
       "age       0.431802  1.000000  0.746566  0.211275 -0.071509  0.622553   \n",
       "address   0.456328  0.746566  1.000000  0.132807 -0.145550  0.520926   \n",
       "income    0.109383  0.211275  0.132807  1.000000  0.141241  0.345161   \n",
       "ed       -0.070503 -0.071509 -0.145550  0.141241  1.000000 -0.213886   \n",
       "employ    0.445755  0.622553  0.520926  0.345161 -0.213886  1.000000   \n",
       "equip    -0.117102 -0.071357 -0.148977 -0.010741  0.488041 -0.174470   \n",
       "callcard  0.426530  0.170404  0.209204 -0.019969 -0.071178  0.266612   \n",
       "wireless -0.070590 -0.065527 -0.146478 -0.029635  0.267670 -0.101187   \n",
       "longmon   0.763134  0.373547  0.421782  0.041808 -0.072735  0.363386   \n",
       "tollmon   0.100214  0.053595 -0.015564 -0.003701 -0.000712  0.117962   \n",
       "equipmon -0.043274 -0.030402 -0.125212  0.000275  0.492999 -0.141651   \n",
       "cardmon   0.489857  0.203202  0.297395 -0.013513 -0.070990  0.219413   \n",
       "wiremon   0.043067 -0.003685 -0.113143 -0.027998  0.288571 -0.045539   \n",
       "longten   0.796355  0.393370  0.447256  0.048374 -0.083032  0.385254   \n",
       "tollten   0.398869  0.187221  0.129141 -0.000262 -0.016257  0.240498   \n",
       "cardten   0.676920  0.336903  0.406964  0.019358 -0.069499  0.309183   \n",
       "voice    -0.050686  0.019555 -0.069627  0.085525  0.233628 -0.035922   \n",
       "pager     0.018791  0.006803 -0.105812  0.056977  0.258698  0.038381   \n",
       "internet -0.164921 -0.078395 -0.191058  0.102809  0.552996 -0.250044   \n",
       "callwait -0.009747  0.020002 -0.019967  0.081133 -0.016247  0.119708   \n",
       "confer    0.080650  0.030625 -0.030494 -0.031556 -0.132215  0.173247   \n",
       "ebill    -0.099128 -0.048279 -0.172171 -0.041392  0.427315 -0.151965   \n",
       "loglong   0.864388  0.379413  0.409357  0.065595 -0.054581  0.377186   \n",
       "logtoll   0.310045  0.093600  0.018386 -0.156498 -0.007227  0.068718   \n",
       "lninc     0.246353  0.313359  0.212929  0.680313  0.206718  0.540052   \n",
       "custcat   0.134237  0.041055 -0.016841  0.030725  0.013127  0.131292   \n",
       "churn    -0.376860 -0.287697 -0.260659 -0.090790  0.216112 -0.337969   \n",
       "\n",
       "             equip  callcard  wireless   longmon   tollmon  equipmon  \\\n",
       "tenure   -0.117102  0.426530 -0.070590  0.763134  0.100214 -0.043274   \n",
       "age      -0.071357  0.170404 -0.065527  0.373547  0.053595 -0.030402   \n",
       "address  -0.148977  0.209204 -0.146478  0.421782 -0.015564 -0.125212   \n",
       "income   -0.010741 -0.019969 -0.029635  0.041808 -0.003701  0.000275   \n",
       "ed        0.488041 -0.071178  0.267670 -0.072735 -0.000712  0.492999   \n",
       "employ   -0.174470  0.266612 -0.101187  0.363386  0.117962 -0.141651   \n",
       "equip     1.000000 -0.087051  0.386735 -0.097618 -0.090516  0.941065   \n",
       "callcard -0.087051  1.000000  0.220118  0.322514  0.352994  0.026955   \n",
       "wireless  0.386735  0.220118  1.000000 -0.073043  0.462751  0.527573   \n",
       "longmon  -0.097618  0.322514 -0.073043  1.000000  0.083771 -0.070876   \n",
       "tollmon  -0.090516  0.352994  0.462751  0.083771  1.000000  0.061560   \n",
       "equipmon  0.941065  0.026955  0.527573 -0.070876  0.061560  1.000000   \n",
       "cardmon  -0.056590  0.629955  0.195387  0.493439  0.256158  0.025248   \n",
       "wiremon   0.367579  0.259638  0.885879 -0.020392  0.561234  0.562497   \n",
       "longten  -0.098271  0.342553 -0.088461  0.984808  0.080536 -0.066587   \n",
       "tollten  -0.097151  0.292555  0.328256  0.338036  0.860230  0.039731   \n",
       "cardten  -0.053837  0.448182  0.047773  0.673179  0.107951  0.005396   \n",
       "voice     0.264481  0.226109  0.649721 -0.080503  0.455174  0.407651   \n",
       "pager     0.308633  0.251069  0.667535 -0.001372  0.499124  0.461458   \n",
       "internet  0.623509 -0.067146  0.343631 -0.223929  0.036393  0.631338   \n",
       "callwait -0.034021  0.370878  0.389670  0.032913  0.678454  0.104341   \n",
       "confer   -0.103499  0.311056  0.382925  0.060614  0.651039  0.056846   \n",
       "ebill     0.603133 -0.045058  0.321433 -0.124605 -0.032998  0.602010   \n",
       "loglong  -0.113065  0.351030 -0.042637  0.901631  0.082273 -0.062455   \n",
       "logtoll  -0.027882  0.080060  0.178317  0.247302  0.440661  0.047387   \n",
       "lninc     0.083494  0.156920  0.033558  0.122550  0.007098  0.095942   \n",
       "custcat   0.174955  0.407553  0.598156  0.072519  0.653991  0.333664   \n",
       "churn     0.275284 -0.311451  0.174356 -0.292026  0.014356  0.255348   \n",
       "\n",
       "           cardmon   wiremon   longten   tollten   cardten     voice  \\\n",
       "tenure    0.489857  0.043067  0.796355  0.398869  0.676920 -0.050686   \n",
       "age       0.203202 -0.003685  0.393370  0.187221  0.336903  0.019555   \n",
       "address   0.297395 -0.113143  0.447256  0.129141  0.406964 -0.069627   \n",
       "income   -0.013513 -0.027998  0.048374 -0.000262  0.019358  0.085525   \n",
       "ed       -0.070990  0.288571 -0.083032 -0.016257 -0.069499  0.233628   \n",
       "employ    0.219413 -0.045539  0.385254  0.240498  0.309183 -0.035922   \n",
       "equip    -0.056590  0.367579 -0.098271 -0.097151 -0.053837  0.264481   \n",
       "callcard  0.629955  0.259638  0.342553  0.292555  0.448182  0.226109   \n",
       "wireless  0.195387  0.885879 -0.088461  0.328256  0.047773  0.649721   \n",
       "longmon   0.493439 -0.020392  0.984808  0.338036  0.673179 -0.080503   \n",
       "tollmon   0.256158  0.561234  0.080536  0.860230  0.107951  0.455174   \n",
       "equipmon  0.025248  0.562497 -0.066587  0.039731  0.005396  0.407651   \n",
       "cardmon   1.000000  0.262683  0.521835  0.266869  0.898935  0.186521   \n",
       "wiremon   0.262683  1.000000 -0.025127  0.485813  0.142109  0.667050   \n",
       "longten   0.521835 -0.025127  1.000000  0.345334  0.716689 -0.080161   \n",
       "tollten   0.266869  0.485813  0.345334  1.000000  0.269311  0.331738   \n",
       "cardten   0.898935  0.142109  0.716689  0.269311  1.000000  0.047934   \n",
       "voice     0.186521  0.667050 -0.080161  0.331738  0.047934  1.000000   \n",
       "pager     0.216653  0.704724 -0.011369  0.390620  0.097579  0.608335   \n",
       "internet -0.129166  0.359273 -0.217916 -0.017063 -0.154030  0.243845   \n",
       "callwait  0.222755  0.435465  0.013932  0.507160  0.065429  0.399721   \n",
       "confer    0.232357  0.426042  0.058190  0.515239  0.084221  0.392889   \n",
       "ebill    -0.036768  0.347533 -0.119885 -0.064126 -0.051008  0.288019   \n",
       "loglong   0.467535  0.023625  0.862646  0.347852  0.629907 -0.058510   \n",
       "logtoll   0.240991  0.332693  0.243419  0.544121  0.266098  0.224314   \n",
       "lninc     0.073435  0.030176  0.133208  0.025079  0.114908  0.048915   \n",
       "custcat   0.310353  0.624791  0.068060  0.494205  0.163888  0.600510   \n",
       "churn    -0.177163  0.177483 -0.294906 -0.059482 -0.228634  0.142315   \n",
       "\n",
       "             pager  internet  callwait    confer     ebill   loglong  \\\n",
       "tenure    0.018791 -0.164921 -0.009747  0.080650 -0.099128  0.864388   \n",
       "age       0.006803 -0.078395  0.020002  0.030625 -0.048279  0.379413   \n",
       "address  -0.105812 -0.191058 -0.019967 -0.030494 -0.172171  0.409357   \n",
       "income    0.056977  0.102809  0.081133 -0.031556 -0.041392  0.065595   \n",
       "ed        0.258698  0.552996 -0.016247 -0.132215  0.427315 -0.054581   \n",
       "employ    0.038381 -0.250044  0.119708  0.173247 -0.151965  0.377186   \n",
       "equip     0.308633  0.623509 -0.034021 -0.103499  0.603133 -0.113065   \n",
       "callcard  0.251069 -0.067146  0.370878  0.311056 -0.045058  0.351030   \n",
       "wireless  0.667535  0.343631  0.389670  0.382925  0.321433 -0.042637   \n",
       "longmon  -0.001372 -0.223929  0.032913  0.060614 -0.124605  0.901631   \n",
       "tollmon   0.499124  0.036393  0.678454  0.651039 -0.032998  0.082273   \n",
       "equipmon  0.461458  0.631338  0.104341  0.056846  0.602010 -0.062455   \n",
       "cardmon   0.216653 -0.129166  0.222755  0.232357 -0.036768  0.467535   \n",
       "wiremon   0.704724  0.359273  0.435465  0.426042  0.347533  0.023625   \n",
       "longten  -0.011369 -0.217916  0.013932  0.058190 -0.119885  0.862646   \n",
       "tollten   0.390620 -0.017063  0.507160  0.515239 -0.064126  0.347852   \n",
       "cardten   0.097579 -0.154030  0.065429  0.084221 -0.051008  0.629907   \n",
       "voice     0.608335  0.243845  0.399721  0.392889  0.288019 -0.058510   \n",
       "pager     1.000000  0.266193  0.426690  0.352743  0.288752  0.015771   \n",
       "internet  0.266193  1.000000  0.019419 -0.029911  0.512987 -0.202230   \n",
       "callwait  0.426690  0.019419  1.000000  0.566910 -0.061492  0.028577   \n",
       "confer    0.352743 -0.029911  0.566910  1.000000 -0.090542  0.067662   \n",
       "ebill     0.288752  0.512987 -0.061492 -0.090542  1.000000 -0.133310   \n",
       "loglong   0.015771 -0.202230  0.028577  0.067662 -0.133310  1.000000   \n",
       "logtoll   0.231647  0.038008  0.147224  0.235203  0.024784  0.297260   \n",
       "lninc     0.159049  0.067611  0.069897 -0.004963  0.039137  0.182414   \n",
       "custcat   0.653884  0.160904  0.687960  0.673629  0.104775  0.120468   \n",
       "churn     0.124623  0.254838 -0.052885 -0.081361  0.254838 -0.336869   \n",
       "\n",
       "           logtoll     lninc   custcat     churn  \n",
       "tenure    0.310045  0.246353  0.134237 -0.376860  \n",
       "age       0.093600  0.313359  0.041055 -0.287697  \n",
       "address   0.018386  0.212929 -0.016841 -0.260659  \n",
       "income   -0.156498  0.680313  0.030725 -0.090790  \n",
       "ed       -0.007227  0.206718  0.013127  0.216112  \n",
       "employ    0.068718  0.540052  0.131292 -0.337969  \n",
       "equip    -0.027882  0.083494  0.174955  0.275284  \n",
       "callcard  0.080060  0.156920  0.407553 -0.311451  \n",
       "wireless  0.178317  0.033558  0.598156  0.174356  \n",
       "longmon   0.247302  0.122550  0.072519 -0.292026  \n",
       "tollmon   0.440661  0.007098  0.653991  0.014356  \n",
       "equipmon  0.047387  0.095942  0.333664  0.255348  \n",
       "cardmon   0.240991  0.073435  0.310353 -0.177163  \n",
       "wiremon   0.332693  0.030176  0.624791  0.177483  \n",
       "longten   0.243419  0.133208  0.068060 -0.294906  \n",
       "tollten   0.544121  0.025079  0.494205 -0.059482  \n",
       "cardten   0.266098  0.114908  0.163888 -0.228634  \n",
       "voice     0.224314  0.048915  0.600510  0.142315  \n",
       "pager     0.231647  0.159049  0.653884  0.124623  \n",
       "internet  0.038008  0.067611  0.160904  0.254838  \n",
       "callwait  0.147224  0.069897  0.687960 -0.052885  \n",
       "confer    0.235203 -0.004963  0.673629 -0.081361  \n",
       "ebill     0.024784  0.039137  0.104775  0.254838  \n",
       "loglong   0.297260  0.182414  0.120468 -0.336869  \n",
       "logtoll   1.000000 -0.104801  0.233153 -0.070156  \n",
       "lninc    -0.104801  1.000000  0.122486 -0.117459  \n",
       "custcat   0.233153  0.122486  1.000000  0.014839  \n",
       "churn    -0.070156 -0.117459  0.014839  1.000000  "
      ]
     },
     "execution_count": 8,
     "metadata": {},
     "output_type": "execute_result"
    }
   ],
   "source": [
    "df.corr()"
   ]
  },
  {
   "cell_type": "code",
   "execution_count": 9,
   "metadata": {},
   "outputs": [
    {
     "data": {
      "image/png": "[encoded data removed]",
      "text/plain": [
       "<Figure size 432x288 with 1 Axes>"
      ]
     },
     "metadata": {
      "needs_background": "light"
     },
     "output_type": "display_data"
    }
   ],
   "source": [
    "plt.hist(df['churn'])\n",
    "plt.xlabel('Churn')\n",
    "plt.ylabel('Count')\n",
    "plt.show()"
   ]
  },
  {
   "cell_type": "code",
   "execution_count": 10,
   "metadata": {},
   "outputs": [
    {
     "data": {
      "image/png": "[encoded data removed]",
      "text/plain": [
       "<Figure size 432x288 with 1 Axes>"
      ]
     },
     "metadata": {
      "needs_background": "light"
     },
     "output_type": "display_data"
    }
   ],
   "source": [
    "plt.hist(df['tenure'], bins=20)\n",
    "plt.xlabel('Tenure')\n",
    "plt.ylabel('Customer Count')\n",
    "plt.title('Number of months a customer has stayed with the company')\n",
    "plt.show()"
   ]
  },
  {
   "cell_type": "code",
   "execution_count": 11,
   "metadata": {},
   "outputs": [
    {
     "data": {
      "text/plain": [
       "<matplotlib.axes._subplots.AxesSubplot at 0x18e1aed2580>"
      ]
     },
     "execution_count": 11,
     "metadata": {},
     "output_type": "execute_result"
    },
    {
     "data": {
      "image/png": "[encoded data removed]",
      "text/plain": [
       "<Figure size 432x288 with 1 Axes>"
      ]
     },
     "metadata": {
      "needs_background": "light"
     },
     "output_type": "display_data"
    }
   ],
   "source": [
    "sns.barplot(x=df['churn'], y=df['tenure'])"
   ]
  },
  {
   "cell_type": "code",
   "execution_count": 12,
   "metadata": {},
   "outputs": [
    {
     "data": {
      "image/png": "[encoded data removed]",
      "text/plain": [
       "<Figure size 432x288 with 1 Axes>"
      ]
     },
     "metadata": {
      "needs_background": "light"
     },
     "output_type": "display_data"
    }
   ],
   "source": [
    "plt.hist(df['age'], bins=20)\n",
    "plt.xlabel('Age')\n",
    "plt.ylabel('Customer Count')\n",
    "plt.title('Distribution of the age of clients')\n",
    "plt.show()"
   ]
  },
  {
   "cell_type": "code",
   "execution_count": 13,
   "metadata": {},
   "outputs": [
    {
     "data": {
      "text/plain": [
       "dtype('float64')"
      ]
     },
     "execution_count": 13,
     "metadata": {},
     "output_type": "execute_result"
    }
   ],
   "source": [
    "df['age'].dtype"
   ]
  },
  {
   "cell_type": "code",
   "execution_count": 14,
   "metadata": {},
   "outputs": [],
   "source": [
    "df.age = df.age.astype(int)"
   ]
  },
  {
   "cell_type": "code",
   "execution_count": 15,
   "metadata": {},
   "outputs": [
    {
     "data": {
      "image/png": "[encoded data removed]",
      "text/plain": [
       "<Figure size 1440x432 with 1 Axes>"
      ]
     },
     "metadata": {
      "needs_background": "light"
     },
     "output_type": "display_data"
    }
   ],
   "source": [
    "pd.crosstab(df.age, df.churn).plot(kind=\"bar\",figsize=(20,6))\n",
    "plt.title('Customer churn by Age')\n",
    "plt.xlabel('Age')\n",
    "plt.ylabel('Frequency')\n",
    "plt.xticks(rotation = 0)\n",
    "plt.show()"
   ]
  },
  {
   "cell_type": "code",
   "execution_count": 16,
   "metadata": {},
   "outputs": [
    {
     "data": {
      "image/png": "[encoded data removed]",
      "text/plain": [
       "<Figure size 432x288 with 1 Axes>"
      ]
     },
     "metadata": {
      "needs_background": "light"
     },
     "output_type": "display_data"
    }
   ],
   "source": [
    "plt.hist(df['address'], bins=20)\n",
    "plt.xlabel('Address')\n",
    "plt.ylabel('Customer Count')\n",
    "plt.title('Distribution of address')\n",
    "plt.show()"
   ]
  },
  {
   "cell_type": "code",
   "execution_count": 17,
   "metadata": {},
   "outputs": [
    {
     "data": {
      "image/png": "[encoded data removed]",
      "text/plain": [
       "<Figure size 432x288 with 1 Axes>"
      ]
     },
     "metadata": {
      "needs_background": "light"
     },
     "output_type": "display_data"
    }
   ],
   "source": [
    "plt.hist(df['employ'], bins=20)\n",
    "plt.xlabel('Employ')\n",
    "plt.ylabel('Customer Count')\n",
    "plt.title('Distribution of employ')\n",
    "plt.show()"
   ]
  },
  {
   "cell_type": "code",
   "execution_count": 18,
   "metadata": {},
   "outputs": [
    {
     "data": {
      "image/png": "[encoded data removed]",
      "text/plain": [
       "<Figure size 432x288 with 1 Axes>"
      ]
     },
     "metadata": {
      "needs_background": "light"
     },
     "output_type": "display_data"
    }
   ],
   "source": [
    "plt.hist(df['equip'])\n",
    "plt.xlabel('equip')\n",
    "plt.ylabel('Customer Count')\n",
    "plt.title('Distribution of equip')\n",
    "plt.show()"
   ]
  },
  {
   "cell_type": "code",
   "execution_count": 19,
   "metadata": {},
   "outputs": [
    {
     "data": {
      "image/png": "[encoded data removed]",
      "text/plain": [
       "<Figure size 720x432 with 1 Axes>"
      ]
     },
     "metadata": {
      "needs_background": "light"
     },
     "output_type": "display_data"
    }
   ],
   "source": [
    "pd.crosstab(df.equip, df.churn).plot(kind=\"bar\",figsize=(10,6))\n",
    "plt.title('Customer churn by equip')\n",
    "plt.xlabel('equip')\n",
    "plt.ylabel('Frequency')\n",
    "plt.xticks(rotation = 0)\n",
    "plt.show()"
   ]
  },
  {
   "cell_type": "code",
   "execution_count": 20,
   "metadata": {},
   "outputs": [
    {
     "data": {
      "image/png": "[encoded data removed]",
      "text/plain": [
       "<Figure size 432x288 with 1 Axes>"
      ]
     },
     "metadata": {
      "needs_background": "light"
     },
     "output_type": "display_data"
    }
   ],
   "source": [
    "plt.hist(df['callcard'])\n",
    "plt.xlabel('callcard')\n",
    "plt.ylabel('Customer Count')\n",
    "plt.title('Distribution of callcard')\n",
    "plt.show()"
   ]
  },
  {
   "cell_type": "code",
   "execution_count": 21,
   "metadata": {},
   "outputs": [
    {
     "data": {
      "image/png": "[encoded data removed]",
      "text/plain": [
       "<Figure size 432x288 with 1 Axes>"
      ]
     },
     "metadata": {
      "needs_background": "light"
     },
     "output_type": "display_data"
    }
   ],
   "source": [
    "plt.hist(df['longmon'])\n",
    "plt.xlabel('longmon')\n",
    "plt.ylabel('Customer Count')\n",
    "plt.title('Distribution of longmon')\n",
    "plt.show()"
   ]
  },
  {
   "cell_type": "code",
   "execution_count": 22,
   "metadata": {},
   "outputs": [
    {
     "data": {
      "image/png": "[encoded data removed]",
      "text/plain": [
       "<Figure size 432x288 with 1 Axes>"
      ]
     },
     "metadata": {
      "needs_background": "light"
     },
     "output_type": "display_data"
    }
   ],
   "source": [
    "plt.hist(df['longten'], bins=20)\n",
    "plt.xlabel('longten')\n",
    "plt.ylabel('Customer Count')\n",
    "plt.title('Distribution of longten')\n",
    "plt.show()"
   ]
  },
  {
   "cell_type": "code",
   "execution_count": 23,
   "metadata": {},
   "outputs": [
    {
     "data": {
      "image/png": "[encoded data removed]",
      "text/plain": [
       "<Figure size 432x288 with 1 Axes>"
      ]
     },
     "metadata": {
      "needs_background": "light"
     },
     "output_type": "display_data"
    }
   ],
   "source": [
    "plt.hist(df['internet'])\n",
    "plt.xlabel('internet')\n",
    "plt.ylabel('Customer Count')\n",
    "plt.title('Distribution of internet')\n",
    "plt.show()"
   ]
  },
  {
   "cell_type": "code",
   "execution_count": 24,
   "metadata": {},
   "outputs": [
    {
     "data": {
      "image/png": "[encoded data removed]",
      "text/plain": [
       "<Figure size 720x432 with 1 Axes>"
      ]
     },
     "metadata": {
      "needs_background": "light"
     },
     "output_type": "display_data"
    }
   ],
   "source": [
    "pd.crosstab(df.internet, df.churn).plot(kind=\"bar\",figsize=(10,6))\n",
    "plt.title('Customer churn by internet')\n",
    "plt.xlabel('internet')\n",
    "plt.ylabel('Frequency')\n",
    "plt.xticks(rotation = 0)\n",
    "plt.show()"
   ]
  },
  {
   "cell_type": "code",
   "execution_count": 25,
   "metadata": {},
   "outputs": [
    {
     "data": {
      "image/png": "[encoded data removed]",
      "text/plain": [
       "<Figure size 432x288 with 1 Axes>"
      ]
     },
     "metadata": {
      "needs_background": "light"
     },
     "output_type": "display_data"
    }
   ],
   "source": [
    "plt.hist(df['ebill'])\n",
    "plt.xlabel('ebill')\n",
    "plt.ylabel('Customer Count')\n",
    "plt.title('Distribution of ebill')\n",
    "plt.show()"
   ]
  },
  {
   "cell_type": "code",
   "execution_count": 26,
   "metadata": {},
   "outputs": [
    {
     "data": {
      "image/png": "[encoded data removed]",
      "text/plain": [
       "<Figure size 720x432 with 1 Axes>"
      ]
     },
     "metadata": {
      "needs_background": "light"
     },
     "output_type": "display_data"
    }
   ],
   "source": [
    "pd.crosstab(df.ebill, df.churn).plot(kind=\"bar\",figsize=(10,6))\n",
    "plt.title('Customer churn by ebill')\n",
    "plt.xlabel('ebill')\n",
    "plt.ylabel('Frequency')\n",
    "plt.xticks(rotation = 0)\n",
    "plt.show()"
   ]
  },
  {
   "cell_type": "code",
   "execution_count": 27,
   "metadata": {},
   "outputs": [
    {
     "data": {
      "image/png": "[encoded data removed]",
      "text/plain": [
       "<Figure size 432x288 with 1 Axes>"
      ]
     },
     "metadata": {
      "needs_background": "light"
     },
     "output_type": "display_data"
    }
   ],
   "source": [
    "plt.hist(df['loglong'])\n",
    "plt.xlabel('loglong')\n",
    "plt.ylabel('Customer Count')\n",
    "plt.title('Distribution of loglong')\n",
    "plt.show()"
   ]
  },
  {
   "cell_type": "markdown",
   "metadata": {},
   "source": [
    "### Preprocessing"
   ]
  },
  {
   "cell_type": "code",
   "execution_count": 28,
   "metadata": {},
   "outputs": [
    {
     "data": {
      "text/html": [
       "<div>\n",
       "<style scoped>\n",
       "    .dataframe tbody tr th:only-of-type {\n",
       "        vertical-align: middle;\n",
       "    }\n",
       "\n",
       "    .dataframe tbody tr th {\n",
       "        vertical-align: top;\n",
       "    }\n",
       "\n",
       "    .dataframe thead th {\n",
       "        text-align: right;\n",
       "    }\n",
       "</style>\n",
       "<table border=\"1\" class=\"dataframe\">\n",
       "  <thead>\n",
       "    <tr style=\"text-align: right;\">\n",
       "      <th></th>\n",
       "      <th>tenure</th>\n",
       "      <th>age</th>\n",
       "      <th>address</th>\n",
       "      <th>income</th>\n",
       "      <th>ed</th>\n",
       "      <th>employ</th>\n",
       "      <th>equip</th>\n",
       "      <th>callcard</th>\n",
       "      <th>wireless</th>\n",
       "      <th>longmon</th>\n",
       "      <th>tollmon</th>\n",
       "      <th>equipmon</th>\n",
       "      <th>cardmon</th>\n",
       "      <th>wiremon</th>\n",
       "      <th>longten</th>\n",
       "      <th>tollten</th>\n",
       "      <th>cardten</th>\n",
       "      <th>voice</th>\n",
       "      <th>pager</th>\n",
       "      <th>internet</th>\n",
       "      <th>callwait</th>\n",
       "      <th>confer</th>\n",
       "      <th>ebill</th>\n",
       "      <th>loglong</th>\n",
       "      <th>logtoll</th>\n",
       "      <th>lninc</th>\n",
       "      <th>custcat</th>\n",
       "      <th>churn</th>\n",
       "    </tr>\n",
       "  </thead>\n",
       "  <tbody>\n",
       "    <tr>\n",
       "      <th>0</th>\n",
       "      <td>11.0</td>\n",
       "      <td>33</td>\n",
       "      <td>7.0</td>\n",
       "      <td>136.0</td>\n",
       "      <td>5.0</td>\n",
       "      <td>5.0</td>\n",
       "      <td>0.0</td>\n",
       "      <td>1.0</td>\n",
       "      <td>1.0</td>\n",
       "      <td>4.40</td>\n",
       "      <td>20.75</td>\n",
       "      <td>0.0</td>\n",
       "      <td>15.25</td>\n",
       "      <td>35.7</td>\n",
       "      <td>42.00</td>\n",
       "      <td>211.45</td>\n",
       "      <td>125.0</td>\n",
       "      <td>1.0</td>\n",
       "      <td>1.0</td>\n",
       "      <td>0.0</td>\n",
       "      <td>1.0</td>\n",
       "      <td>1.0</td>\n",
       "      <td>0.0</td>\n",
       "      <td>1.482</td>\n",
       "      <td>3.033</td>\n",
       "      <td>4.913</td>\n",
       "      <td>4.0</td>\n",
       "      <td>1.0</td>\n",
       "    </tr>\n",
       "    <tr>\n",
       "      <th>1</th>\n",
       "      <td>33.0</td>\n",
       "      <td>33</td>\n",
       "      <td>12.0</td>\n",
       "      <td>33.0</td>\n",
       "      <td>2.0</td>\n",
       "      <td>0.0</td>\n",
       "      <td>0.0</td>\n",
       "      <td>0.0</td>\n",
       "      <td>0.0</td>\n",
       "      <td>9.45</td>\n",
       "      <td>0.00</td>\n",
       "      <td>0.0</td>\n",
       "      <td>0.00</td>\n",
       "      <td>0.0</td>\n",
       "      <td>288.80</td>\n",
       "      <td>0.00</td>\n",
       "      <td>0.0</td>\n",
       "      <td>0.0</td>\n",
       "      <td>0.0</td>\n",
       "      <td>0.0</td>\n",
       "      <td>0.0</td>\n",
       "      <td>0.0</td>\n",
       "      <td>0.0</td>\n",
       "      <td>2.246</td>\n",
       "      <td>3.240</td>\n",
       "      <td>3.497</td>\n",
       "      <td>1.0</td>\n",
       "      <td>1.0</td>\n",
       "    </tr>\n",
       "    <tr>\n",
       "      <th>2</th>\n",
       "      <td>23.0</td>\n",
       "      <td>30</td>\n",
       "      <td>9.0</td>\n",
       "      <td>30.0</td>\n",
       "      <td>1.0</td>\n",
       "      <td>2.0</td>\n",
       "      <td>0.0</td>\n",
       "      <td>0.0</td>\n",
       "      <td>0.0</td>\n",
       "      <td>6.30</td>\n",
       "      <td>0.00</td>\n",
       "      <td>0.0</td>\n",
       "      <td>0.00</td>\n",
       "      <td>0.0</td>\n",
       "      <td>157.05</td>\n",
       "      <td>0.00</td>\n",
       "      <td>0.0</td>\n",
       "      <td>0.0</td>\n",
       "      <td>0.0</td>\n",
       "      <td>0.0</td>\n",
       "      <td>0.0</td>\n",
       "      <td>1.0</td>\n",
       "      <td>0.0</td>\n",
       "      <td>1.841</td>\n",
       "      <td>3.240</td>\n",
       "      <td>3.401</td>\n",
       "      <td>3.0</td>\n",
       "      <td>0.0</td>\n",
       "    </tr>\n",
       "    <tr>\n",
       "      <th>3</th>\n",
       "      <td>38.0</td>\n",
       "      <td>35</td>\n",
       "      <td>5.0</td>\n",
       "      <td>76.0</td>\n",
       "      <td>2.0</td>\n",
       "      <td>10.0</td>\n",
       "      <td>1.0</td>\n",
       "      <td>1.0</td>\n",
       "      <td>1.0</td>\n",
       "      <td>6.05</td>\n",
       "      <td>45.00</td>\n",
       "      <td>50.1</td>\n",
       "      <td>23.25</td>\n",
       "      <td>64.9</td>\n",
       "      <td>239.55</td>\n",
       "      <td>1873.05</td>\n",
       "      <td>880.0</td>\n",
       "      <td>1.0</td>\n",
       "      <td>1.0</td>\n",
       "      <td>1.0</td>\n",
       "      <td>1.0</td>\n",
       "      <td>1.0</td>\n",
       "      <td>1.0</td>\n",
       "      <td>1.800</td>\n",
       "      <td>3.807</td>\n",
       "      <td>4.331</td>\n",
       "      <td>4.0</td>\n",
       "      <td>0.0</td>\n",
       "    </tr>\n",
       "    <tr>\n",
       "      <th>4</th>\n",
       "      <td>7.0</td>\n",
       "      <td>35</td>\n",
       "      <td>14.0</td>\n",
       "      <td>80.0</td>\n",
       "      <td>2.0</td>\n",
       "      <td>15.0</td>\n",
       "      <td>0.0</td>\n",
       "      <td>1.0</td>\n",
       "      <td>0.0</td>\n",
       "      <td>7.10</td>\n",
       "      <td>22.00</td>\n",
       "      <td>0.0</td>\n",
       "      <td>23.75</td>\n",
       "      <td>0.0</td>\n",
       "      <td>47.45</td>\n",
       "      <td>166.10</td>\n",
       "      <td>145.0</td>\n",
       "      <td>1.0</td>\n",
       "      <td>0.0</td>\n",
       "      <td>0.0</td>\n",
       "      <td>1.0</td>\n",
       "      <td>1.0</td>\n",
       "      <td>0.0</td>\n",
       "      <td>1.960</td>\n",
       "      <td>3.091</td>\n",
       "      <td>4.382</td>\n",
       "      <td>3.0</td>\n",
       "      <td>0.0</td>\n",
       "    </tr>\n",
       "  </tbody>\n",
       "</table>\n",
       "</div>"
      ],
      "text/plain": [
       "   tenure  age  address  income   ed  employ  equip  callcard  wireless  \\\n",
       "0    11.0   33      7.0   136.0  5.0     5.0    0.0       1.0       1.0   \n",
       "1    33.0   33     12.0    33.0  2.0     0.0    0.0       0.0       0.0   \n",
       "2    23.0   30      9.0    30.0  1.0     2.0    0.0       0.0       0.0   \n",
       "3    38.0   35      5.0    76.0  2.0    10.0    1.0       1.0       1.0   \n",
       "4     7.0   35     14.0    80.0  2.0    15.0    0.0       1.0       0.0   \n",
       "\n",
       "   longmon  tollmon  equipmon  cardmon  wiremon  longten  tollten  cardten  \\\n",
       "0     4.40    20.75       0.0    15.25     35.7    42.00   211.45    125.0   \n",
       "1     9.45     0.00       0.0     0.00      0.0   288.80     0.00      0.0   \n",
       "2     6.30     0.00       0.0     0.00      0.0   157.05     0.00      0.0   \n",
       "3     6.05    45.00      50.1    23.25     64.9   239.55  1873.05    880.0   \n",
       "4     7.10    22.00       0.0    23.75      0.0    47.45   166.10    145.0   \n",
       "\n",
       "   voice  pager  internet  callwait  confer  ebill  loglong  logtoll  lninc  \\\n",
       "0    1.0    1.0       0.0       1.0     1.0    0.0    1.482    3.033  4.913   \n",
       "1    0.0    0.0       0.0       0.0     0.0    0.0    2.246    3.240  3.497   \n",
       "2    0.0    0.0       0.0       0.0     1.0    0.0    1.841    3.240  3.401   \n",
       "3    1.0    1.0       1.0       1.0     1.0    1.0    1.800    3.807  4.331   \n",
       "4    1.0    0.0       0.0       1.0     1.0    0.0    1.960    3.091  4.382   \n",
       "\n",
       "   custcat  churn  \n",
       "0      4.0    1.0  \n",
       "1      1.0    1.0  \n",
       "2      3.0    0.0  \n",
       "3      4.0    0.0  \n",
       "4      3.0    0.0  "
      ]
     },
     "execution_count": 28,
     "metadata": {},
     "output_type": "execute_result"
    }
   ],
   "source": [
    "df.head()"
   ]
  },
  {
   "cell_type": "code",
   "execution_count": 29,
   "metadata": {},
   "outputs": [],
   "source": [
    "features_df = df.copy()"
   ]
  },
  {
   "cell_type": "code",
   "execution_count": 30,
   "metadata": {},
   "outputs": [],
   "source": [
    "features_df.drop(\"income\", axis = 1, inplace = True)\n",
    "features_df.drop(\"ed\", axis = 1, inplace = True)\n",
    "features_df.drop(\"wireless\", axis = 1, inplace = True)\n",
    "features_df.drop(\"tollmon\", axis = 1, inplace = True)\n",
    "features_df.drop(\"equipmon\", axis = 1, inplace = True)\n",
    "features_df.drop(\"cardmon\", axis = 1, inplace = True)\n",
    "features_df.drop(\"wiremon\", axis = 1, inplace = True)\n",
    "features_df.drop(\"cardten\", axis = 1, inplace = True)\n",
    "features_df.drop(\"tollten\", axis = 1, inplace = True)\n",
    "features_df.drop(\"voice\", axis = 1, inplace = True)\n",
    "features_df.drop(\"pager\", axis = 1, inplace = True)\n",
    "features_df.drop(\"callwait\", axis = 1, inplace = True)\n",
    "features_df.drop(\"confer\", axis = 1, inplace = True)\n",
    "features_df.drop(\"logtoll\", axis = 1, inplace = True)\n",
    "features_df.drop(\"lninc\", axis = 1, inplace = True)\n",
    "features_df.drop(\"custcat\", axis = 1, inplace = True)"
   ]
  },
  {
   "cell_type": "code",
   "execution_count": 31,
   "metadata": {},
   "outputs": [
    {
     "data": {
      "text/html": [
       "<div>\n",
       "<style scoped>\n",
       "    .dataframe tbody tr th:only-of-type {\n",
       "        vertical-align: middle;\n",
       "    }\n",
       "\n",
       "    .dataframe tbody tr th {\n",
       "        vertical-align: top;\n",
       "    }\n",
       "\n",
       "    .dataframe thead th {\n",
       "        text-align: right;\n",
       "    }\n",
       "</style>\n",
       "<table border=\"1\" class=\"dataframe\">\n",
       "  <thead>\n",
       "    <tr style=\"text-align: right;\">\n",
       "      <th></th>\n",
       "      <th>tenure</th>\n",
       "      <th>age</th>\n",
       "      <th>address</th>\n",
       "      <th>employ</th>\n",
       "      <th>equip</th>\n",
       "      <th>callcard</th>\n",
       "      <th>longmon</th>\n",
       "      <th>longten</th>\n",
       "      <th>internet</th>\n",
       "      <th>ebill</th>\n",
       "      <th>loglong</th>\n",
       "      <th>churn</th>\n",
       "    </tr>\n",
       "  </thead>\n",
       "  <tbody>\n",
       "    <tr>\n",
       "      <th>0</th>\n",
       "      <td>11.0</td>\n",
       "      <td>33</td>\n",
       "      <td>7.0</td>\n",
       "      <td>5.0</td>\n",
       "      <td>0.0</td>\n",
       "      <td>1.0</td>\n",
       "      <td>4.40</td>\n",
       "      <td>42.00</td>\n",
       "      <td>0.0</td>\n",
       "      <td>0.0</td>\n",
       "      <td>1.482</td>\n",
       "      <td>1.0</td>\n",
       "    </tr>\n",
       "    <tr>\n",
       "      <th>1</th>\n",
       "      <td>33.0</td>\n",
       "      <td>33</td>\n",
       "      <td>12.0</td>\n",
       "      <td>0.0</td>\n",
       "      <td>0.0</td>\n",
       "      <td>0.0</td>\n",
       "      <td>9.45</td>\n",
       "      <td>288.80</td>\n",
       "      <td>0.0</td>\n",
       "      <td>0.0</td>\n",
       "      <td>2.246</td>\n",
       "      <td>1.0</td>\n",
       "    </tr>\n",
       "    <tr>\n",
       "      <th>2</th>\n",
       "      <td>23.0</td>\n",
       "      <td>30</td>\n",
       "      <td>9.0</td>\n",
       "      <td>2.0</td>\n",
       "      <td>0.0</td>\n",
       "      <td>0.0</td>\n",
       "      <td>6.30</td>\n",
       "      <td>157.05</td>\n",
       "      <td>0.0</td>\n",
       "      <td>0.0</td>\n",
       "      <td>1.841</td>\n",
       "      <td>0.0</td>\n",
       "    </tr>\n",
       "    <tr>\n",
       "      <th>3</th>\n",
       "      <td>38.0</td>\n",
       "      <td>35</td>\n",
       "      <td>5.0</td>\n",
       "      <td>10.0</td>\n",
       "      <td>1.0</td>\n",
       "      <td>1.0</td>\n",
       "      <td>6.05</td>\n",
       "      <td>239.55</td>\n",
       "      <td>1.0</td>\n",
       "      <td>1.0</td>\n",
       "      <td>1.800</td>\n",
       "      <td>0.0</td>\n",
       "    </tr>\n",
       "    <tr>\n",
       "      <th>4</th>\n",
       "      <td>7.0</td>\n",
       "      <td>35</td>\n",
       "      <td>14.0</td>\n",
       "      <td>15.0</td>\n",
       "      <td>0.0</td>\n",
       "      <td>1.0</td>\n",
       "      <td>7.10</td>\n",
       "      <td>47.45</td>\n",
       "      <td>0.0</td>\n",
       "      <td>0.0</td>\n",
       "      <td>1.960</td>\n",
       "      <td>0.0</td>\n",
       "    </tr>\n",
       "  </tbody>\n",
       "</table>\n",
       "</div>"
      ],
      "text/plain": [
       "   tenure  age  address  employ  equip  callcard  longmon  longten  internet  \\\n",
       "0    11.0   33      7.0     5.0    0.0       1.0     4.40    42.00       0.0   \n",
       "1    33.0   33     12.0     0.0    0.0       0.0     9.45   288.80       0.0   \n",
       "2    23.0   30      9.0     2.0    0.0       0.0     6.30   157.05       0.0   \n",
       "3    38.0   35      5.0    10.0    1.0       1.0     6.05   239.55       1.0   \n",
       "4     7.0   35     14.0    15.0    0.0       1.0     7.10    47.45       0.0   \n",
       "\n",
       "   ebill  loglong  churn  \n",
       "0    0.0    1.482    1.0  \n",
       "1    0.0    2.246    1.0  \n",
       "2    0.0    1.841    0.0  \n",
       "3    1.0    1.800    0.0  \n",
       "4    0.0    1.960    0.0  "
      ]
     },
     "execution_count": 31,
     "metadata": {},
     "output_type": "execute_result"
    }
   ],
   "source": [
    "features_df.head()"
   ]
  },
  {
   "cell_type": "code",
   "execution_count": 32,
   "metadata": {},
   "outputs": [],
   "source": [
    "targets_df = features_df['churn']\n",
    "features_df.drop(\"churn\", axis = 1, inplace = True)"
   ]
  },
  {
   "cell_type": "code",
   "execution_count": null,
   "metadata": {},
   "outputs": [],
   "source": [
    "features_df_ns = features_df.copy()"
   ]
  },
  {
   "cell_type": "markdown",
   "metadata": {},
   "source": [
    "##### Normalization"
   ]
  },
  {
   "cell_type": "code",
   "execution_count": 33,
   "metadata": {},
   "outputs": [],
   "source": [
    "features_df['tenure'] = features_df['tenure'] / features_df['tenure'].max()\n",
    "features_df['age'] = features_df['age'] / features_df['age'].max()\n",
    "features_df['address'] = features_df['address'] / features_df['address'].max()\n",
    "features_df['longmon'] = features_df['longmon'] / features_df['longmon'].max()\n",
    "features_df['longten'] = features_df['longten'] / features_df['longten'].max()\n",
    "features_df['loglong'] = features_df['loglong'] / features_df['loglong'].max()"
   ]
  },
  {
   "cell_type": "markdown",
   "metadata": {},
   "source": [
    "### Logistic Regression"
   ]
  },
  {
   "cell_type": "code",
   "execution_count": 34,
   "metadata": {},
   "outputs": [],
   "source": [
    "x = features_df.copy()\n",
    "y = targets_df.copy()"
   ]
  },
  {
   "cell_type": "code",
   "execution_count": 35,
   "metadata": {},
   "outputs": [],
   "source": [
    "x_train, x_test, y_train, y_test = train_test_split(x, y, test_size = 0.2, random_state = 0)"
   ]
  },
  {
   "cell_type": "code",
   "execution_count": 36,
   "metadata": {},
   "outputs": [
    {
     "name": "stdout",
     "output_type": "stream",
     "text": [
      "Accuracy score of the model is: 75.0 %\n"
     ]
    }
   ],
   "source": [
    "lr = LogisticRegression()\n",
    "lr.fit(x_train, y_train)\n",
    "y_pred = lr.predict(x_test)\n",
    "\n",
    "print(\"Accuracy score of the model is:\",accuracy_score(y_test, y_pred) * 100,\"%\")"
   ]
  },
  {
   "cell_type": "code",
   "execution_count": 37,
   "metadata": {},
   "outputs": [
    {
     "name": "stdout",
     "output_type": "stream",
     "text": [
      "[[27  4]\n",
      " [ 6  3]]\n"
     ]
    }
   ],
   "source": [
    "print(confusion_matrix(y_test, y_pred))"
   ]
  },
  {
   "cell_type": "code",
   "execution_count": 38,
   "metadata": {},
   "outputs": [
    {
     "data": {
      "text/plain": [
       "0.8709677419354839"
      ]
     },
     "execution_count": 38,
     "metadata": {},
     "output_type": "execute_result"
    }
   ],
   "source": [
    "#precision = True positive / True positive + False Positive\n",
    "precision = 27 / 31\n",
    "precision"
   ]
  },
  {
   "cell_type": "code",
   "execution_count": 39,
   "metadata": {},
   "outputs": [
    {
     "data": {
      "text/plain": [
       "0.8181818181818182"
      ]
     },
     "execution_count": 39,
     "metadata": {},
     "output_type": "execute_result"
    }
   ],
   "source": [
    "#recall = True positive / True Positive + False Negative\n",
    "recall = 27 / 33\n",
    "recall"
   ]
  },
  {
   "cell_type": "code",
   "execution_count": 40,
   "metadata": {},
   "outputs": [
    {
     "data": {
      "text/plain": [
       "0.42857142857142855"
      ]
     },
     "execution_count": 40,
     "metadata": {},
     "output_type": "execute_result"
    }
   ],
   "source": [
    "#specificity = True Negative / True Negative + False Positive\n",
    "specificity = 3 / 7\n",
    "specificity"
   ]
  },
  {
   "cell_type": "markdown",
   "metadata": {},
   "source": [
    "##### Interpretation of the results"
   ]
  },
  {
   "cell_type": "markdown",
   "metadata": {},
   "source": [
    "* The model scored an overall accuracy of approximately <b>75 %</b>.\n",
    "* It was right in <b>87 %</b> of the times a positive class was predicted.\n",
    "* Recognized <b>82 %</b> of all positive, and <b>43 %</b> of all negative examples. "
   ]
  },
  {
   "cell_type": "markdown",
   "metadata": {},
   "source": [
    "### K Nearest Neighbor Classifier"
   ]
  },
  {
   "cell_type": "code",
   "execution_count": 41,
   "metadata": {},
   "outputs": [
    {
     "name": "stdout",
     "output_type": "stream",
     "text": [
      "Accuracy score of the model is: 77.5 %\n"
     ]
    }
   ],
   "source": [
    "knn = KNeighborsClassifier(n_neighbors=8)\n",
    "knn.fit(x_train,y_train)\n",
    "y_pred1 = knn.predict(x_test)\n",
    "\n",
    "print(\"Accuracy score of the model is:\",accuracy_score(y_test, y_pred1) * 100,\"%\")"
   ]
  },
  {
   "cell_type": "code",
   "execution_count": 42,
   "metadata": {},
   "outputs": [
    {
     "name": "stdout",
     "output_type": "stream",
     "text": [
      "[[28  3]\n",
      " [ 6  3]]\n"
     ]
    }
   ],
   "source": [
    "print(confusion_matrix(y_test, y_pred1))"
   ]
  },
  {
   "cell_type": "code",
   "execution_count": 43,
   "metadata": {},
   "outputs": [
    {
     "data": {
      "text/plain": [
       "0.9032258064516129"
      ]
     },
     "execution_count": 43,
     "metadata": {},
     "output_type": "execute_result"
    }
   ],
   "source": [
    "#precision = True positive / True positive + False Positive\n",
    "precision = 28 / 31\n",
    "precision"
   ]
  },
  {
   "cell_type": "code",
   "execution_count": 44,
   "metadata": {},
   "outputs": [
    {
     "data": {
      "text/plain": [
       "0.8181818181818182"
      ]
     },
     "execution_count": 44,
     "metadata": {},
     "output_type": "execute_result"
    }
   ],
   "source": [
    "#recall = True positive / True Positive + False Negative\n",
    "recall = 27 / 33\n",
    "recall"
   ]
  },
  {
   "cell_type": "code",
   "execution_count": 45,
   "metadata": {},
   "outputs": [
    {
     "data": {
      "text/plain": [
       "0.5"
      ]
     },
     "execution_count": 45,
     "metadata": {},
     "output_type": "execute_result"
    }
   ],
   "source": [
    "#specificity = True Negative / True Negative + False Positive\n",
    "specificity = 3 / 6\n",
    "specificity"
   ]
  },
  {
   "cell_type": "markdown",
   "metadata": {},
   "source": [
    "##### Interpretation of the results"
   ]
  },
  {
   "cell_type": "markdown",
   "metadata": {},
   "source": [
    "* The model scored an overall accuracy of approximately <b>77.5 %</b>.\n",
    "* It was right in <b>90 %</b> of the times a positive class was predicted.\n",
    "* Recognized <b>82 %</b> of all positive, and <b>50 %</b> of all negative examples. "
   ]
  },
  {
   "cell_type": "markdown",
   "metadata": {},
   "source": [
    "### Support Vector Classifier"
   ]
  },
  {
   "cell_type": "code",
   "execution_count": 46,
   "metadata": {},
   "outputs": [
    {
     "name": "stdout",
     "output_type": "stream",
     "text": [
      "Accuracy score of the model is: 77.5 %\n"
     ]
    }
   ],
   "source": [
    "svc = SVC()\n",
    "svc.fit(x_train, y_train)\n",
    "y_pred2 = svc.predict(x_test)\n",
    "\n",
    "print(\"Accuracy score of the model is:\",accuracy_score(y_test, y_pred2) * 100,\"%\")"
   ]
  },
  {
   "cell_type": "code",
   "execution_count": 47,
   "metadata": {},
   "outputs": [
    {
     "name": "stdout",
     "output_type": "stream",
     "text": [
      "[[31  0]\n",
      " [ 9  0]]\n"
     ]
    }
   ],
   "source": [
    "print(confusion_matrix(y_test, y_pred2))"
   ]
  },
  {
   "cell_type": "code",
   "execution_count": 48,
   "metadata": {},
   "outputs": [
    {
     "data": {
      "text/plain": [
       "1.0"
      ]
     },
     "execution_count": 48,
     "metadata": {},
     "output_type": "execute_result"
    }
   ],
   "source": [
    "#precision = True positive / True positive + False Positive\n",
    "precision = 31 / 31\n",
    "precision"
   ]
  },
  {
   "cell_type": "code",
   "execution_count": 49,
   "metadata": {},
   "outputs": [
    {
     "data": {
      "text/plain": [
       "0.775"
      ]
     },
     "execution_count": 49,
     "metadata": {},
     "output_type": "execute_result"
    }
   ],
   "source": [
    "#recall = True positive / True Positive + False Negative\n",
    "recall = 31 / 40\n",
    "recall"
   ]
  },
  {
   "cell_type": "code",
   "execution_count": 50,
   "metadata": {},
   "outputs": [],
   "source": [
    "#specificity is obviously = 0"
   ]
  },
  {
   "cell_type": "markdown",
   "metadata": {},
   "source": [
    "##### Interpretation of the results"
   ]
  },
  {
   "cell_type": "markdown",
   "metadata": {},
   "source": [
    "* The model scored an overall accuracy of approximately <b>77.5 %</b>.\n",
    "* It was right in <b>100 %</b> of the times a positive class was predicted.\n",
    "* Recognized <b>78 %</b> of all positive, and <b>0 %</b> of all negative examples. "
   ]
  },
  {
   "cell_type": "markdown",
   "metadata": {},
   "source": [
    "### Decision Tree Classifier"
   ]
  },
  {
   "cell_type": "code",
   "execution_count": 51,
   "metadata": {},
   "outputs": [
    {
     "name": "stdout",
     "output_type": "stream",
     "text": [
      "Accuracy score of the model is: 72.5 %\n"
     ]
    }
   ],
   "source": [
    "dtc = DecisionTreeClassifier()\n",
    "dtc.fit(x_train, y_train)\n",
    "y_pred3 = dtc.predict(x_test)\n",
    "\n",
    "print(\"Accuracy score of the model is:\",accuracy_score(y_test, y_pred3) * 100,\"%\")"
   ]
  },
  {
   "cell_type": "code",
   "execution_count": 52,
   "metadata": {},
   "outputs": [
    {
     "name": "stdout",
     "output_type": "stream",
     "text": [
      "[[24  7]\n",
      " [ 4  5]]\n"
     ]
    }
   ],
   "source": [
    "print(confusion_matrix(y_test, y_pred3))"
   ]
  },
  {
   "cell_type": "code",
   "execution_count": 53,
   "metadata": {},
   "outputs": [
    {
     "data": {
      "text/plain": [
       "0.7419354838709677"
      ]
     },
     "execution_count": 53,
     "metadata": {},
     "output_type": "execute_result"
    }
   ],
   "source": [
    "#precision = True positive / True positive + False Positive\n",
    "precision = 23 / 31\n",
    "precision"
   ]
  },
  {
   "cell_type": "code",
   "execution_count": 54,
   "metadata": {},
   "outputs": [
    {
     "data": {
      "text/plain": [
       "0.8214285714285714"
      ]
     },
     "execution_count": 54,
     "metadata": {},
     "output_type": "execute_result"
    }
   ],
   "source": [
    "#recall = True positive / True Positive + False Negative\n",
    "recall = 23 / 28\n",
    "recall"
   ]
  },
  {
   "cell_type": "code",
   "execution_count": 55,
   "metadata": {},
   "outputs": [
    {
     "data": {
      "text/plain": [
       "0.38461538461538464"
      ]
     },
     "execution_count": 55,
     "metadata": {},
     "output_type": "execute_result"
    }
   ],
   "source": [
    "#specificity = True Negative / True Negative + False Positive\n",
    "specificity = 5 / 13\n",
    "specificity"
   ]
  },
  {
   "cell_type": "markdown",
   "metadata": {},
   "source": [
    "##### Interpretation of the results"
   ]
  },
  {
   "cell_type": "markdown",
   "metadata": {},
   "source": [
    "* The model scored an overall accuracy of approximately <b>70 %</b>.\n",
    "* It was right in <b>74 %</b> of the times a positive class was predicted.\n",
    "* Recognized <b>82 %</b> of all positive, and <b>38 %</b> of all negative examples. "
   ]
  },
  {
   "cell_type": "markdown",
   "metadata": {},
   "source": [
    "### Random Forrest Classifier"
   ]
  },
  {
   "cell_type": "code",
   "execution_count": 56,
   "metadata": {},
   "outputs": [
    {
     "name": "stdout",
     "output_type": "stream",
     "text": [
      "Accuracy score of the model is: 72.5 %\n"
     ]
    }
   ],
   "source": [
    "rfc = RandomForestClassifier(criterion = 'gini', max_depth = 7, max_features = 'sqrt', min_samples_leaf = 2, min_samples_split = 4, n_estimators = 180)\n",
    "rfc.fit(x_train, y_train)\n",
    "y_pred4 = rfc.predict(x_test)\n",
    "\n",
    "print(\"Accuracy score of the model is:\",accuracy_score(y_test, y_pred4) * 100,\"%\")"
   ]
  },
  {
   "cell_type": "code",
   "execution_count": 57,
   "metadata": {},
   "outputs": [
    {
     "name": "stdout",
     "output_type": "stream",
     "text": [
      "[[27  4]\n",
      " [ 7  2]]\n"
     ]
    }
   ],
   "source": [
    "print(confusion_matrix(y_test, y_pred4))"
   ]
  },
  {
   "cell_type": "code",
   "execution_count": 58,
   "metadata": {},
   "outputs": [
    {
     "data": {
      "text/plain": [
       "0.9032258064516129"
      ]
     },
     "execution_count": 58,
     "metadata": {},
     "output_type": "execute_result"
    }
   ],
   "source": [
    "#precision = True positive / True positive + False Positive\n",
    "precision = 28 / 31\n",
    "precision"
   ]
  },
  {
   "cell_type": "code",
   "execution_count": 59,
   "metadata": {},
   "outputs": [
    {
     "data": {
      "text/plain": [
       "0.8"
      ]
     },
     "execution_count": 59,
     "metadata": {},
     "output_type": "execute_result"
    }
   ],
   "source": [
    "#recall = True positive / True Positive + False Negative\n",
    "recall = 28 / 35\n",
    "recall"
   ]
  },
  {
   "cell_type": "code",
   "execution_count": 60,
   "metadata": {},
   "outputs": [
    {
     "data": {
      "text/plain": [
       "0.4"
      ]
     },
     "execution_count": 60,
     "metadata": {},
     "output_type": "execute_result"
    }
   ],
   "source": [
    "#specificity = True Negative / True Negative + False Positive\n",
    "specificity = 2 / 5\n",
    "specificity"
   ]
  },
  {
   "cell_type": "markdown",
   "metadata": {},
   "source": [
    "##### Interpretation of the results"
   ]
  },
  {
   "cell_type": "markdown",
   "metadata": {},
   "source": [
    "* The model scored an overall accuracy of approximately <b>75 %</b>.\n",
    "* It was right in <b>90 %</b> of the times a positive class was predicted.\n",
    "* Recognized <b>80 %</b> of all positive, and <b>40 %</b> of all negative examples. "
   ]
  },
  {
   "cell_type": "markdown",
   "metadata": {},
   "source": [
    "### Classification Report"
   ]
  },
  {
   "cell_type": "code",
   "execution_count": 61,
   "metadata": {},
   "outputs": [],
   "source": [
    "lr_pred_prob = lr.predict_proba(x_test)\n",
    "knn_pred_prob = knn.predict_proba(x_test)\n",
    "dtc_pred_prob = dtc.predict_proba(x_test)\n",
    "rfc_pred_prob = rfc.predict_proba(x_test)"
   ]
  },
  {
   "cell_type": "code",
   "execution_count": 62,
   "metadata": {},
   "outputs": [],
   "source": [
    "lr_fpr, lr_tpr, lr_thresh = roc_curve(y_test, lr_pred_prob[:,1], pos_label=1)\n",
    "knn_fpr, knn_tpr, knn_thresh = roc_curve(y_test, knn_pred_prob[:,1], pos_label=1)\n",
    "dtc_fpr, dtc_tpr, dtc_thresh = roc_curve(y_test, dtc_pred_prob[:,1], pos_label=1)\n",
    "rfc_fpr, rfc_tpr, rfc_thresh = roc_curve(y_test, rfc_pred_prob[:,1], pos_label=1)"
   ]
  },
  {
   "cell_type": "code",
   "execution_count": 63,
   "metadata": {},
   "outputs": [],
   "source": [
    "random_probs = [0 for i in range(len(y_test))]\n",
    "p_fpr, p_tpr, _ = roc_curve(y_test, random_probs, pos_label=1)"
   ]
  },
  {
   "cell_type": "code",
   "execution_count": 64,
   "metadata": {},
   "outputs": [
    {
     "data": {
      "image/png": "[encoded data removed]",
      "text/plain": [
       "<Figure size 432x288 with 1 Axes>"
      ]
     },
     "metadata": {
      "needs_background": "light"
     },
     "output_type": "display_data"
    }
   ],
   "source": [
    "plt.plot(lr_fpr, lr_tpr, linestyle='-',color='yellow', label='Logistic Regression')\n",
    "plt.plot(knn_fpr, knn_tpr, linestyle='-',color='green', label='KNN')\n",
    "plt.plot(dtc_fpr, dtc_tpr, linestyle='-',color='purple', label='DecisionTreeClassifier')\n",
    "plt.plot(rfc_fpr, rfc_tpr, linestyle='-',color='cyan', label='RandomForestClassifier')\n",
    "plt.plot(p_fpr, p_tpr, linestyle='--', color='blue')\n",
    "plt.title('ROC curve')\n",
    "plt.xlabel('False Positive Rate')\n",
    "plt.ylabel('True Positive rate')\n",
    "plt.legend(loc='best')\n",
    "\n",
    "plt.show()\n"
   ]
  },
  {
   "cell_type": "markdown",
   "metadata": {},
   "source": [
    "Algorithm     | Accuracy  | Precision | Recall | Specificity |\n",
    "------------- | --------- | ------    | -----  | -----|\n",
    "LR            | 75        | 87        | 82     | 43\n",
    "KNN           | 77.5      | 90        | 82     | 50\n",
    "SVM           | 77.5      | 100       | 78     | 0\n",
    "DTC           | 70        | 74        | 82     | 38\n",
    "RFC           | 75        | 90        | 80     | 40"
   ]
  },
  {
   "cell_type": "markdown",
   "metadata": {},
   "source": [
    "Based on the ROC curve, it looks like the RandomForestClassifier is the best performing model, but the classification evaluation metrics are pointing towards the KNearestNeighborsClassifier."
   ]
  },
  {
   "cell_type": "code",
   "execution_count": null,
   "metadata": {},
   "outputs": [],
   "source": []
  }
 ],
 "metadata": {
  "kernelspec": {
   "display_name": "Python 3",
   "language": "python",
   "name": "python3"
  },
  "language_info": {
   "codemirror_mode": {
    "name": "ipython",
    "version": 3
   },
   "file_extension": ".py",
   "mimetype": "text/x-python",
   "name": "python",
   "nbconvert_exporter": "python",
   "pygments_lexer": "ipython3",
   "version": "3.8.3"
  }
 },
 "nbformat": 4,
 "nbformat_minor": 4
}
