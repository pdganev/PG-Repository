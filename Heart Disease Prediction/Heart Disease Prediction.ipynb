{
 "cells": [
  {
   "cell_type": "markdown",
   "metadata": {},
   "source": [
    "# Heart Disease Prediction"
   ]
  },
  {
   "cell_type": "markdown",
   "metadata": {},
   "source": [
    "### Introduction"
   ]
  },
  {
   "cell_type": "markdown",
   "metadata": {},
   "source": [
    "One of the most exciting applications of Artificial Intelligence today is in the Healthcare industry. The potentialities are significant, but there is one big problem. That is the insufficient number of people with both technical skills and domain expertise. Understanding the different features is key for building a good predictive model and it is not an easy task.\n",
    "In this project I will be using a dataset from <b>kaggle.com</b> , that contains data of 303 patients with 13 different features plus a target variable(1 for the patients with, and 0 for the ones without a heart disease).\n",
    "\n",
    "In this project I will build 5 different supervised learning algorithms for classification and compare their results to determine which one is the best. After that I will make an unsupervised learning algorithm for clustering all the patients with a heart disease. \n",
    "\n",
    "Let`s take a closer look at the features and describe their meaning, as some of their headers are not straghtforward."
   ]
  },
  {
   "cell_type": "markdown",
   "metadata": {},
   "source": [
    "* <b>age</b> - Age of the patient in years.\n",
    "* <b>sex</b> - 1 for male, 0 for female patients\n",
    "* <b>cp</b> - Chest pain type (0:typical angina(a decrease in the blood supply of the heart), 1:atypical angina(chest pain, not related to the heart, 2:non-anginal pain(esophageal spasms, not related to the heart), 3:asymptomatic pain(chest pain, without signs of a particular disease)\n",
    "* <b>trtbps</b> - Resting blood pressure of the patient at the time of admission in the hospital, measured in mm Hg(millimeters of mercury), anything above 130-140 is concerning.\n",
    "* <b>chol</b> - Cholesterol measurement of the patient in mg/dl(milligrams per decilitre)\n",
    "* <b>fbs</b> - Fasting blood sugar(1 if > 120mg/dl, 0 if not), a value that is above 126 mg/dL is considered a sign of diabetes.\n",
    "* <b>restecg</b> - Resting electrocardiographic measurment(0 = normal, 1 = ST-T wave abnormality, 2 = Probable or definite left ventricular hypertrophy by Estes' criteria)\n",
    "* <b>thalachh</b> - Maximum heart rate examined\n",
    "* <b>exng</b> - Excercise induced angina(1 = Yes, 0 = No)\n",
    "* <b>oldpeak</b> - ST depression induced by exercise, relative to rest, looks at the stress of the heart. During excercise, unhealthy hearts will stress more.\n",
    "* <b>slp</b> - The slope of the peak exercise ST segment(0:upslope(а very rare case, in which the observed heart rate is better during the excersise) , 1:flat(a minimal change in the slope, indicates a typical healthy heart), 2:downslope(sign of an unhealthy heart)\n",
    "* <b>caa</b> - Number of major vessels\n",
    "* <b>thall</b> - A blood disorder called \"thalassemia\"\n"
   ]
  },
  {
   "cell_type": "code",
   "execution_count": 1,
   "metadata": {},
   "outputs": [],
   "source": [
    "# importing the relevant libraries\n",
    "import pandas as pd\n",
    "import numpy as np\n",
    "import matplotlib.pyplot as plt\n",
    "from scipy import stats\n",
    "from sklearn.linear_model import LogisticRegression\n",
    "from sklearn.model_selection import train_test_split\n",
    "from sklearn.metrics import accuracy_score, confusion_matrix\n",
    "from sklearn.neighbors import KNeighborsClassifier\n",
    "from sklearn.svm import SVC\n",
    "from sklearn.tree import DecisionTreeClassifier\n",
    "from sklearn.ensemble import RandomForestClassifier\n",
    "from sklearn.cluster import KMeans\n",
    "from sklearn.metrics import roc_curve\n",
    "%matplotlib inline "
   ]
  },
  {
   "cell_type": "code",
   "execution_count": 2,
   "metadata": {},
   "outputs": [],
   "source": [
    "heart_data = pd.read_csv('heart.csv')"
   ]
  },
  {
   "cell_type": "code",
   "execution_count": 3,
   "metadata": {},
   "outputs": [
    {
     "data": {
      "text/html": [
       "<div>\n",
       "<style scoped>\n",
       "    .dataframe tbody tr th:only-of-type {\n",
       "        vertical-align: middle;\n",
       "    }\n",
       "\n",
       "    .dataframe tbody tr th {\n",
       "        vertical-align: top;\n",
       "    }\n",
       "\n",
       "    .dataframe thead th {\n",
       "        text-align: right;\n",
       "    }\n",
       "</style>\n",
       "<table border=\"1\" class=\"dataframe\">\n",
       "  <thead>\n",
       "    <tr style=\"text-align: right;\">\n",
       "      <th></th>\n",
       "      <th>age</th>\n",
       "      <th>sex</th>\n",
       "      <th>cp</th>\n",
       "      <th>trtbps</th>\n",
       "      <th>chol</th>\n",
       "      <th>fbs</th>\n",
       "      <th>restecg</th>\n",
       "      <th>thalachh</th>\n",
       "      <th>exng</th>\n",
       "      <th>oldpeak</th>\n",
       "      <th>slp</th>\n",
       "      <th>caa</th>\n",
       "      <th>thall</th>\n",
       "      <th>output</th>\n",
       "    </tr>\n",
       "  </thead>\n",
       "  <tbody>\n",
       "    <tr>\n",
       "      <th>0</th>\n",
       "      <td>63</td>\n",
       "      <td>1</td>\n",
       "      <td>3</td>\n",
       "      <td>145</td>\n",
       "      <td>233</td>\n",
       "      <td>1</td>\n",
       "      <td>0</td>\n",
       "      <td>150</td>\n",
       "      <td>0</td>\n",
       "      <td>2.3</td>\n",
       "      <td>0</td>\n",
       "      <td>0</td>\n",
       "      <td>1</td>\n",
       "      <td>1</td>\n",
       "    </tr>\n",
       "    <tr>\n",
       "      <th>1</th>\n",
       "      <td>37</td>\n",
       "      <td>1</td>\n",
       "      <td>2</td>\n",
       "      <td>130</td>\n",
       "      <td>250</td>\n",
       "      <td>0</td>\n",
       "      <td>1</td>\n",
       "      <td>187</td>\n",
       "      <td>0</td>\n",
       "      <td>3.5</td>\n",
       "      <td>0</td>\n",
       "      <td>0</td>\n",
       "      <td>2</td>\n",
       "      <td>1</td>\n",
       "    </tr>\n",
       "    <tr>\n",
       "      <th>2</th>\n",
       "      <td>41</td>\n",
       "      <td>0</td>\n",
       "      <td>1</td>\n",
       "      <td>130</td>\n",
       "      <td>204</td>\n",
       "      <td>0</td>\n",
       "      <td>0</td>\n",
       "      <td>172</td>\n",
       "      <td>0</td>\n",
       "      <td>1.4</td>\n",
       "      <td>2</td>\n",
       "      <td>0</td>\n",
       "      <td>2</td>\n",
       "      <td>1</td>\n",
       "    </tr>\n",
       "    <tr>\n",
       "      <th>3</th>\n",
       "      <td>56</td>\n",
       "      <td>1</td>\n",
       "      <td>1</td>\n",
       "      <td>120</td>\n",
       "      <td>236</td>\n",
       "      <td>0</td>\n",
       "      <td>1</td>\n",
       "      <td>178</td>\n",
       "      <td>0</td>\n",
       "      <td>0.8</td>\n",
       "      <td>2</td>\n",
       "      <td>0</td>\n",
       "      <td>2</td>\n",
       "      <td>1</td>\n",
       "    </tr>\n",
       "    <tr>\n",
       "      <th>4</th>\n",
       "      <td>57</td>\n",
       "      <td>0</td>\n",
       "      <td>0</td>\n",
       "      <td>120</td>\n",
       "      <td>354</td>\n",
       "      <td>0</td>\n",
       "      <td>1</td>\n",
       "      <td>163</td>\n",
       "      <td>1</td>\n",
       "      <td>0.6</td>\n",
       "      <td>2</td>\n",
       "      <td>0</td>\n",
       "      <td>2</td>\n",
       "      <td>1</td>\n",
       "    </tr>\n",
       "  </tbody>\n",
       "</table>\n",
       "</div>"
      ],
      "text/plain": [
       "   age  sex  cp  trtbps  chol  fbs  restecg  thalachh  exng  oldpeak  slp  \\\n",
       "0   63    1   3     145   233    1        0       150     0      2.3    0   \n",
       "1   37    1   2     130   250    0        1       187     0      3.5    0   \n",
       "2   41    0   1     130   204    0        0       172     0      1.4    2   \n",
       "3   56    1   1     120   236    0        1       178     0      0.8    2   \n",
       "4   57    0   0     120   354    0        1       163     1      0.6    2   \n",
       "\n",
       "   caa  thall  output  \n",
       "0    0      1       1  \n",
       "1    0      2       1  \n",
       "2    0      2       1  \n",
       "3    0      2       1  \n",
       "4    0      2       1  "
      ]
     },
     "execution_count": 3,
     "metadata": {},
     "output_type": "execute_result"
    }
   ],
   "source": [
    "heart_data.head()"
   ]
  },
  {
   "cell_type": "code",
   "execution_count": 4,
   "metadata": {},
   "outputs": [
    {
     "data": {
      "text/plain": [
       "(303, 14)"
      ]
     },
     "execution_count": 4,
     "metadata": {},
     "output_type": "execute_result"
    }
   ],
   "source": [
    "heart_data.shape"
   ]
  },
  {
   "cell_type": "markdown",
   "metadata": {},
   "source": [
    "Changing the names of the columns, so that they dont look that confusing."
   ]
  },
  {
   "cell_type": "code",
   "execution_count": 5,
   "metadata": {},
   "outputs": [],
   "source": [
    "heart_data.columns = ['age', 'sex', 'chest_pain_type', 'resting_blood_pressure', 'cholesterol', 'fasting_blood_sugar', 'rest_ecg', 'max_heart_rate_achieved',\n",
    "       'exercise_induced_angina', 'st_depression', 'st_slope', 'major_vessels_count', 'thalassemia', 'target']"
   ]
  },
  {
   "cell_type": "code",
   "execution_count": 6,
   "metadata": {},
   "outputs": [
    {
     "data": {
      "text/html": [
       "<div>\n",
       "<style scoped>\n",
       "    .dataframe tbody tr th:only-of-type {\n",
       "        vertical-align: middle;\n",
       "    }\n",
       "\n",
       "    .dataframe tbody tr th {\n",
       "        vertical-align: top;\n",
       "    }\n",
       "\n",
       "    .dataframe thead th {\n",
       "        text-align: right;\n",
       "    }\n",
       "</style>\n",
       "<table border=\"1\" class=\"dataframe\">\n",
       "  <thead>\n",
       "    <tr style=\"text-align: right;\">\n",
       "      <th></th>\n",
       "      <th>age</th>\n",
       "      <th>sex</th>\n",
       "      <th>chest_pain_type</th>\n",
       "      <th>resting_blood_pressure</th>\n",
       "      <th>cholesterol</th>\n",
       "      <th>fasting_blood_sugar</th>\n",
       "      <th>rest_ecg</th>\n",
       "      <th>max_heart_rate_achieved</th>\n",
       "      <th>exercise_induced_angina</th>\n",
       "      <th>st_depression</th>\n",
       "      <th>st_slope</th>\n",
       "      <th>major_vessels_count</th>\n",
       "      <th>thalassemia</th>\n",
       "      <th>target</th>\n",
       "    </tr>\n",
       "  </thead>\n",
       "  <tbody>\n",
       "    <tr>\n",
       "      <th>0</th>\n",
       "      <td>63</td>\n",
       "      <td>1</td>\n",
       "      <td>3</td>\n",
       "      <td>145</td>\n",
       "      <td>233</td>\n",
       "      <td>1</td>\n",
       "      <td>0</td>\n",
       "      <td>150</td>\n",
       "      <td>0</td>\n",
       "      <td>2.3</td>\n",
       "      <td>0</td>\n",
       "      <td>0</td>\n",
       "      <td>1</td>\n",
       "      <td>1</td>\n",
       "    </tr>\n",
       "    <tr>\n",
       "      <th>1</th>\n",
       "      <td>37</td>\n",
       "      <td>1</td>\n",
       "      <td>2</td>\n",
       "      <td>130</td>\n",
       "      <td>250</td>\n",
       "      <td>0</td>\n",
       "      <td>1</td>\n",
       "      <td>187</td>\n",
       "      <td>0</td>\n",
       "      <td>3.5</td>\n",
       "      <td>0</td>\n",
       "      <td>0</td>\n",
       "      <td>2</td>\n",
       "      <td>1</td>\n",
       "    </tr>\n",
       "    <tr>\n",
       "      <th>2</th>\n",
       "      <td>41</td>\n",
       "      <td>0</td>\n",
       "      <td>1</td>\n",
       "      <td>130</td>\n",
       "      <td>204</td>\n",
       "      <td>0</td>\n",
       "      <td>0</td>\n",
       "      <td>172</td>\n",
       "      <td>0</td>\n",
       "      <td>1.4</td>\n",
       "      <td>2</td>\n",
       "      <td>0</td>\n",
       "      <td>2</td>\n",
       "      <td>1</td>\n",
       "    </tr>\n",
       "    <tr>\n",
       "      <th>3</th>\n",
       "      <td>56</td>\n",
       "      <td>1</td>\n",
       "      <td>1</td>\n",
       "      <td>120</td>\n",
       "      <td>236</td>\n",
       "      <td>0</td>\n",
       "      <td>1</td>\n",
       "      <td>178</td>\n",
       "      <td>0</td>\n",
       "      <td>0.8</td>\n",
       "      <td>2</td>\n",
       "      <td>0</td>\n",
       "      <td>2</td>\n",
       "      <td>1</td>\n",
       "    </tr>\n",
       "    <tr>\n",
       "      <th>4</th>\n",
       "      <td>57</td>\n",
       "      <td>0</td>\n",
       "      <td>0</td>\n",
       "      <td>120</td>\n",
       "      <td>354</td>\n",
       "      <td>0</td>\n",
       "      <td>1</td>\n",
       "      <td>163</td>\n",
       "      <td>1</td>\n",
       "      <td>0.6</td>\n",
       "      <td>2</td>\n",
       "      <td>0</td>\n",
       "      <td>2</td>\n",
       "      <td>1</td>\n",
       "    </tr>\n",
       "  </tbody>\n",
       "</table>\n",
       "</div>"
      ],
      "text/plain": [
       "   age  sex  chest_pain_type  resting_blood_pressure  cholesterol  \\\n",
       "0   63    1                3                     145          233   \n",
       "1   37    1                2                     130          250   \n",
       "2   41    0                1                     130          204   \n",
       "3   56    1                1                     120          236   \n",
       "4   57    0                0                     120          354   \n",
       "\n",
       "   fasting_blood_sugar  rest_ecg  max_heart_rate_achieved  \\\n",
       "0                    1         0                      150   \n",
       "1                    0         1                      187   \n",
       "2                    0         0                      172   \n",
       "3                    0         1                      178   \n",
       "4                    0         1                      163   \n",
       "\n",
       "   exercise_induced_angina  st_depression  st_slope  major_vessels_count  \\\n",
       "0                        0            2.3         0                    0   \n",
       "1                        0            3.5         0                    0   \n",
       "2                        0            1.4         2                    0   \n",
       "3                        0            0.8         2                    0   \n",
       "4                        1            0.6         2                    0   \n",
       "\n",
       "   thalassemia  target  \n",
       "0            1       1  \n",
       "1            2       1  \n",
       "2            2       1  \n",
       "3            2       1  \n",
       "4            2       1  "
      ]
     },
     "execution_count": 6,
     "metadata": {},
     "output_type": "execute_result"
    }
   ],
   "source": [
    "heart_data.head()"
   ]
  },
  {
   "cell_type": "code",
   "execution_count": null,
   "metadata": {},
   "outputs": [],
   "source": []
  },
  {
   "cell_type": "markdown",
   "metadata": {},
   "source": [
    "### Exploratory Data Analysis(EDA)"
   ]
  },
  {
   "cell_type": "code",
   "execution_count": 7,
   "metadata": {},
   "outputs": [
    {
     "data": {
      "text/plain": [
       "age                        0\n",
       "sex                        0\n",
       "chest_pain_type            0\n",
       "resting_blood_pressure     0\n",
       "cholesterol                0\n",
       "fasting_blood_sugar        0\n",
       "rest_ecg                   0\n",
       "max_heart_rate_achieved    0\n",
       "exercise_induced_angina    0\n",
       "st_depression              0\n",
       "st_slope                   0\n",
       "major_vessels_count        0\n",
       "thalassemia                0\n",
       "target                     0\n",
       "dtype: int64"
      ]
     },
     "execution_count": 7,
     "metadata": {},
     "output_type": "execute_result"
    }
   ],
   "source": [
    "heart_data.isnull().sum()"
   ]
  },
  {
   "cell_type": "code",
   "execution_count": 8,
   "metadata": {},
   "outputs": [
    {
     "data": {
      "text/html": [
       "<div>\n",
       "<style scoped>\n",
       "    .dataframe tbody tr th:only-of-type {\n",
       "        vertical-align: middle;\n",
       "    }\n",
       "\n",
       "    .dataframe tbody tr th {\n",
       "        vertical-align: top;\n",
       "    }\n",
       "\n",
       "    .dataframe thead th {\n",
       "        text-align: right;\n",
       "    }\n",
       "</style>\n",
       "<table border=\"1\" class=\"dataframe\">\n",
       "  <thead>\n",
       "    <tr style=\"text-align: right;\">\n",
       "      <th></th>\n",
       "      <th>count</th>\n",
       "      <th>mean</th>\n",
       "      <th>std</th>\n",
       "      <th>min</th>\n",
       "      <th>25%</th>\n",
       "      <th>50%</th>\n",
       "      <th>75%</th>\n",
       "      <th>max</th>\n",
       "    </tr>\n",
       "  </thead>\n",
       "  <tbody>\n",
       "    <tr>\n",
       "      <th>age</th>\n",
       "      <td>303.0</td>\n",
       "      <td>54.366337</td>\n",
       "      <td>9.082101</td>\n",
       "      <td>29.0</td>\n",
       "      <td>47.5</td>\n",
       "      <td>55.0</td>\n",
       "      <td>61.0</td>\n",
       "      <td>77.0</td>\n",
       "    </tr>\n",
       "    <tr>\n",
       "      <th>sex</th>\n",
       "      <td>303.0</td>\n",
       "      <td>0.683168</td>\n",
       "      <td>0.466011</td>\n",
       "      <td>0.0</td>\n",
       "      <td>0.0</td>\n",
       "      <td>1.0</td>\n",
       "      <td>1.0</td>\n",
       "      <td>1.0</td>\n",
       "    </tr>\n",
       "    <tr>\n",
       "      <th>chest_pain_type</th>\n",
       "      <td>303.0</td>\n",
       "      <td>0.966997</td>\n",
       "      <td>1.032052</td>\n",
       "      <td>0.0</td>\n",
       "      <td>0.0</td>\n",
       "      <td>1.0</td>\n",
       "      <td>2.0</td>\n",
       "      <td>3.0</td>\n",
       "    </tr>\n",
       "    <tr>\n",
       "      <th>resting_blood_pressure</th>\n",
       "      <td>303.0</td>\n",
       "      <td>131.623762</td>\n",
       "      <td>17.538143</td>\n",
       "      <td>94.0</td>\n",
       "      <td>120.0</td>\n",
       "      <td>130.0</td>\n",
       "      <td>140.0</td>\n",
       "      <td>200.0</td>\n",
       "    </tr>\n",
       "    <tr>\n",
       "      <th>cholesterol</th>\n",
       "      <td>303.0</td>\n",
       "      <td>246.264026</td>\n",
       "      <td>51.830751</td>\n",
       "      <td>126.0</td>\n",
       "      <td>211.0</td>\n",
       "      <td>240.0</td>\n",
       "      <td>274.5</td>\n",
       "      <td>564.0</td>\n",
       "    </tr>\n",
       "    <tr>\n",
       "      <th>fasting_blood_sugar</th>\n",
       "      <td>303.0</td>\n",
       "      <td>0.148515</td>\n",
       "      <td>0.356198</td>\n",
       "      <td>0.0</td>\n",
       "      <td>0.0</td>\n",
       "      <td>0.0</td>\n",
       "      <td>0.0</td>\n",
       "      <td>1.0</td>\n",
       "    </tr>\n",
       "    <tr>\n",
       "      <th>rest_ecg</th>\n",
       "      <td>303.0</td>\n",
       "      <td>0.528053</td>\n",
       "      <td>0.525860</td>\n",
       "      <td>0.0</td>\n",
       "      <td>0.0</td>\n",
       "      <td>1.0</td>\n",
       "      <td>1.0</td>\n",
       "      <td>2.0</td>\n",
       "    </tr>\n",
       "    <tr>\n",
       "      <th>max_heart_rate_achieved</th>\n",
       "      <td>303.0</td>\n",
       "      <td>149.646865</td>\n",
       "      <td>22.905161</td>\n",
       "      <td>71.0</td>\n",
       "      <td>133.5</td>\n",
       "      <td>153.0</td>\n",
       "      <td>166.0</td>\n",
       "      <td>202.0</td>\n",
       "    </tr>\n",
       "    <tr>\n",
       "      <th>exercise_induced_angina</th>\n",
       "      <td>303.0</td>\n",
       "      <td>0.326733</td>\n",
       "      <td>0.469794</td>\n",
       "      <td>0.0</td>\n",
       "      <td>0.0</td>\n",
       "      <td>0.0</td>\n",
       "      <td>1.0</td>\n",
       "      <td>1.0</td>\n",
       "    </tr>\n",
       "    <tr>\n",
       "      <th>st_depression</th>\n",
       "      <td>303.0</td>\n",
       "      <td>1.039604</td>\n",
       "      <td>1.161075</td>\n",
       "      <td>0.0</td>\n",
       "      <td>0.0</td>\n",
       "      <td>0.8</td>\n",
       "      <td>1.6</td>\n",
       "      <td>6.2</td>\n",
       "    </tr>\n",
       "    <tr>\n",
       "      <th>st_slope</th>\n",
       "      <td>303.0</td>\n",
       "      <td>1.399340</td>\n",
       "      <td>0.616226</td>\n",
       "      <td>0.0</td>\n",
       "      <td>1.0</td>\n",
       "      <td>1.0</td>\n",
       "      <td>2.0</td>\n",
       "      <td>2.0</td>\n",
       "    </tr>\n",
       "    <tr>\n",
       "      <th>major_vessels_count</th>\n",
       "      <td>303.0</td>\n",
       "      <td>0.729373</td>\n",
       "      <td>1.022606</td>\n",
       "      <td>0.0</td>\n",
       "      <td>0.0</td>\n",
       "      <td>0.0</td>\n",
       "      <td>1.0</td>\n",
       "      <td>4.0</td>\n",
       "    </tr>\n",
       "    <tr>\n",
       "      <th>thalassemia</th>\n",
       "      <td>303.0</td>\n",
       "      <td>2.313531</td>\n",
       "      <td>0.612277</td>\n",
       "      <td>0.0</td>\n",
       "      <td>2.0</td>\n",
       "      <td>2.0</td>\n",
       "      <td>3.0</td>\n",
       "      <td>3.0</td>\n",
       "    </tr>\n",
       "    <tr>\n",
       "      <th>target</th>\n",
       "      <td>303.0</td>\n",
       "      <td>0.544554</td>\n",
       "      <td>0.498835</td>\n",
       "      <td>0.0</td>\n",
       "      <td>0.0</td>\n",
       "      <td>1.0</td>\n",
       "      <td>1.0</td>\n",
       "      <td>1.0</td>\n",
       "    </tr>\n",
       "  </tbody>\n",
       "</table>\n",
       "</div>"
      ],
      "text/plain": [
       "                         count        mean        std    min    25%    50%  \\\n",
       "age                      303.0   54.366337   9.082101   29.0   47.5   55.0   \n",
       "sex                      303.0    0.683168   0.466011    0.0    0.0    1.0   \n",
       "chest_pain_type          303.0    0.966997   1.032052    0.0    0.0    1.0   \n",
       "resting_blood_pressure   303.0  131.623762  17.538143   94.0  120.0  130.0   \n",
       "cholesterol              303.0  246.264026  51.830751  126.0  211.0  240.0   \n",
       "fasting_blood_sugar      303.0    0.148515   0.356198    0.0    0.0    0.0   \n",
       "rest_ecg                 303.0    0.528053   0.525860    0.0    0.0    1.0   \n",
       "max_heart_rate_achieved  303.0  149.646865  22.905161   71.0  133.5  153.0   \n",
       "exercise_induced_angina  303.0    0.326733   0.469794    0.0    0.0    0.0   \n",
       "st_depression            303.0    1.039604   1.161075    0.0    0.0    0.8   \n",
       "st_slope                 303.0    1.399340   0.616226    0.0    1.0    1.0   \n",
       "major_vessels_count      303.0    0.729373   1.022606    0.0    0.0    0.0   \n",
       "thalassemia              303.0    2.313531   0.612277    0.0    2.0    2.0   \n",
       "target                   303.0    0.544554   0.498835    0.0    0.0    1.0   \n",
       "\n",
       "                           75%    max  \n",
       "age                       61.0   77.0  \n",
       "sex                        1.0    1.0  \n",
       "chest_pain_type            2.0    3.0  \n",
       "resting_blood_pressure   140.0  200.0  \n",
       "cholesterol              274.5  564.0  \n",
       "fasting_blood_sugar        0.0    1.0  \n",
       "rest_ecg                   1.0    2.0  \n",
       "max_heart_rate_achieved  166.0  202.0  \n",
       "exercise_induced_angina    1.0    1.0  \n",
       "st_depression              1.6    6.2  \n",
       "st_slope                   2.0    2.0  \n",
       "major_vessels_count        1.0    4.0  \n",
       "thalassemia                3.0    3.0  \n",
       "target                     1.0    1.0  "
      ]
     },
     "execution_count": 8,
     "metadata": {},
     "output_type": "execute_result"
    }
   ],
   "source": [
    "heart_data.describe().T"
   ]
  },
  {
   "cell_type": "code",
   "execution_count": 9,
   "metadata": {
    "scrolled": false
   },
   "outputs": [
    {
     "data": {
      "text/html": [
       "<div>\n",
       "<style scoped>\n",
       "    .dataframe tbody tr th:only-of-type {\n",
       "        vertical-align: middle;\n",
       "    }\n",
       "\n",
       "    .dataframe tbody tr th {\n",
       "        vertical-align: top;\n",
       "    }\n",
       "\n",
       "    .dataframe thead th {\n",
       "        text-align: right;\n",
       "    }\n",
       "</style>\n",
       "<table border=\"1\" class=\"dataframe\">\n",
       "  <thead>\n",
       "    <tr style=\"text-align: right;\">\n",
       "      <th></th>\n",
       "      <th>age</th>\n",
       "      <th>sex</th>\n",
       "      <th>chest_pain_type</th>\n",
       "      <th>resting_blood_pressure</th>\n",
       "      <th>cholesterol</th>\n",
       "      <th>fasting_blood_sugar</th>\n",
       "      <th>rest_ecg</th>\n",
       "      <th>max_heart_rate_achieved</th>\n",
       "      <th>exercise_induced_angina</th>\n",
       "      <th>st_depression</th>\n",
       "      <th>st_slope</th>\n",
       "      <th>major_vessels_count</th>\n",
       "      <th>thalassemia</th>\n",
       "      <th>target</th>\n",
       "    </tr>\n",
       "  </thead>\n",
       "  <tbody>\n",
       "    <tr>\n",
       "      <th>age</th>\n",
       "      <td>1.000000</td>\n",
       "      <td>-0.098447</td>\n",
       "      <td>-0.068653</td>\n",
       "      <td>0.279351</td>\n",
       "      <td>0.213678</td>\n",
       "      <td>0.121308</td>\n",
       "      <td>-0.116211</td>\n",
       "      <td>-0.398522</td>\n",
       "      <td>0.096801</td>\n",
       "      <td>0.210013</td>\n",
       "      <td>-0.168814</td>\n",
       "      <td>0.276326</td>\n",
       "      <td>0.068001</td>\n",
       "      <td>-0.225439</td>\n",
       "    </tr>\n",
       "    <tr>\n",
       "      <th>sex</th>\n",
       "      <td>-0.098447</td>\n",
       "      <td>1.000000</td>\n",
       "      <td>-0.049353</td>\n",
       "      <td>-0.056769</td>\n",
       "      <td>-0.197912</td>\n",
       "      <td>0.045032</td>\n",
       "      <td>-0.058196</td>\n",
       "      <td>-0.044020</td>\n",
       "      <td>0.141664</td>\n",
       "      <td>0.096093</td>\n",
       "      <td>-0.030711</td>\n",
       "      <td>0.118261</td>\n",
       "      <td>0.210041</td>\n",
       "      <td>-0.280937</td>\n",
       "    </tr>\n",
       "    <tr>\n",
       "      <th>chest_pain_type</th>\n",
       "      <td>-0.068653</td>\n",
       "      <td>-0.049353</td>\n",
       "      <td>1.000000</td>\n",
       "      <td>0.047608</td>\n",
       "      <td>-0.076904</td>\n",
       "      <td>0.094444</td>\n",
       "      <td>0.044421</td>\n",
       "      <td>0.295762</td>\n",
       "      <td>-0.394280</td>\n",
       "      <td>-0.149230</td>\n",
       "      <td>0.119717</td>\n",
       "      <td>-0.181053</td>\n",
       "      <td>-0.161736</td>\n",
       "      <td>0.433798</td>\n",
       "    </tr>\n",
       "    <tr>\n",
       "      <th>resting_blood_pressure</th>\n",
       "      <td>0.279351</td>\n",
       "      <td>-0.056769</td>\n",
       "      <td>0.047608</td>\n",
       "      <td>1.000000</td>\n",
       "      <td>0.123174</td>\n",
       "      <td>0.177531</td>\n",
       "      <td>-0.114103</td>\n",
       "      <td>-0.046698</td>\n",
       "      <td>0.067616</td>\n",
       "      <td>0.193216</td>\n",
       "      <td>-0.121475</td>\n",
       "      <td>0.101389</td>\n",
       "      <td>0.062210</td>\n",
       "      <td>-0.144931</td>\n",
       "    </tr>\n",
       "    <tr>\n",
       "      <th>cholesterol</th>\n",
       "      <td>0.213678</td>\n",
       "      <td>-0.197912</td>\n",
       "      <td>-0.076904</td>\n",
       "      <td>0.123174</td>\n",
       "      <td>1.000000</td>\n",
       "      <td>0.013294</td>\n",
       "      <td>-0.151040</td>\n",
       "      <td>-0.009940</td>\n",
       "      <td>0.067023</td>\n",
       "      <td>0.053952</td>\n",
       "      <td>-0.004038</td>\n",
       "      <td>0.070511</td>\n",
       "      <td>0.098803</td>\n",
       "      <td>-0.085239</td>\n",
       "    </tr>\n",
       "    <tr>\n",
       "      <th>fasting_blood_sugar</th>\n",
       "      <td>0.121308</td>\n",
       "      <td>0.045032</td>\n",
       "      <td>0.094444</td>\n",
       "      <td>0.177531</td>\n",
       "      <td>0.013294</td>\n",
       "      <td>1.000000</td>\n",
       "      <td>-0.084189</td>\n",
       "      <td>-0.008567</td>\n",
       "      <td>0.025665</td>\n",
       "      <td>0.005747</td>\n",
       "      <td>-0.059894</td>\n",
       "      <td>0.137979</td>\n",
       "      <td>-0.032019</td>\n",
       "      <td>-0.028046</td>\n",
       "    </tr>\n",
       "    <tr>\n",
       "      <th>rest_ecg</th>\n",
       "      <td>-0.116211</td>\n",
       "      <td>-0.058196</td>\n",
       "      <td>0.044421</td>\n",
       "      <td>-0.114103</td>\n",
       "      <td>-0.151040</td>\n",
       "      <td>-0.084189</td>\n",
       "      <td>1.000000</td>\n",
       "      <td>0.044123</td>\n",
       "      <td>-0.070733</td>\n",
       "      <td>-0.058770</td>\n",
       "      <td>0.093045</td>\n",
       "      <td>-0.072042</td>\n",
       "      <td>-0.011981</td>\n",
       "      <td>0.137230</td>\n",
       "    </tr>\n",
       "    <tr>\n",
       "      <th>max_heart_rate_achieved</th>\n",
       "      <td>-0.398522</td>\n",
       "      <td>-0.044020</td>\n",
       "      <td>0.295762</td>\n",
       "      <td>-0.046698</td>\n",
       "      <td>-0.009940</td>\n",
       "      <td>-0.008567</td>\n",
       "      <td>0.044123</td>\n",
       "      <td>1.000000</td>\n",
       "      <td>-0.378812</td>\n",
       "      <td>-0.344187</td>\n",
       "      <td>0.386784</td>\n",
       "      <td>-0.213177</td>\n",
       "      <td>-0.096439</td>\n",
       "      <td>0.421741</td>\n",
       "    </tr>\n",
       "    <tr>\n",
       "      <th>exercise_induced_angina</th>\n",
       "      <td>0.096801</td>\n",
       "      <td>0.141664</td>\n",
       "      <td>-0.394280</td>\n",
       "      <td>0.067616</td>\n",
       "      <td>0.067023</td>\n",
       "      <td>0.025665</td>\n",
       "      <td>-0.070733</td>\n",
       "      <td>-0.378812</td>\n",
       "      <td>1.000000</td>\n",
       "      <td>0.288223</td>\n",
       "      <td>-0.257748</td>\n",
       "      <td>0.115739</td>\n",
       "      <td>0.206754</td>\n",
       "      <td>-0.436757</td>\n",
       "    </tr>\n",
       "    <tr>\n",
       "      <th>st_depression</th>\n",
       "      <td>0.210013</td>\n",
       "      <td>0.096093</td>\n",
       "      <td>-0.149230</td>\n",
       "      <td>0.193216</td>\n",
       "      <td>0.053952</td>\n",
       "      <td>0.005747</td>\n",
       "      <td>-0.058770</td>\n",
       "      <td>-0.344187</td>\n",
       "      <td>0.288223</td>\n",
       "      <td>1.000000</td>\n",
       "      <td>-0.577537</td>\n",
       "      <td>0.222682</td>\n",
       "      <td>0.210244</td>\n",
       "      <td>-0.430696</td>\n",
       "    </tr>\n",
       "    <tr>\n",
       "      <th>st_slope</th>\n",
       "      <td>-0.168814</td>\n",
       "      <td>-0.030711</td>\n",
       "      <td>0.119717</td>\n",
       "      <td>-0.121475</td>\n",
       "      <td>-0.004038</td>\n",
       "      <td>-0.059894</td>\n",
       "      <td>0.093045</td>\n",
       "      <td>0.386784</td>\n",
       "      <td>-0.257748</td>\n",
       "      <td>-0.577537</td>\n",
       "      <td>1.000000</td>\n",
       "      <td>-0.080155</td>\n",
       "      <td>-0.104764</td>\n",
       "      <td>0.345877</td>\n",
       "    </tr>\n",
       "    <tr>\n",
       "      <th>major_vessels_count</th>\n",
       "      <td>0.276326</td>\n",
       "      <td>0.118261</td>\n",
       "      <td>-0.181053</td>\n",
       "      <td>0.101389</td>\n",
       "      <td>0.070511</td>\n",
       "      <td>0.137979</td>\n",
       "      <td>-0.072042</td>\n",
       "      <td>-0.213177</td>\n",
       "      <td>0.115739</td>\n",
       "      <td>0.222682</td>\n",
       "      <td>-0.080155</td>\n",
       "      <td>1.000000</td>\n",
       "      <td>0.151832</td>\n",
       "      <td>-0.391724</td>\n",
       "    </tr>\n",
       "    <tr>\n",
       "      <th>thalassemia</th>\n",
       "      <td>0.068001</td>\n",
       "      <td>0.210041</td>\n",
       "      <td>-0.161736</td>\n",
       "      <td>0.062210</td>\n",
       "      <td>0.098803</td>\n",
       "      <td>-0.032019</td>\n",
       "      <td>-0.011981</td>\n",
       "      <td>-0.096439</td>\n",
       "      <td>0.206754</td>\n",
       "      <td>0.210244</td>\n",
       "      <td>-0.104764</td>\n",
       "      <td>0.151832</td>\n",
       "      <td>1.000000</td>\n",
       "      <td>-0.344029</td>\n",
       "    </tr>\n",
       "    <tr>\n",
       "      <th>target</th>\n",
       "      <td>-0.225439</td>\n",
       "      <td>-0.280937</td>\n",
       "      <td>0.433798</td>\n",
       "      <td>-0.144931</td>\n",
       "      <td>-0.085239</td>\n",
       "      <td>-0.028046</td>\n",
       "      <td>0.137230</td>\n",
       "      <td>0.421741</td>\n",
       "      <td>-0.436757</td>\n",
       "      <td>-0.430696</td>\n",
       "      <td>0.345877</td>\n",
       "      <td>-0.391724</td>\n",
       "      <td>-0.344029</td>\n",
       "      <td>1.000000</td>\n",
       "    </tr>\n",
       "  </tbody>\n",
       "</table>\n",
       "</div>"
      ],
      "text/plain": [
       "                              age       sex  chest_pain_type  \\\n",
       "age                      1.000000 -0.098447        -0.068653   \n",
       "sex                     -0.098447  1.000000        -0.049353   \n",
       "chest_pain_type         -0.068653 -0.049353         1.000000   \n",
       "resting_blood_pressure   0.279351 -0.056769         0.047608   \n",
       "cholesterol              0.213678 -0.197912        -0.076904   \n",
       "fasting_blood_sugar      0.121308  0.045032         0.094444   \n",
       "rest_ecg                -0.116211 -0.058196         0.044421   \n",
       "max_heart_rate_achieved -0.398522 -0.044020         0.295762   \n",
       "exercise_induced_angina  0.096801  0.141664        -0.394280   \n",
       "st_depression            0.210013  0.096093        -0.149230   \n",
       "st_slope                -0.168814 -0.030711         0.119717   \n",
       "major_vessels_count      0.276326  0.118261        -0.181053   \n",
       "thalassemia              0.068001  0.210041        -0.161736   \n",
       "target                  -0.225439 -0.280937         0.433798   \n",
       "\n",
       "                         resting_blood_pressure  cholesterol  \\\n",
       "age                                    0.279351     0.213678   \n",
       "sex                                   -0.056769    -0.197912   \n",
       "chest_pain_type                        0.047608    -0.076904   \n",
       "resting_blood_pressure                 1.000000     0.123174   \n",
       "cholesterol                            0.123174     1.000000   \n",
       "fasting_blood_sugar                    0.177531     0.013294   \n",
       "rest_ecg                              -0.114103    -0.151040   \n",
       "max_heart_rate_achieved               -0.046698    -0.009940   \n",
       "exercise_induced_angina                0.067616     0.067023   \n",
       "st_depression                          0.193216     0.053952   \n",
       "st_slope                              -0.121475    -0.004038   \n",
       "major_vessels_count                    0.101389     0.070511   \n",
       "thalassemia                            0.062210     0.098803   \n",
       "target                                -0.144931    -0.085239   \n",
       "\n",
       "                         fasting_blood_sugar  rest_ecg  \\\n",
       "age                                 0.121308 -0.116211   \n",
       "sex                                 0.045032 -0.058196   \n",
       "chest_pain_type                     0.094444  0.044421   \n",
       "resting_blood_pressure              0.177531 -0.114103   \n",
       "cholesterol                         0.013294 -0.151040   \n",
       "fasting_blood_sugar                 1.000000 -0.084189   \n",
       "rest_ecg                           -0.084189  1.000000   \n",
       "max_heart_rate_achieved            -0.008567  0.044123   \n",
       "exercise_induced_angina             0.025665 -0.070733   \n",
       "st_depression                       0.005747 -0.058770   \n",
       "st_slope                           -0.059894  0.093045   \n",
       "major_vessels_count                 0.137979 -0.072042   \n",
       "thalassemia                        -0.032019 -0.011981   \n",
       "target                             -0.028046  0.137230   \n",
       "\n",
       "                         max_heart_rate_achieved  exercise_induced_angina  \\\n",
       "age                                    -0.398522                 0.096801   \n",
       "sex                                    -0.044020                 0.141664   \n",
       "chest_pain_type                         0.295762                -0.394280   \n",
       "resting_blood_pressure                 -0.046698                 0.067616   \n",
       "cholesterol                            -0.009940                 0.067023   \n",
       "fasting_blood_sugar                    -0.008567                 0.025665   \n",
       "rest_ecg                                0.044123                -0.070733   \n",
       "max_heart_rate_achieved                 1.000000                -0.378812   \n",
       "exercise_induced_angina                -0.378812                 1.000000   \n",
       "st_depression                          -0.344187                 0.288223   \n",
       "st_slope                                0.386784                -0.257748   \n",
       "major_vessels_count                    -0.213177                 0.115739   \n",
       "thalassemia                            -0.096439                 0.206754   \n",
       "target                                  0.421741                -0.436757   \n",
       "\n",
       "                         st_depression  st_slope  major_vessels_count  \\\n",
       "age                           0.210013 -0.168814             0.276326   \n",
       "sex                           0.096093 -0.030711             0.118261   \n",
       "chest_pain_type              -0.149230  0.119717            -0.181053   \n",
       "resting_blood_pressure        0.193216 -0.121475             0.101389   \n",
       "cholesterol                   0.053952 -0.004038             0.070511   \n",
       "fasting_blood_sugar           0.005747 -0.059894             0.137979   \n",
       "rest_ecg                     -0.058770  0.093045            -0.072042   \n",
       "max_heart_rate_achieved      -0.344187  0.386784            -0.213177   \n",
       "exercise_induced_angina       0.288223 -0.257748             0.115739   \n",
       "st_depression                 1.000000 -0.577537             0.222682   \n",
       "st_slope                     -0.577537  1.000000            -0.080155   \n",
       "major_vessels_count           0.222682 -0.080155             1.000000   \n",
       "thalassemia                   0.210244 -0.104764             0.151832   \n",
       "target                       -0.430696  0.345877            -0.391724   \n",
       "\n",
       "                         thalassemia    target  \n",
       "age                         0.068001 -0.225439  \n",
       "sex                         0.210041 -0.280937  \n",
       "chest_pain_type            -0.161736  0.433798  \n",
       "resting_blood_pressure      0.062210 -0.144931  \n",
       "cholesterol                 0.098803 -0.085239  \n",
       "fasting_blood_sugar        -0.032019 -0.028046  \n",
       "rest_ecg                   -0.011981  0.137230  \n",
       "max_heart_rate_achieved    -0.096439  0.421741  \n",
       "exercise_induced_angina     0.206754 -0.436757  \n",
       "st_depression               0.210244 -0.430696  \n",
       "st_slope                   -0.104764  0.345877  \n",
       "major_vessels_count         0.151832 -0.391724  \n",
       "thalassemia                 1.000000 -0.344029  \n",
       "target                     -0.344029  1.000000  "
      ]
     },
     "execution_count": 9,
     "metadata": {},
     "output_type": "execute_result"
    }
   ],
   "source": [
    "heart_data.corr()"
   ]
  },
  {
   "cell_type": "markdown",
   "metadata": {},
   "source": [
    "Next I will calculate the Pearson correlation coefficient and the P-value between all features and the target variable. I will draw conclusions based on the convention that when the \n",
    "<ul>\n",
    "    <li>p-value is $<$ 0.001: we say there is strong evidence that the correlation is significant.</li>\n",
    "    <li>the p-value is $<$ 0.05: there is moderate evidence that the correlation is significant.</li>\n",
    "    <li>the p-value is $<$ 0.1: there is weak evidence that the correlation is significant.</li>\n",
    "    <li>the p-value is $>$ 0.1: there is no evidence that the correlation is significant.</li>\n",
    "</ul>"
   ]
  },
  {
   "cell_type": "code",
   "execution_count": 10,
   "metadata": {},
   "outputs": [
    {
     "name": "stdout",
     "output_type": "stream",
     "text": [
      "The Pearson Correlation Coefficient is -0.22543871587483727  with a P-value of P = 7.524801303442636e-05\n"
     ]
    }
   ],
   "source": [
    "pearson_coef, p_value = stats.pearsonr(heart_data['age'], heart_data['target'])\n",
    "print(\"The Pearson Correlation Coefficient is\", pearson_coef, \" with a P-value of P =\", p_value)"
   ]
  },
  {
   "cell_type": "markdown",
   "metadata": {},
   "source": [
    "<h5>Conclusion:</h5>\n",
    "There is moderate evidence that the correlation is statistically significant."
   ]
  },
  {
   "cell_type": "code",
   "execution_count": 11,
   "metadata": {},
   "outputs": [
    {
     "name": "stdout",
     "output_type": "stream",
     "text": [
      "The Pearson Correlation Coefficient is -0.2809365755017667  with a P-value of P = 6.678692115314504e-07\n"
     ]
    }
   ],
   "source": [
    "pearson_coef, p_value = stats.pearsonr(heart_data['sex'], heart_data['target'])\n",
    "print(\"The Pearson Correlation Coefficient is\", pearson_coef, \" with a P-value of P =\", p_value)"
   ]
  },
  {
   "cell_type": "markdown",
   "metadata": {},
   "source": [
    "<h5>Conclusion:</h5>\n",
    "There is strong evidence that the correlation is statistically significant."
   ]
  },
  {
   "cell_type": "code",
   "execution_count": 12,
   "metadata": {},
   "outputs": [
    {
     "name": "stdout",
     "output_type": "stream",
     "text": [
      "The Pearson Correlation Coefficient is 0.4337982615068943  with a P-value of P = 2.469712108922634e-15\n"
     ]
    }
   ],
   "source": [
    "pearson_coef, p_value = stats.pearsonr(heart_data['chest_pain_type'], heart_data['target'])\n",
    "print(\"The Pearson Correlation Coefficient is\", pearson_coef, \" with a P-value of P =\", p_value)"
   ]
  },
  {
   "cell_type": "markdown",
   "metadata": {},
   "source": [
    "<h5>Conclusion:</h5>\n",
    "There is a strong evidence that the correlation of chest pain type and the target variable is statistically significant, although the linear relationship isn't extremely strong(~0.43)."
   ]
  },
  {
   "cell_type": "code",
   "execution_count": 13,
   "metadata": {},
   "outputs": [
    {
     "name": "stdout",
     "output_type": "stream",
     "text": [
      "The Pearson Correlation Coefficient is -0.14493112849775155  with a P-value of P = 0.01154605920023369\n"
     ]
    }
   ],
   "source": [
    "pearson_coef, p_value = stats.pearsonr(heart_data['resting_blood_pressure'], heart_data['target'])\n",
    "print(\"The Pearson Correlation Coefficient is\", pearson_coef, \" with a P-value of P =\", p_value)"
   ]
  },
  {
   "cell_type": "markdown",
   "metadata": {},
   "source": [
    "<h5>Conclusion:</h5>\n",
    "There is a strong evidence that the correlation of resting blood pressure and the target variable is statistically significant, but the linear relationship between them is very weak."
   ]
  },
  {
   "cell_type": "code",
   "execution_count": 14,
   "metadata": {},
   "outputs": [
    {
     "name": "stdout",
     "output_type": "stream",
     "text": [
      "The Pearson Correlation Coefficient is -0.08523910513756905  with a P-value of P = 0.13879032695600968\n"
     ]
    }
   ],
   "source": [
    "pearson_coef, p_value = stats.pearsonr(heart_data['cholesterol'], heart_data['target'])\n",
    "print(\"The Pearson Correlation Coefficient is\", pearson_coef, \" with a P-value of P =\", p_value)"
   ]
  },
  {
   "cell_type": "markdown",
   "metadata": {},
   "source": [
    "<h5>Conclusion:</h5>\n",
    "There is no evidence that the correlation is significant, and the linear relationship between the variables is very weak."
   ]
  },
  {
   "cell_type": "code",
   "execution_count": 15,
   "metadata": {},
   "outputs": [
    {
     "name": "stdout",
     "output_type": "stream",
     "text": [
      "The Pearson Correlation Coefficient is -0.028045760272712866  with a P-value of P = 0.6267775474340695\n"
     ]
    }
   ],
   "source": [
    "pearson_coef, p_value = stats.pearsonr(heart_data['fasting_blood_sugar'], heart_data['target'])\n",
    "print(\"The Pearson Correlation Coefficient is\", pearson_coef, \" with a P-value of P =\", p_value)"
   ]
  },
  {
   "cell_type": "markdown",
   "metadata": {},
   "source": [
    "<h5>Conclusion:</h5>\n",
    "There is no evidence that the correlation is significant, and the linear relationship between the variables is very weak."
   ]
  },
  {
   "cell_type": "code",
   "execution_count": 16,
   "metadata": {
    "scrolled": true
   },
   "outputs": [
    {
     "name": "stdout",
     "output_type": "stream",
     "text": [
      "The Pearson Correlation Coefficient is 0.13722950287377308  with a P-value of P = 0.016839897060127527\n"
     ]
    }
   ],
   "source": [
    "pearson_coef, p_value = stats.pearsonr(heart_data['rest_ecg'], heart_data['target'])\n",
    "print(\"The Pearson Correlation Coefficient is\", pearson_coef, \" with a P-value of P =\", p_value)"
   ]
  },
  {
   "cell_type": "markdown",
   "metadata": {},
   "source": [
    "<h5>Conclusion:</h5>\n",
    "There is a weak evidence that the correlation is significant, and the linear relationship between the variables is very weak."
   ]
  },
  {
   "cell_type": "code",
   "execution_count": 17,
   "metadata": {},
   "outputs": [
    {
     "name": "stdout",
     "output_type": "stream",
     "text": [
      "The Pearson Correlation Coefficient is 0.4217409338106744  with a P-value of P = 1.697337638656172e-14\n"
     ]
    }
   ],
   "source": [
    "pearson_coef, p_value = stats.pearsonr(heart_data['max_heart_rate_achieved'], heart_data['target'])\n",
    "print(\"The Pearson Correlation Coefficient is\", pearson_coef, \" with a P-value of P =\", p_value)"
   ]
  },
  {
   "cell_type": "markdown",
   "metadata": {},
   "source": [
    "<h5>Conclusion:</h5>\n",
    "There is a strong evidence that the correlation is significant, the linear relationship between the variables is not very strong, but in that case it might be useful."
   ]
  },
  {
   "cell_type": "code",
   "execution_count": 18,
   "metadata": {},
   "outputs": [
    {
     "name": "stdout",
     "output_type": "stream",
     "text": [
      "The Pearson Correlation Coefficient is -0.43675708335330304  with a P-value of P = 1.5208138383315066e-15\n"
     ]
    }
   ],
   "source": [
    "pearson_coef, p_value = stats.pearsonr(heart_data['exercise_induced_angina'], heart_data['target'])\n",
    "print(\"The Pearson Correlation Coefficient is\", pearson_coef, \" with a P-value of P =\", p_value)"
   ]
  },
  {
   "cell_type": "markdown",
   "metadata": {},
   "source": [
    "<h5>Conclusion:</h5>\n",
    "There is a strong evidence that the correlation is significant, the linear relationship between the variables is not very strong, but in that case it might be useful."
   ]
  },
  {
   "cell_type": "code",
   "execution_count": 19,
   "metadata": {},
   "outputs": [
    {
     "name": "stdout",
     "output_type": "stream",
     "text": [
      "The Pearson Correlation Coefficient is -0.4306960016873687  with a P-value of P = 4.085346391354741e-15\n"
     ]
    }
   ],
   "source": [
    "pearson_coef, p_value = stats.pearsonr(heart_data['st_depression'], heart_data['target'])\n",
    "print(\"The Pearson Correlation Coefficient is\", pearson_coef, \" with a P-value of P =\", p_value)"
   ]
  },
  {
   "cell_type": "markdown",
   "metadata": {},
   "source": [
    "<h5>Conclusion:</h5>\n",
    "There is a strong evidence that the correlation is significant, the linear relationship between the variables is not strong, but in that case it might be useful."
   ]
  },
  {
   "cell_type": "code",
   "execution_count": 20,
   "metadata": {},
   "outputs": [
    {
     "name": "stdout",
     "output_type": "stream",
     "text": [
      "The Pearson Correlation Coefficient is 0.34587707824172503  with a P-value of P = 6.101610619564789e-10\n"
     ]
    }
   ],
   "source": [
    "pearson_coef, p_value = stats.pearsonr(heart_data['st_slope'], heart_data['target'])\n",
    "print(\"The Pearson Correlation Coefficient is\", pearson_coef, \" with a P-value of P =\", p_value)"
   ]
  },
  {
   "cell_type": "markdown",
   "metadata": {},
   "source": [
    "<h5>Conclusion:</h5>\n",
    "There is a strong evidence that the correlation is significant, the linear relationship between the variables is weak."
   ]
  },
  {
   "cell_type": "code",
   "execution_count": 21,
   "metadata": {},
   "outputs": [
    {
     "name": "stdout",
     "output_type": "stream",
     "text": [
      "The Pearson Correlation Coefficient is -0.39172399235125277  with a P-value of P = 1.4915387381121173e-12\n"
     ]
    }
   ],
   "source": [
    "pearson_coef, p_value = stats.pearsonr(heart_data['major_vessels_count'], heart_data['target'])\n",
    "print(\"The Pearson Correlation Coefficient is\", pearson_coef, \" with a P-value of P =\", p_value)"
   ]
  },
  {
   "cell_type": "markdown",
   "metadata": {},
   "source": [
    "<h5>Conclusion:</h5>\n",
    "There is a strong evidence that the correlation is significant, with weak negative linear relationship."
   ]
  },
  {
   "cell_type": "code",
   "execution_count": 22,
   "metadata": {},
   "outputs": [
    {
     "name": "stdout",
     "output_type": "stream",
     "text": [
      "The Pearson Correlation Coefficient is -0.34402926803831024  with a P-value of P = 7.624879909571867e-10\n"
     ]
    }
   ],
   "source": [
    "pearson_coef, p_value = stats.pearsonr(heart_data['thalassemia'], heart_data['target'])\n",
    "print(\"The Pearson Correlation Coefficient is\", pearson_coef, \" with a P-value of P =\", p_value)"
   ]
  },
  {
   "cell_type": "markdown",
   "metadata": {},
   "source": [
    "<h5>Conclusion:</h5>\n",
    "There is a strong evidence that the correlation is significant, with weak negative linear relationship."
   ]
  },
  {
   "cell_type": "markdown",
   "metadata": {},
   "source": [
    "It looks like age, chest pain type, max heart rate achieved, excercise induced angina, st depression, st slope, major vessels count and thalassemia will be the most suitable predictors in this dataset. \n",
    "Lets try to get a better sense of the data with some visualizations."
   ]
  },
  {
   "cell_type": "code",
   "execution_count": 23,
   "metadata": {},
   "outputs": [
    {
     "data": {
      "image/png": "[encoded data removed]",
      "text/plain": [
       "<Figure size 432x288 with 1 Axes>"
      ]
     },
     "metadata": {
      "needs_background": "light"
     },
     "output_type": "display_data"
    }
   ],
   "source": [
    "plt.hist(heart_data['target'])\n",
    "plt.xlabel('Label')\n",
    "plt.ylabel('Count')\n",
    "plt.show()"
   ]
  },
  {
   "cell_type": "code",
   "execution_count": 24,
   "metadata": {},
   "outputs": [
    {
     "data": {
      "image/png": "[encoded data removed]",
      "text/plain": [
       "<Figure size 432x288 with 1 Axes>"
      ]
     },
     "metadata": {
      "needs_background": "light"
     },
     "output_type": "display_data"
    }
   ],
   "source": [
    "plt.hist(heart_data['age'])\n",
    "plt.xlabel('Age')\n",
    "plt.ylabel('Count')\n",
    "plt.show()"
   ]
  },
  {
   "cell_type": "code",
   "execution_count": 25,
   "metadata": {},
   "outputs": [
    {
     "data": {
      "image/png": "[encoded data removed]",
      "text/plain": [
       "<Figure size 1440x432 with 1 Axes>"
      ]
     },
     "metadata": {
      "needs_background": "light"
     },
     "output_type": "display_data"
    }
   ],
   "source": [
    "pd.crosstab(heart_data.age, heart_data.target).plot(kind=\"bar\",figsize=(20,6))\n",
    "plt.title('Heart disease frequency by ages')\n",
    "plt.xlabel('Age')\n",
    "plt.ylabel('Frequency')\n",
    "plt.xticks(rotation = 0)\n",
    "plt.show()"
   ]
  },
  {
   "cell_type": "code",
   "execution_count": 26,
   "metadata": {},
   "outputs": [
    {
     "data": {
      "image/png": "[encoded data removed]",
      "text/plain": [
       "<Figure size 432x288 with 1 Axes>"
      ]
     },
     "metadata": {
      "needs_background": "light"
     },
     "output_type": "display_data"
    }
   ],
   "source": [
    "plt.hist(heart_data['sex'])\n",
    "plt.xlabel('Gender')\n",
    "plt.ylabel('Patients count')\n",
    "plt.title('Distribution of patients by gender')\n",
    "plt.show()"
   ]
  },
  {
   "cell_type": "code",
   "execution_count": 27,
   "metadata": {},
   "outputs": [
    {
     "data": {
      "image/png": "[encoded data removed]",
      "text/plain": [
       "<Figure size 720x432 with 1 Axes>"
      ]
     },
     "metadata": {
      "needs_background": "light"
     },
     "output_type": "display_data"
    }
   ],
   "source": [
    "pd.crosstab(heart_data.sex, heart_data.target).plot(kind=\"bar\",figsize=(10,6))\n",
    "plt.title('Heart disease frequency by gender')\n",
    "plt.xlabel('Gender(0 = Female, 1 = Male)')\n",
    "plt.ylabel('Frequency')\n",
    "plt.legend([\"Don't have Disease\", \"Have Disease\"])\n",
    "plt.xticks(rotation = 0)\n",
    "plt.show()"
   ]
  },
  {
   "cell_type": "code",
   "execution_count": 28,
   "metadata": {},
   "outputs": [
    {
     "data": {
      "image/png": "[encoded data removed]",
      "text/plain": [
       "<Figure size 432x288 with 1 Axes>"
      ]
     },
     "metadata": {
      "needs_background": "light"
     },
     "output_type": "display_data"
    }
   ],
   "source": [
    "plt.hist(heart_data['chest_pain_type'])\n",
    "plt.xlabel('Chest pain type')\n",
    "plt.ylabel('Patients count')\n",
    "plt.show()"
   ]
  },
  {
   "cell_type": "code",
   "execution_count": 29,
   "metadata": {},
   "outputs": [
    {
     "data": {
      "image/png": "[encoded data removed]",
      "text/plain": [
       "<Figure size 720x432 with 1 Axes>"
      ]
     },
     "metadata": {
      "needs_background": "light"
     },
     "output_type": "display_data"
    }
   ],
   "source": [
    "pd.crosstab(heart_data.chest_pain_type, heart_data.target).plot(kind=\"bar\",figsize=(10,6))\n",
    "plt.title('Heart disease frequency according to chest pain type')\n",
    "plt.xlabel('Chest Pain Type and label')\n",
    "plt.ylabel('Frequency')\n",
    "plt.xticks(rotation = 0)\n",
    "plt.show()"
   ]
  },
  {
   "cell_type": "code",
   "execution_count": 30,
   "metadata": {},
   "outputs": [
    {
     "data": {
      "image/png": "[encoded data removed]",
      "text/plain": [
       "<Figure size 432x288 with 1 Axes>"
      ]
     },
     "metadata": {
      "needs_background": "light"
     },
     "output_type": "display_data"
    }
   ],
   "source": [
    "plt.hist(heart_data['resting_blood_pressure'])\n",
    "plt.xlabel('Resting blood pressure')\n",
    "plt.ylabel('Count')\n",
    "plt.title('Resting blood pressure distribution.')\n",
    "plt.show()"
   ]
  },
  {
   "cell_type": "code",
   "execution_count": 31,
   "metadata": {},
   "outputs": [
    {
     "data": {
      "image/png": "[encoded data removed]",
      "text/plain": [
       "<Figure size 432x288 with 1 Axes>"
      ]
     },
     "metadata": {
      "needs_background": "light"
     },
     "output_type": "display_data"
    }
   ],
   "source": [
    "plt.hist(heart_data['cholesterol'])\n",
    "plt.xlabel('Cholesterol level')\n",
    "plt.ylabel('Patients count')\n",
    "plt.title('Patients cholesterol distribution.')\n",
    "plt.show()"
   ]
  },
  {
   "cell_type": "code",
   "execution_count": 32,
   "metadata": {},
   "outputs": [
    {
     "data": {
      "image/png": "[encoded data removed]",
      "text/plain": [
       "<Figure size 432x288 with 1 Axes>"
      ]
     },
     "metadata": {
      "needs_background": "light"
     },
     "output_type": "display_data"
    }
   ],
   "source": [
    "plt.hist(heart_data.fasting_blood_sugar)\n",
    "plt.xlabel('Fasting blood sugar')\n",
    "plt.ylabel('Count')\n",
    "plt.show()"
   ]
  },
  {
   "cell_type": "code",
   "execution_count": 33,
   "metadata": {},
   "outputs": [
    {
     "data": {
      "image/png": "[encoded data removed]",
      "text/plain": [
       "<Figure size 720x432 with 1 Axes>"
      ]
     },
     "metadata": {
      "needs_background": "light"
     },
     "output_type": "display_data"
    }
   ],
   "source": [
    "pd.crosstab(heart_data.fasting_blood_sugar, heart_data.target).plot(kind=\"bar\",figsize=(10,6))\n",
    "plt.title('Heart disease frequency according to fasting blood sugar')\n",
    "plt.xlabel('Fasting blood sugar and label')\n",
    "plt.ylabel('Frequency')\n",
    "plt.xticks(rotation = 0)\n",
    "plt.show()"
   ]
  },
  {
   "cell_type": "code",
   "execution_count": 34,
   "metadata": {},
   "outputs": [
    {
     "data": {
      "image/png": "[encoded data removed]",
      "text/plain": [
       "<Figure size 432x288 with 1 Axes>"
      ]
     },
     "metadata": {
      "needs_background": "light"
     },
     "output_type": "display_data"
    }
   ],
   "source": [
    "plt.hist(heart_data['max_heart_rate_achieved'])\n",
    "plt.xlabel('Max heart rate')\n",
    "plt.ylabel('Patients count')\n",
    "plt.title('Max heart rate distribution')\n",
    "plt.show()"
   ]
  },
  {
   "cell_type": "code",
   "execution_count": 35,
   "metadata": {},
   "outputs": [
    {
     "data": {
      "image/png": "[encoded data removed]",
      "text/plain": [
       "<Figure size 432x288 with 1 Axes>"
      ]
     },
     "metadata": {
      "needs_background": "light"
     },
     "output_type": "display_data"
    }
   ],
   "source": [
    "plt.hist(heart_data['exercise_induced_angina'])\n",
    "plt.xlabel('Exercise induced angina')\n",
    "plt.ylabel('Count')\n",
    "plt.title('Exercise induced angina distribution')\n",
    "plt.show()"
   ]
  },
  {
   "cell_type": "code",
   "execution_count": 36,
   "metadata": {},
   "outputs": [
    {
     "data": {
      "image/png": "[encoded data removed]",
      "text/plain": [
       "<Figure size 432x288 with 1 Axes>"
      ]
     },
     "metadata": {
      "needs_background": "light"
     },
     "output_type": "display_data"
    }
   ],
   "source": [
    "plt.hist(heart_data['st_depression'])\n",
    "plt.xlabel('ST depression')\n",
    "plt.ylabel('Count')\n",
    "plt.title('ST depression distribution')\n",
    "plt.show()"
   ]
  },
  {
   "cell_type": "code",
   "execution_count": 37,
   "metadata": {},
   "outputs": [
    {
     "data": {
      "image/png": "[encoded data removed]",
      "text/plain": [
       "<Figure size 432x288 with 1 Axes>"
      ]
     },
     "metadata": {
      "needs_background": "light"
     },
     "output_type": "display_data"
    }
   ],
   "source": [
    "plt.hist(heart_data.st_slope)\n",
    "plt.xlabel('ST slope')\n",
    "plt.ylabel('Count')\n",
    "plt.title('ST slope distribution')\n",
    "plt.show()"
   ]
  },
  {
   "cell_type": "code",
   "execution_count": 38,
   "metadata": {},
   "outputs": [
    {
     "data": {
      "image/png": "[encoded data removed]",
      "text/plain": [
       "<Figure size 720x432 with 1 Axes>"
      ]
     },
     "metadata": {
      "needs_background": "light"
     },
     "output_type": "display_data"
    }
   ],
   "source": [
    "pd.crosstab(heart_data.st_slope, heart_data.target).plot(kind=\"bar\",figsize=(10,6))\n",
    "plt.title('Heart disease frequency according to ST slope')\n",
    "plt.xlabel('ST slope and label')\n",
    "plt.ylabel('Frequency')\n",
    "plt.xticks(rotation = 0)\n",
    "plt.show()"
   ]
  },
  {
   "cell_type": "code",
   "execution_count": 39,
   "metadata": {},
   "outputs": [
    {
     "data": {
      "image/png": "[encoded data removed]",
      "text/plain": [
       "<Figure size 432x288 with 1 Axes>"
      ]
     },
     "metadata": {
      "needs_background": "light"
     },
     "output_type": "display_data"
    }
   ],
   "source": [
    "plt.hist(heart_data.major_vessels_count, bins=5)\n",
    "plt.xlabel('Major vessels')\n",
    "plt.ylabel('Count')\n",
    "plt.show()"
   ]
  },
  {
   "cell_type": "code",
   "execution_count": 40,
   "metadata": {},
   "outputs": [
    {
     "data": {
      "image/png": "[encoded data removed]",
      "text/plain": [
       "<Figure size 720x432 with 1 Axes>"
      ]
     },
     "metadata": {
      "needs_background": "light"
     },
     "output_type": "display_data"
    }
   ],
   "source": [
    "pd.crosstab(heart_data.major_vessels_count, heart_data.target).plot(kind=\"bar\",figsize=(10,6))\n",
    "plt.title('Heart disease frequency according to Major Vessels')\n",
    "plt.xlabel('Major Vessels and label')\n",
    "plt.ylabel('Frequency')\n",
    "plt.xticks(rotation = 0)\n",
    "plt.show()"
   ]
  },
  {
   "cell_type": "code",
   "execution_count": 41,
   "metadata": {},
   "outputs": [
    {
     "data": {
      "image/png": "[encoded data removed]",
      "text/plain": [
       "<Figure size 432x288 with 1 Axes>"
      ]
     },
     "metadata": {
      "needs_background": "light"
     },
     "output_type": "display_data"
    }
   ],
   "source": [
    "plt.hist(heart_data.thalassemia, bins = 3)\n",
    "plt.xlabel('Thalassemia type')\n",
    "plt.ylabel('Count')\n",
    "plt.show()"
   ]
  },
  {
   "cell_type": "code",
   "execution_count": 42,
   "metadata": {},
   "outputs": [
    {
     "data": {
      "image/png": "[encoded data removed]",
      "text/plain": [
       "<Figure size 720x432 with 1 Axes>"
      ]
     },
     "metadata": {
      "needs_background": "light"
     },
     "output_type": "display_data"
    }
   ],
   "source": [
    "pd.crosstab(heart_data.thalassemia, heart_data.target).plot(kind=\"bar\",figsize=(10,6))\n",
    "plt.title('Heart disease frequency according to different types of Thalassemia')\n",
    "plt.xlabel('Thalassemia type and label')\n",
    "plt.ylabel('Frequency')\n",
    "plt.xticks(rotation = 0)\n",
    "plt.show()"
   ]
  },
  {
   "cell_type": "markdown",
   "metadata": {},
   "source": [
    "### Data Preprocessing"
   ]
  },
  {
   "cell_type": "code",
   "execution_count": 43,
   "metadata": {},
   "outputs": [
    {
     "data": {
      "text/html": [
       "<div>\n",
       "<style scoped>\n",
       "    .dataframe tbody tr th:only-of-type {\n",
       "        vertical-align: middle;\n",
       "    }\n",
       "\n",
       "    .dataframe tbody tr th {\n",
       "        vertical-align: top;\n",
       "    }\n",
       "\n",
       "    .dataframe thead th {\n",
       "        text-align: right;\n",
       "    }\n",
       "</style>\n",
       "<table border=\"1\" class=\"dataframe\">\n",
       "  <thead>\n",
       "    <tr style=\"text-align: right;\">\n",
       "      <th></th>\n",
       "      <th>age</th>\n",
       "      <th>sex</th>\n",
       "      <th>chest_pain_type</th>\n",
       "      <th>resting_blood_pressure</th>\n",
       "      <th>cholesterol</th>\n",
       "      <th>fasting_blood_sugar</th>\n",
       "      <th>rest_ecg</th>\n",
       "      <th>max_heart_rate_achieved</th>\n",
       "      <th>exercise_induced_angina</th>\n",
       "      <th>st_depression</th>\n",
       "      <th>st_slope</th>\n",
       "      <th>major_vessels_count</th>\n",
       "      <th>thalassemia</th>\n",
       "      <th>target</th>\n",
       "    </tr>\n",
       "  </thead>\n",
       "  <tbody>\n",
       "    <tr>\n",
       "      <th>0</th>\n",
       "      <td>63</td>\n",
       "      <td>1</td>\n",
       "      <td>3</td>\n",
       "      <td>145</td>\n",
       "      <td>233</td>\n",
       "      <td>1</td>\n",
       "      <td>0</td>\n",
       "      <td>150</td>\n",
       "      <td>0</td>\n",
       "      <td>2.3</td>\n",
       "      <td>0</td>\n",
       "      <td>0</td>\n",
       "      <td>1</td>\n",
       "      <td>1</td>\n",
       "    </tr>\n",
       "    <tr>\n",
       "      <th>1</th>\n",
       "      <td>37</td>\n",
       "      <td>1</td>\n",
       "      <td>2</td>\n",
       "      <td>130</td>\n",
       "      <td>250</td>\n",
       "      <td>0</td>\n",
       "      <td>1</td>\n",
       "      <td>187</td>\n",
       "      <td>0</td>\n",
       "      <td>3.5</td>\n",
       "      <td>0</td>\n",
       "      <td>0</td>\n",
       "      <td>2</td>\n",
       "      <td>1</td>\n",
       "    </tr>\n",
       "    <tr>\n",
       "      <th>2</th>\n",
       "      <td>41</td>\n",
       "      <td>0</td>\n",
       "      <td>1</td>\n",
       "      <td>130</td>\n",
       "      <td>204</td>\n",
       "      <td>0</td>\n",
       "      <td>0</td>\n",
       "      <td>172</td>\n",
       "      <td>0</td>\n",
       "      <td>1.4</td>\n",
       "      <td>2</td>\n",
       "      <td>0</td>\n",
       "      <td>2</td>\n",
       "      <td>1</td>\n",
       "    </tr>\n",
       "    <tr>\n",
       "      <th>3</th>\n",
       "      <td>56</td>\n",
       "      <td>1</td>\n",
       "      <td>1</td>\n",
       "      <td>120</td>\n",
       "      <td>236</td>\n",
       "      <td>0</td>\n",
       "      <td>1</td>\n",
       "      <td>178</td>\n",
       "      <td>0</td>\n",
       "      <td>0.8</td>\n",
       "      <td>2</td>\n",
       "      <td>0</td>\n",
       "      <td>2</td>\n",
       "      <td>1</td>\n",
       "    </tr>\n",
       "    <tr>\n",
       "      <th>4</th>\n",
       "      <td>57</td>\n",
       "      <td>0</td>\n",
       "      <td>0</td>\n",
       "      <td>120</td>\n",
       "      <td>354</td>\n",
       "      <td>0</td>\n",
       "      <td>1</td>\n",
       "      <td>163</td>\n",
       "      <td>1</td>\n",
       "      <td>0.6</td>\n",
       "      <td>2</td>\n",
       "      <td>0</td>\n",
       "      <td>2</td>\n",
       "      <td>1</td>\n",
       "    </tr>\n",
       "  </tbody>\n",
       "</table>\n",
       "</div>"
      ],
      "text/plain": [
       "   age  sex  chest_pain_type  resting_blood_pressure  cholesterol  \\\n",
       "0   63    1                3                     145          233   \n",
       "1   37    1                2                     130          250   \n",
       "2   41    0                1                     130          204   \n",
       "3   56    1                1                     120          236   \n",
       "4   57    0                0                     120          354   \n",
       "\n",
       "   fasting_blood_sugar  rest_ecg  max_heart_rate_achieved  \\\n",
       "0                    1         0                      150   \n",
       "1                    0         1                      187   \n",
       "2                    0         0                      172   \n",
       "3                    0         1                      178   \n",
       "4                    0         1                      163   \n",
       "\n",
       "   exercise_induced_angina  st_depression  st_slope  major_vessels_count  \\\n",
       "0                        0            2.3         0                    0   \n",
       "1                        0            3.5         0                    0   \n",
       "2                        0            1.4         2                    0   \n",
       "3                        0            0.8         2                    0   \n",
       "4                        1            0.6         2                    0   \n",
       "\n",
       "   thalassemia  target  \n",
       "0            1       1  \n",
       "1            2       1  \n",
       "2            2       1  \n",
       "3            2       1  \n",
       "4            2       1  "
      ]
     },
     "execution_count": 43,
     "metadata": {},
     "output_type": "execute_result"
    }
   ],
   "source": [
    "heart_data.head()"
   ]
  },
  {
   "cell_type": "markdown",
   "metadata": {},
   "source": [
    "##### Creating dummy variables of the categorical ones"
   ]
  },
  {
   "cell_type": "code",
   "execution_count": 44,
   "metadata": {},
   "outputs": [
    {
     "data": {
      "text/html": [
       "<div>\n",
       "<style scoped>\n",
       "    .dataframe tbody tr th:only-of-type {\n",
       "        vertical-align: middle;\n",
       "    }\n",
       "\n",
       "    .dataframe tbody tr th {\n",
       "        vertical-align: top;\n",
       "    }\n",
       "\n",
       "    .dataframe thead th {\n",
       "        text-align: right;\n",
       "    }\n",
       "</style>\n",
       "<table border=\"1\" class=\"dataframe\">\n",
       "  <thead>\n",
       "    <tr style=\"text-align: right;\">\n",
       "      <th></th>\n",
       "      <th>age</th>\n",
       "      <th>sex</th>\n",
       "      <th>resting_blood_pressure</th>\n",
       "      <th>cholesterol</th>\n",
       "      <th>fasting_blood_sugar</th>\n",
       "      <th>rest_ecg</th>\n",
       "      <th>max_heart_rate_achieved</th>\n",
       "      <th>exercise_induced_angina</th>\n",
       "      <th>st_depression</th>\n",
       "      <th>st_slope</th>\n",
       "      <th>major_vessels_count</th>\n",
       "      <th>thalassemia</th>\n",
       "      <th>target</th>\n",
       "      <th>cp_0</th>\n",
       "      <th>cp_1</th>\n",
       "      <th>cp_2</th>\n",
       "      <th>cp_3</th>\n",
       "    </tr>\n",
       "  </thead>\n",
       "  <tbody>\n",
       "    <tr>\n",
       "      <th>0</th>\n",
       "      <td>63</td>\n",
       "      <td>1</td>\n",
       "      <td>145</td>\n",
       "      <td>233</td>\n",
       "      <td>1</td>\n",
       "      <td>0</td>\n",
       "      <td>150</td>\n",
       "      <td>0</td>\n",
       "      <td>2.3</td>\n",
       "      <td>0</td>\n",
       "      <td>0</td>\n",
       "      <td>1</td>\n",
       "      <td>1</td>\n",
       "      <td>0</td>\n",
       "      <td>0</td>\n",
       "      <td>0</td>\n",
       "      <td>1</td>\n",
       "    </tr>\n",
       "    <tr>\n",
       "      <th>1</th>\n",
       "      <td>37</td>\n",
       "      <td>1</td>\n",
       "      <td>130</td>\n",
       "      <td>250</td>\n",
       "      <td>0</td>\n",
       "      <td>1</td>\n",
       "      <td>187</td>\n",
       "      <td>0</td>\n",
       "      <td>3.5</td>\n",
       "      <td>0</td>\n",
       "      <td>0</td>\n",
       "      <td>2</td>\n",
       "      <td>1</td>\n",
       "      <td>0</td>\n",
       "      <td>0</td>\n",
       "      <td>1</td>\n",
       "      <td>0</td>\n",
       "    </tr>\n",
       "    <tr>\n",
       "      <th>2</th>\n",
       "      <td>41</td>\n",
       "      <td>0</td>\n",
       "      <td>130</td>\n",
       "      <td>204</td>\n",
       "      <td>0</td>\n",
       "      <td>0</td>\n",
       "      <td>172</td>\n",
       "      <td>0</td>\n",
       "      <td>1.4</td>\n",
       "      <td>2</td>\n",
       "      <td>0</td>\n",
       "      <td>2</td>\n",
       "      <td>1</td>\n",
       "      <td>0</td>\n",
       "      <td>1</td>\n",
       "      <td>0</td>\n",
       "      <td>0</td>\n",
       "    </tr>\n",
       "    <tr>\n",
       "      <th>3</th>\n",
       "      <td>56</td>\n",
       "      <td>1</td>\n",
       "      <td>120</td>\n",
       "      <td>236</td>\n",
       "      <td>0</td>\n",
       "      <td>1</td>\n",
       "      <td>178</td>\n",
       "      <td>0</td>\n",
       "      <td>0.8</td>\n",
       "      <td>2</td>\n",
       "      <td>0</td>\n",
       "      <td>2</td>\n",
       "      <td>1</td>\n",
       "      <td>0</td>\n",
       "      <td>1</td>\n",
       "      <td>0</td>\n",
       "      <td>0</td>\n",
       "    </tr>\n",
       "    <tr>\n",
       "      <th>4</th>\n",
       "      <td>57</td>\n",
       "      <td>0</td>\n",
       "      <td>120</td>\n",
       "      <td>354</td>\n",
       "      <td>0</td>\n",
       "      <td>1</td>\n",
       "      <td>163</td>\n",
       "      <td>1</td>\n",
       "      <td>0.6</td>\n",
       "      <td>2</td>\n",
       "      <td>0</td>\n",
       "      <td>2</td>\n",
       "      <td>1</td>\n",
       "      <td>1</td>\n",
       "      <td>0</td>\n",
       "      <td>0</td>\n",
       "      <td>0</td>\n",
       "    </tr>\n",
       "  </tbody>\n",
       "</table>\n",
       "</div>"
      ],
      "text/plain": [
       "   age  sex  resting_blood_pressure  cholesterol  fasting_blood_sugar  \\\n",
       "0   63    1                     145          233                    1   \n",
       "1   37    1                     130          250                    0   \n",
       "2   41    0                     130          204                    0   \n",
       "3   56    1                     120          236                    0   \n",
       "4   57    0                     120          354                    0   \n",
       "\n",
       "   rest_ecg  max_heart_rate_achieved  exercise_induced_angina  st_depression  \\\n",
       "0         0                      150                        0            2.3   \n",
       "1         1                      187                        0            3.5   \n",
       "2         0                      172                        0            1.4   \n",
       "3         1                      178                        0            0.8   \n",
       "4         1                      163                        1            0.6   \n",
       "\n",
       "   st_slope  major_vessels_count  thalassemia  target  cp_0  cp_1  cp_2  cp_3  \n",
       "0         0                    0            1       1     0     0     0     1  \n",
       "1         0                    0            2       1     0     0     1     0  \n",
       "2         2                    0            2       1     0     1     0     0  \n",
       "3         2                    0            2       1     0     1     0     0  \n",
       "4         2                    0            2       1     1     0     0     0  "
      ]
     },
     "execution_count": 44,
     "metadata": {},
     "output_type": "execute_result"
    }
   ],
   "source": [
    "cpt_dummy = pd.get_dummies(heart_data['chest_pain_type'], prefix = 'cp')\n",
    "heart_data2 = pd.concat([heart_data, cpt_dummy], axis=1)\n",
    "heart_data2.drop(\"chest_pain_type\", axis = 1, inplace=True)\n",
    "heart_data2.head()"
   ]
  },
  {
   "cell_type": "code",
   "execution_count": 45,
   "metadata": {},
   "outputs": [
    {
     "data": {
      "text/html": [
       "<div>\n",
       "<style scoped>\n",
       "    .dataframe tbody tr th:only-of-type {\n",
       "        vertical-align: middle;\n",
       "    }\n",
       "\n",
       "    .dataframe tbody tr th {\n",
       "        vertical-align: top;\n",
       "    }\n",
       "\n",
       "    .dataframe thead th {\n",
       "        text-align: right;\n",
       "    }\n",
       "</style>\n",
       "<table border=\"1\" class=\"dataframe\">\n",
       "  <thead>\n",
       "    <tr style=\"text-align: right;\">\n",
       "      <th></th>\n",
       "      <th>age</th>\n",
       "      <th>sex</th>\n",
       "      <th>resting_blood_pressure</th>\n",
       "      <th>cholesterol</th>\n",
       "      <th>fasting_blood_sugar</th>\n",
       "      <th>rest_ecg</th>\n",
       "      <th>max_heart_rate_achieved</th>\n",
       "      <th>exercise_induced_angina</th>\n",
       "      <th>st_depression</th>\n",
       "      <th>st_slope</th>\n",
       "      <th>major_vessels_count</th>\n",
       "      <th>target</th>\n",
       "      <th>cp_0</th>\n",
       "      <th>cp_1</th>\n",
       "      <th>cp_2</th>\n",
       "      <th>cp_3</th>\n",
       "      <th>thal_0</th>\n",
       "      <th>thal_1</th>\n",
       "      <th>thal_2</th>\n",
       "      <th>thal_3</th>\n",
       "    </tr>\n",
       "  </thead>\n",
       "  <tbody>\n",
       "    <tr>\n",
       "      <th>0</th>\n",
       "      <td>63</td>\n",
       "      <td>1</td>\n",
       "      <td>145</td>\n",
       "      <td>233</td>\n",
       "      <td>1</td>\n",
       "      <td>0</td>\n",
       "      <td>150</td>\n",
       "      <td>0</td>\n",
       "      <td>2.3</td>\n",
       "      <td>0</td>\n",
       "      <td>0</td>\n",
       "      <td>1</td>\n",
       "      <td>0</td>\n",
       "      <td>0</td>\n",
       "      <td>0</td>\n",
       "      <td>1</td>\n",
       "      <td>0</td>\n",
       "      <td>1</td>\n",
       "      <td>0</td>\n",
       "      <td>0</td>\n",
       "    </tr>\n",
       "    <tr>\n",
       "      <th>1</th>\n",
       "      <td>37</td>\n",
       "      <td>1</td>\n",
       "      <td>130</td>\n",
       "      <td>250</td>\n",
       "      <td>0</td>\n",
       "      <td>1</td>\n",
       "      <td>187</td>\n",
       "      <td>0</td>\n",
       "      <td>3.5</td>\n",
       "      <td>0</td>\n",
       "      <td>0</td>\n",
       "      <td>1</td>\n",
       "      <td>0</td>\n",
       "      <td>0</td>\n",
       "      <td>1</td>\n",
       "      <td>0</td>\n",
       "      <td>0</td>\n",
       "      <td>0</td>\n",
       "      <td>1</td>\n",
       "      <td>0</td>\n",
       "    </tr>\n",
       "    <tr>\n",
       "      <th>2</th>\n",
       "      <td>41</td>\n",
       "      <td>0</td>\n",
       "      <td>130</td>\n",
       "      <td>204</td>\n",
       "      <td>0</td>\n",
       "      <td>0</td>\n",
       "      <td>172</td>\n",
       "      <td>0</td>\n",
       "      <td>1.4</td>\n",
       "      <td>2</td>\n",
       "      <td>0</td>\n",
       "      <td>1</td>\n",
       "      <td>0</td>\n",
       "      <td>1</td>\n",
       "      <td>0</td>\n",
       "      <td>0</td>\n",
       "      <td>0</td>\n",
       "      <td>0</td>\n",
       "      <td>1</td>\n",
       "      <td>0</td>\n",
       "    </tr>\n",
       "    <tr>\n",
       "      <th>3</th>\n",
       "      <td>56</td>\n",
       "      <td>1</td>\n",
       "      <td>120</td>\n",
       "      <td>236</td>\n",
       "      <td>0</td>\n",
       "      <td>1</td>\n",
       "      <td>178</td>\n",
       "      <td>0</td>\n",
       "      <td>0.8</td>\n",
       "      <td>2</td>\n",
       "      <td>0</td>\n",
       "      <td>1</td>\n",
       "      <td>0</td>\n",
       "      <td>1</td>\n",
       "      <td>0</td>\n",
       "      <td>0</td>\n",
       "      <td>0</td>\n",
       "      <td>0</td>\n",
       "      <td>1</td>\n",
       "      <td>0</td>\n",
       "    </tr>\n",
       "    <tr>\n",
       "      <th>4</th>\n",
       "      <td>57</td>\n",
       "      <td>0</td>\n",
       "      <td>120</td>\n",
       "      <td>354</td>\n",
       "      <td>0</td>\n",
       "      <td>1</td>\n",
       "      <td>163</td>\n",
       "      <td>1</td>\n",
       "      <td>0.6</td>\n",
       "      <td>2</td>\n",
       "      <td>0</td>\n",
       "      <td>1</td>\n",
       "      <td>1</td>\n",
       "      <td>0</td>\n",
       "      <td>0</td>\n",
       "      <td>0</td>\n",
       "      <td>0</td>\n",
       "      <td>0</td>\n",
       "      <td>1</td>\n",
       "      <td>0</td>\n",
       "    </tr>\n",
       "  </tbody>\n",
       "</table>\n",
       "</div>"
      ],
      "text/plain": [
       "   age  sex  resting_blood_pressure  cholesterol  fasting_blood_sugar  \\\n",
       "0   63    1                     145          233                    1   \n",
       "1   37    1                     130          250                    0   \n",
       "2   41    0                     130          204                    0   \n",
       "3   56    1                     120          236                    0   \n",
       "4   57    0                     120          354                    0   \n",
       "\n",
       "   rest_ecg  max_heart_rate_achieved  exercise_induced_angina  st_depression  \\\n",
       "0         0                      150                        0            2.3   \n",
       "1         1                      187                        0            3.5   \n",
       "2         0                      172                        0            1.4   \n",
       "3         1                      178                        0            0.8   \n",
       "4         1                      163                        1            0.6   \n",
       "\n",
       "   st_slope  major_vessels_count  target  cp_0  cp_1  cp_2  cp_3  thal_0  \\\n",
       "0         0                    0       1     0     0     0     1       0   \n",
       "1         0                    0       1     0     0     1     0       0   \n",
       "2         2                    0       1     0     1     0     0       0   \n",
       "3         2                    0       1     0     1     0     0       0   \n",
       "4         2                    0       1     1     0     0     0       0   \n",
       "\n",
       "   thal_1  thal_2  thal_3  \n",
       "0       1       0       0  \n",
       "1       0       1       0  \n",
       "2       0       1       0  \n",
       "3       0       1       0  \n",
       "4       0       1       0  "
      ]
     },
     "execution_count": 45,
     "metadata": {},
     "output_type": "execute_result"
    }
   ],
   "source": [
    "thal_dummy = pd.get_dummies(heart_data['thalassemia'], prefix = 'thal')\n",
    "heart_data2 = pd.concat([heart_data2, thal_dummy], axis=1)\n",
    "heart_data2.drop(\"thalassemia\", axis = 1, inplace = True)\n",
    "heart_data2.head()"
   ]
  },
  {
   "cell_type": "code",
   "execution_count": 46,
   "metadata": {},
   "outputs": [
    {
     "data": {
      "text/html": [
       "<div>\n",
       "<style scoped>\n",
       "    .dataframe tbody tr th:only-of-type {\n",
       "        vertical-align: middle;\n",
       "    }\n",
       "\n",
       "    .dataframe tbody tr th {\n",
       "        vertical-align: top;\n",
       "    }\n",
       "\n",
       "    .dataframe thead th {\n",
       "        text-align: right;\n",
       "    }\n",
       "</style>\n",
       "<table border=\"1\" class=\"dataframe\">\n",
       "  <thead>\n",
       "    <tr style=\"text-align: right;\">\n",
       "      <th></th>\n",
       "      <th>age</th>\n",
       "      <th>sex</th>\n",
       "      <th>resting_blood_pressure</th>\n",
       "      <th>cholesterol</th>\n",
       "      <th>fasting_blood_sugar</th>\n",
       "      <th>rest_ecg</th>\n",
       "      <th>max_heart_rate_achieved</th>\n",
       "      <th>exercise_induced_angina</th>\n",
       "      <th>st_depression</th>\n",
       "      <th>major_vessels_count</th>\n",
       "      <th>...</th>\n",
       "      <th>cp_1</th>\n",
       "      <th>cp_2</th>\n",
       "      <th>cp_3</th>\n",
       "      <th>thal_0</th>\n",
       "      <th>thal_1</th>\n",
       "      <th>thal_2</th>\n",
       "      <th>thal_3</th>\n",
       "      <th>slp_0</th>\n",
       "      <th>slp_1</th>\n",
       "      <th>slp_2</th>\n",
       "    </tr>\n",
       "  </thead>\n",
       "  <tbody>\n",
       "    <tr>\n",
       "      <th>0</th>\n",
       "      <td>63</td>\n",
       "      <td>1</td>\n",
       "      <td>145</td>\n",
       "      <td>233</td>\n",
       "      <td>1</td>\n",
       "      <td>0</td>\n",
       "      <td>150</td>\n",
       "      <td>0</td>\n",
       "      <td>2.3</td>\n",
       "      <td>0</td>\n",
       "      <td>...</td>\n",
       "      <td>0</td>\n",
       "      <td>0</td>\n",
       "      <td>1</td>\n",
       "      <td>0</td>\n",
       "      <td>1</td>\n",
       "      <td>0</td>\n",
       "      <td>0</td>\n",
       "      <td>1</td>\n",
       "      <td>0</td>\n",
       "      <td>0</td>\n",
       "    </tr>\n",
       "    <tr>\n",
       "      <th>1</th>\n",
       "      <td>37</td>\n",
       "      <td>1</td>\n",
       "      <td>130</td>\n",
       "      <td>250</td>\n",
       "      <td>0</td>\n",
       "      <td>1</td>\n",
       "      <td>187</td>\n",
       "      <td>0</td>\n",
       "      <td>3.5</td>\n",
       "      <td>0</td>\n",
       "      <td>...</td>\n",
       "      <td>0</td>\n",
       "      <td>1</td>\n",
       "      <td>0</td>\n",
       "      <td>0</td>\n",
       "      <td>0</td>\n",
       "      <td>1</td>\n",
       "      <td>0</td>\n",
       "      <td>1</td>\n",
       "      <td>0</td>\n",
       "      <td>0</td>\n",
       "    </tr>\n",
       "    <tr>\n",
       "      <th>2</th>\n",
       "      <td>41</td>\n",
       "      <td>0</td>\n",
       "      <td>130</td>\n",
       "      <td>204</td>\n",
       "      <td>0</td>\n",
       "      <td>0</td>\n",
       "      <td>172</td>\n",
       "      <td>0</td>\n",
       "      <td>1.4</td>\n",
       "      <td>0</td>\n",
       "      <td>...</td>\n",
       "      <td>1</td>\n",
       "      <td>0</td>\n",
       "      <td>0</td>\n",
       "      <td>0</td>\n",
       "      <td>0</td>\n",
       "      <td>1</td>\n",
       "      <td>0</td>\n",
       "      <td>0</td>\n",
       "      <td>0</td>\n",
       "      <td>1</td>\n",
       "    </tr>\n",
       "    <tr>\n",
       "      <th>3</th>\n",
       "      <td>56</td>\n",
       "      <td>1</td>\n",
       "      <td>120</td>\n",
       "      <td>236</td>\n",
       "      <td>0</td>\n",
       "      <td>1</td>\n",
       "      <td>178</td>\n",
       "      <td>0</td>\n",
       "      <td>0.8</td>\n",
       "      <td>0</td>\n",
       "      <td>...</td>\n",
       "      <td>1</td>\n",
       "      <td>0</td>\n",
       "      <td>0</td>\n",
       "      <td>0</td>\n",
       "      <td>0</td>\n",
       "      <td>1</td>\n",
       "      <td>0</td>\n",
       "      <td>0</td>\n",
       "      <td>0</td>\n",
       "      <td>1</td>\n",
       "    </tr>\n",
       "    <tr>\n",
       "      <th>4</th>\n",
       "      <td>57</td>\n",
       "      <td>0</td>\n",
       "      <td>120</td>\n",
       "      <td>354</td>\n",
       "      <td>0</td>\n",
       "      <td>1</td>\n",
       "      <td>163</td>\n",
       "      <td>1</td>\n",
       "      <td>0.6</td>\n",
       "      <td>0</td>\n",
       "      <td>...</td>\n",
       "      <td>0</td>\n",
       "      <td>0</td>\n",
       "      <td>0</td>\n",
       "      <td>0</td>\n",
       "      <td>0</td>\n",
       "      <td>1</td>\n",
       "      <td>0</td>\n",
       "      <td>0</td>\n",
       "      <td>0</td>\n",
       "      <td>1</td>\n",
       "    </tr>\n",
       "  </tbody>\n",
       "</table>\n",
       "<p>5 rows × 22 columns</p>\n",
       "</div>"
      ],
      "text/plain": [
       "   age  sex  resting_blood_pressure  cholesterol  fasting_blood_sugar  \\\n",
       "0   63    1                     145          233                    1   \n",
       "1   37    1                     130          250                    0   \n",
       "2   41    0                     130          204                    0   \n",
       "3   56    1                     120          236                    0   \n",
       "4   57    0                     120          354                    0   \n",
       "\n",
       "   rest_ecg  max_heart_rate_achieved  exercise_induced_angina  st_depression  \\\n",
       "0         0                      150                        0            2.3   \n",
       "1         1                      187                        0            3.5   \n",
       "2         0                      172                        0            1.4   \n",
       "3         1                      178                        0            0.8   \n",
       "4         1                      163                        1            0.6   \n",
       "\n",
       "   major_vessels_count  ...  cp_1  cp_2  cp_3  thal_0  thal_1  thal_2  thal_3  \\\n",
       "0                    0  ...     0     0     1       0       1       0       0   \n",
       "1                    0  ...     0     1     0       0       0       1       0   \n",
       "2                    0  ...     1     0     0       0       0       1       0   \n",
       "3                    0  ...     1     0     0       0       0       1       0   \n",
       "4                    0  ...     0     0     0       0       0       1       0   \n",
       "\n",
       "   slp_0  slp_1  slp_2  \n",
       "0      1      0      0  \n",
       "1      1      0      0  \n",
       "2      0      0      1  \n",
       "3      0      0      1  \n",
       "4      0      0      1  \n",
       "\n",
       "[5 rows x 22 columns]"
      ]
     },
     "execution_count": 46,
     "metadata": {},
     "output_type": "execute_result"
    }
   ],
   "source": [
    "st_slope_dummy = pd.get_dummies(heart_data['st_slope'], prefix = 'slp')\n",
    "heart_data2 = pd.concat([heart_data2, st_slope_dummy], axis=1)\n",
    "heart_data2.drop(\"st_slope\", axis = 1, inplace = True)\n",
    "heart_data2_ns = heart_data2.copy()\n",
    "heart_data2.head()"
   ]
  },
  {
   "cell_type": "code",
   "execution_count": 47,
   "metadata": {},
   "outputs": [
    {
     "data": {
      "text/html": [
       "<div>\n",
       "<style scoped>\n",
       "    .dataframe tbody tr th:only-of-type {\n",
       "        vertical-align: middle;\n",
       "    }\n",
       "\n",
       "    .dataframe tbody tr th {\n",
       "        vertical-align: top;\n",
       "    }\n",
       "\n",
       "    .dataframe thead th {\n",
       "        text-align: right;\n",
       "    }\n",
       "</style>\n",
       "<table border=\"1\" class=\"dataframe\">\n",
       "  <thead>\n",
       "    <tr style=\"text-align: right;\">\n",
       "      <th></th>\n",
       "      <th>age</th>\n",
       "      <th>sex</th>\n",
       "      <th>fasting_blood_sugar</th>\n",
       "      <th>rest_ecg</th>\n",
       "      <th>max_heart_rate_achieved</th>\n",
       "      <th>exercise_induced_angina</th>\n",
       "      <th>st_depression</th>\n",
       "      <th>major_vessels_count</th>\n",
       "      <th>cp_0</th>\n",
       "      <th>cp_1</th>\n",
       "      <th>cp_2</th>\n",
       "      <th>cp_3</th>\n",
       "      <th>thal_0</th>\n",
       "      <th>thal_1</th>\n",
       "      <th>thal_2</th>\n",
       "      <th>thal_3</th>\n",
       "      <th>slp_0</th>\n",
       "      <th>slp_1</th>\n",
       "      <th>slp_2</th>\n",
       "    </tr>\n",
       "  </thead>\n",
       "  <tbody>\n",
       "    <tr>\n",
       "      <th>0</th>\n",
       "      <td>63</td>\n",
       "      <td>1</td>\n",
       "      <td>1</td>\n",
       "      <td>0</td>\n",
       "      <td>150</td>\n",
       "      <td>0</td>\n",
       "      <td>2.3</td>\n",
       "      <td>0</td>\n",
       "      <td>0</td>\n",
       "      <td>0</td>\n",
       "      <td>0</td>\n",
       "      <td>1</td>\n",
       "      <td>0</td>\n",
       "      <td>1</td>\n",
       "      <td>0</td>\n",
       "      <td>0</td>\n",
       "      <td>1</td>\n",
       "      <td>0</td>\n",
       "      <td>0</td>\n",
       "    </tr>\n",
       "    <tr>\n",
       "      <th>1</th>\n",
       "      <td>37</td>\n",
       "      <td>1</td>\n",
       "      <td>0</td>\n",
       "      <td>1</td>\n",
       "      <td>187</td>\n",
       "      <td>0</td>\n",
       "      <td>3.5</td>\n",
       "      <td>0</td>\n",
       "      <td>0</td>\n",
       "      <td>0</td>\n",
       "      <td>1</td>\n",
       "      <td>0</td>\n",
       "      <td>0</td>\n",
       "      <td>0</td>\n",
       "      <td>1</td>\n",
       "      <td>0</td>\n",
       "      <td>1</td>\n",
       "      <td>0</td>\n",
       "      <td>0</td>\n",
       "    </tr>\n",
       "    <tr>\n",
       "      <th>2</th>\n",
       "      <td>41</td>\n",
       "      <td>0</td>\n",
       "      <td>0</td>\n",
       "      <td>0</td>\n",
       "      <td>172</td>\n",
       "      <td>0</td>\n",
       "      <td>1.4</td>\n",
       "      <td>0</td>\n",
       "      <td>0</td>\n",
       "      <td>1</td>\n",
       "      <td>0</td>\n",
       "      <td>0</td>\n",
       "      <td>0</td>\n",
       "      <td>0</td>\n",
       "      <td>1</td>\n",
       "      <td>0</td>\n",
       "      <td>0</td>\n",
       "      <td>0</td>\n",
       "      <td>1</td>\n",
       "    </tr>\n",
       "    <tr>\n",
       "      <th>3</th>\n",
       "      <td>56</td>\n",
       "      <td>1</td>\n",
       "      <td>0</td>\n",
       "      <td>1</td>\n",
       "      <td>178</td>\n",
       "      <td>0</td>\n",
       "      <td>0.8</td>\n",
       "      <td>0</td>\n",
       "      <td>0</td>\n",
       "      <td>1</td>\n",
       "      <td>0</td>\n",
       "      <td>0</td>\n",
       "      <td>0</td>\n",
       "      <td>0</td>\n",
       "      <td>1</td>\n",
       "      <td>0</td>\n",
       "      <td>0</td>\n",
       "      <td>0</td>\n",
       "      <td>1</td>\n",
       "    </tr>\n",
       "    <tr>\n",
       "      <th>4</th>\n",
       "      <td>57</td>\n",
       "      <td>0</td>\n",
       "      <td>0</td>\n",
       "      <td>1</td>\n",
       "      <td>163</td>\n",
       "      <td>1</td>\n",
       "      <td>0.6</td>\n",
       "      <td>0</td>\n",
       "      <td>1</td>\n",
       "      <td>0</td>\n",
       "      <td>0</td>\n",
       "      <td>0</td>\n",
       "      <td>0</td>\n",
       "      <td>0</td>\n",
       "      <td>1</td>\n",
       "      <td>0</td>\n",
       "      <td>0</td>\n",
       "      <td>0</td>\n",
       "      <td>1</td>\n",
       "    </tr>\n",
       "  </tbody>\n",
       "</table>\n",
       "</div>"
      ],
      "text/plain": [
       "   age  sex  fasting_blood_sugar  rest_ecg  max_heart_rate_achieved  \\\n",
       "0   63    1                    1         0                      150   \n",
       "1   37    1                    0         1                      187   \n",
       "2   41    0                    0         0                      172   \n",
       "3   56    1                    0         1                      178   \n",
       "4   57    0                    0         1                      163   \n",
       "\n",
       "   exercise_induced_angina  st_depression  major_vessels_count  cp_0  cp_1  \\\n",
       "0                        0            2.3                    0     0     0   \n",
       "1                        0            3.5                    0     0     0   \n",
       "2                        0            1.4                    0     0     1   \n",
       "3                        0            0.8                    0     0     1   \n",
       "4                        1            0.6                    0     1     0   \n",
       "\n",
       "   cp_2  cp_3  thal_0  thal_1  thal_2  thal_3  slp_0  slp_1  slp_2  \n",
       "0     0     1       0       1       0       0      1      0      0  \n",
       "1     1     0       0       0       1       0      1      0      0  \n",
       "2     0     0       0       0       1       0      0      0      1  \n",
       "3     0     0       0       0       1       0      0      0      1  \n",
       "4     0     0       0       0       1       0      0      0      1  "
      ]
     },
     "execution_count": 47,
     "metadata": {},
     "output_type": "execute_result"
    }
   ],
   "source": [
    "#dropping the columns that won`t be used in the model\n",
    "heart_data2.drop(\"target\", axis = 1, inplace = True)\n",
    "heart_data2.drop(\"cholesterol\", axis = 1, inplace = True)\n",
    "#heart_data2.drop(\"age\", axis = 1, inplace = True)\n",
    "heart_data2.drop(\"resting_blood_pressure\", axis = 1, inplace = True)\n",
    "heart_data2.head()"
   ]
  },
  {
   "cell_type": "markdown",
   "metadata": {},
   "source": [
    "##### Normalization"
   ]
  },
  {
   "cell_type": "code",
   "execution_count": 48,
   "metadata": {},
   "outputs": [],
   "source": [
    "#normalizing the values to be between 0 and 1, because they are positive numbers\n",
    "heart_data2['max_heart_rate_achieved'] = heart_data2['max_heart_rate_achieved'] / heart_data2['max_heart_rate_achieved'].max()\n",
    "heart_data2['st_depression'] = heart_data2['st_depression'] / heart_data2['st_depression'].max()\n",
    "heart_data2['major_vessels_count'] = heart_data2['major_vessels_count'] / heart_data2['major_vessels_count'].max()\n",
    "heart_data2['age'] = heart_data2['age'] / heart_data2['age'].max()"
   ]
  },
  {
   "cell_type": "code",
   "execution_count": 49,
   "metadata": {},
   "outputs": [
    {
     "data": {
      "text/html": [
       "<div>\n",
       "<style scoped>\n",
       "    .dataframe tbody tr th:only-of-type {\n",
       "        vertical-align: middle;\n",
       "    }\n",
       "\n",
       "    .dataframe tbody tr th {\n",
       "        vertical-align: top;\n",
       "    }\n",
       "\n",
       "    .dataframe thead th {\n",
       "        text-align: right;\n",
       "    }\n",
       "</style>\n",
       "<table border=\"1\" class=\"dataframe\">\n",
       "  <thead>\n",
       "    <tr style=\"text-align: right;\">\n",
       "      <th></th>\n",
       "      <th>age</th>\n",
       "      <th>sex</th>\n",
       "      <th>fasting_blood_sugar</th>\n",
       "      <th>rest_ecg</th>\n",
       "      <th>max_heart_rate_achieved</th>\n",
       "      <th>exercise_induced_angina</th>\n",
       "      <th>st_depression</th>\n",
       "      <th>major_vessels_count</th>\n",
       "      <th>cp_0</th>\n",
       "      <th>cp_1</th>\n",
       "      <th>cp_2</th>\n",
       "      <th>cp_3</th>\n",
       "      <th>thal_0</th>\n",
       "      <th>thal_1</th>\n",
       "      <th>thal_2</th>\n",
       "      <th>thal_3</th>\n",
       "      <th>slp_0</th>\n",
       "      <th>slp_1</th>\n",
       "      <th>slp_2</th>\n",
       "    </tr>\n",
       "  </thead>\n",
       "  <tbody>\n",
       "    <tr>\n",
       "      <th>0</th>\n",
       "      <td>0.818182</td>\n",
       "      <td>1</td>\n",
       "      <td>1</td>\n",
       "      <td>0</td>\n",
       "      <td>0.742574</td>\n",
       "      <td>0</td>\n",
       "      <td>0.370968</td>\n",
       "      <td>0.0</td>\n",
       "      <td>0</td>\n",
       "      <td>0</td>\n",
       "      <td>0</td>\n",
       "      <td>1</td>\n",
       "      <td>0</td>\n",
       "      <td>1</td>\n",
       "      <td>0</td>\n",
       "      <td>0</td>\n",
       "      <td>1</td>\n",
       "      <td>0</td>\n",
       "      <td>0</td>\n",
       "    </tr>\n",
       "    <tr>\n",
       "      <th>1</th>\n",
       "      <td>0.480519</td>\n",
       "      <td>1</td>\n",
       "      <td>0</td>\n",
       "      <td>1</td>\n",
       "      <td>0.925743</td>\n",
       "      <td>0</td>\n",
       "      <td>0.564516</td>\n",
       "      <td>0.0</td>\n",
       "      <td>0</td>\n",
       "      <td>0</td>\n",
       "      <td>1</td>\n",
       "      <td>0</td>\n",
       "      <td>0</td>\n",
       "      <td>0</td>\n",
       "      <td>1</td>\n",
       "      <td>0</td>\n",
       "      <td>1</td>\n",
       "      <td>0</td>\n",
       "      <td>0</td>\n",
       "    </tr>\n",
       "    <tr>\n",
       "      <th>2</th>\n",
       "      <td>0.532468</td>\n",
       "      <td>0</td>\n",
       "      <td>0</td>\n",
       "      <td>0</td>\n",
       "      <td>0.851485</td>\n",
       "      <td>0</td>\n",
       "      <td>0.225806</td>\n",
       "      <td>0.0</td>\n",
       "      <td>0</td>\n",
       "      <td>1</td>\n",
       "      <td>0</td>\n",
       "      <td>0</td>\n",
       "      <td>0</td>\n",
       "      <td>0</td>\n",
       "      <td>1</td>\n",
       "      <td>0</td>\n",
       "      <td>0</td>\n",
       "      <td>0</td>\n",
       "      <td>1</td>\n",
       "    </tr>\n",
       "    <tr>\n",
       "      <th>3</th>\n",
       "      <td>0.727273</td>\n",
       "      <td>1</td>\n",
       "      <td>0</td>\n",
       "      <td>1</td>\n",
       "      <td>0.881188</td>\n",
       "      <td>0</td>\n",
       "      <td>0.129032</td>\n",
       "      <td>0.0</td>\n",
       "      <td>0</td>\n",
       "      <td>1</td>\n",
       "      <td>0</td>\n",
       "      <td>0</td>\n",
       "      <td>0</td>\n",
       "      <td>0</td>\n",
       "      <td>1</td>\n",
       "      <td>0</td>\n",
       "      <td>0</td>\n",
       "      <td>0</td>\n",
       "      <td>1</td>\n",
       "    </tr>\n",
       "    <tr>\n",
       "      <th>4</th>\n",
       "      <td>0.740260</td>\n",
       "      <td>0</td>\n",
       "      <td>0</td>\n",
       "      <td>1</td>\n",
       "      <td>0.806931</td>\n",
       "      <td>1</td>\n",
       "      <td>0.096774</td>\n",
       "      <td>0.0</td>\n",
       "      <td>1</td>\n",
       "      <td>0</td>\n",
       "      <td>0</td>\n",
       "      <td>0</td>\n",
       "      <td>0</td>\n",
       "      <td>0</td>\n",
       "      <td>1</td>\n",
       "      <td>0</td>\n",
       "      <td>0</td>\n",
       "      <td>0</td>\n",
       "      <td>1</td>\n",
       "    </tr>\n",
       "  </tbody>\n",
       "</table>\n",
       "</div>"
      ],
      "text/plain": [
       "        age  sex  fasting_blood_sugar  rest_ecg  max_heart_rate_achieved  \\\n",
       "0  0.818182    1                    1         0                 0.742574   \n",
       "1  0.480519    1                    0         1                 0.925743   \n",
       "2  0.532468    0                    0         0                 0.851485   \n",
       "3  0.727273    1                    0         1                 0.881188   \n",
       "4  0.740260    0                    0         1                 0.806931   \n",
       "\n",
       "   exercise_induced_angina  st_depression  major_vessels_count  cp_0  cp_1  \\\n",
       "0                        0       0.370968                  0.0     0     0   \n",
       "1                        0       0.564516                  0.0     0     0   \n",
       "2                        0       0.225806                  0.0     0     1   \n",
       "3                        0       0.129032                  0.0     0     1   \n",
       "4                        1       0.096774                  0.0     1     0   \n",
       "\n",
       "   cp_2  cp_3  thal_0  thal_1  thal_2  thal_3  slp_0  slp_1  slp_2  \n",
       "0     0     1       0       1       0       0      1      0      0  \n",
       "1     1     0       0       0       1       0      1      0      0  \n",
       "2     0     0       0       0       1       0      0      0      1  \n",
       "3     0     0       0       0       1       0      0      0      1  \n",
       "4     0     0       0       0       1       0      0      0      1  "
      ]
     },
     "execution_count": 49,
     "metadata": {},
     "output_type": "execute_result"
    }
   ],
   "source": [
    "heart_data2.head()"
   ]
  },
  {
   "cell_type": "markdown",
   "metadata": {},
   "source": [
    "### Logistic Regression model"
   ]
  },
  {
   "cell_type": "code",
   "execution_count": 50,
   "metadata": {},
   "outputs": [],
   "source": [
    "x = heart_data2\n",
    "y = heart_data['target']"
   ]
  },
  {
   "cell_type": "code",
   "execution_count": 51,
   "metadata": {},
   "outputs": [],
   "source": [
    "#train-test split\n",
    "x_train, x_test, y_train, y_test = train_test_split(x, y, test_size = 0.2, random_state = 0)"
   ]
  },
  {
   "cell_type": "code",
   "execution_count": 52,
   "metadata": {},
   "outputs": [
    {
     "name": "stdout",
     "output_type": "stream",
     "text": [
      "Accuracy score of the model is: 86.88524590163934 %\n"
     ]
    }
   ],
   "source": [
    "lr = LogisticRegression()\n",
    "lr.fit(x_train, y_train)\n",
    "y_pred = lr.predict(x_test)\n",
    "\n",
    "print(\"Accuracy score of the model is:\",accuracy_score(y_test, y_pred) * 100,\"%\")"
   ]
  },
  {
   "cell_type": "code",
   "execution_count": 53,
   "metadata": {},
   "outputs": [
    {
     "name": "stdout",
     "output_type": "stream",
     "text": [
      "[[22  5]\n",
      " [ 3 31]]\n"
     ]
    }
   ],
   "source": [
    "print(confusion_matrix(y_test, y_pred))"
   ]
  },
  {
   "cell_type": "code",
   "execution_count": 54,
   "metadata": {},
   "outputs": [
    {
     "data": {
      "text/plain": [
       "0.8148148148148148"
      ]
     },
     "execution_count": 54,
     "metadata": {},
     "output_type": "execute_result"
    }
   ],
   "source": [
    "#precision = True positive / True positive + False Positive\n",
    "precision = 22 / 27\n",
    "precision"
   ]
  },
  {
   "cell_type": "code",
   "execution_count": 55,
   "metadata": {},
   "outputs": [
    {
     "data": {
      "text/plain": [
       "0.88"
      ]
     },
     "execution_count": 55,
     "metadata": {},
     "output_type": "execute_result"
    }
   ],
   "source": [
    "#recall = True positive / True Positive + False Negative\n",
    "recall = 22 / 25\n",
    "recall"
   ]
  },
  {
   "cell_type": "code",
   "execution_count": 56,
   "metadata": {},
   "outputs": [
    {
     "data": {
      "text/plain": [
       "0.8688524590163934"
      ]
     },
     "execution_count": 56,
     "metadata": {},
     "output_type": "execute_result"
    }
   ],
   "source": [
    "#accuracy = True positive + True Negative / True Positive + True Negative + False Positive + False Negative\n",
    "accuracy = 53 / 61\n",
    "accuracy"
   ]
  },
  {
   "cell_type": "code",
   "execution_count": 57,
   "metadata": {},
   "outputs": [
    {
     "data": {
      "text/plain": [
       "0.8611111111111112"
      ]
     },
     "execution_count": 57,
     "metadata": {},
     "output_type": "execute_result"
    }
   ],
   "source": [
    "#specificity = True Negative / True Negative + False Positive\n",
    "specificity = 31 / 36\n",
    "specificity"
   ]
  },
  {
   "cell_type": "markdown",
   "metadata": {},
   "source": [
    "##### Interpretation of the results"
   ]
  },
  {
   "cell_type": "markdown",
   "metadata": {},
   "source": [
    "* The model scored an overall accuracy of approximately <b>87 %</b>.\n",
    "* It was right in <b>81 %</b> of the times a positive class was predicted.\n",
    "* Recognized <b>88 %</b> of all positive, and <b>86 %</b> of all negative examples. "
   ]
  },
  {
   "cell_type": "markdown",
   "metadata": {},
   "source": [
    "### K-Nearest Neighbors Classifier "
   ]
  },
  {
   "cell_type": "code",
   "execution_count": 58,
   "metadata": {},
   "outputs": [
    {
     "name": "stdout",
     "output_type": "stream",
     "text": [
      "Accuracy score of the model is: 86.88524590163934 %\n"
     ]
    }
   ],
   "source": [
    "knn = KNeighborsClassifier(n_neighbors=8)\n",
    "knn.fit(x_train,y_train)\n",
    "y_pred1 = knn.predict(x_test)\n",
    "\n",
    "print(\"Accuracy score of the model is:\",accuracy_score(y_test, y_pred1) * 100,\"%\")"
   ]
  },
  {
   "cell_type": "code",
   "execution_count": 59,
   "metadata": {},
   "outputs": [
    {
     "name": "stdout",
     "output_type": "stream",
     "text": [
      "[[24  3]\n",
      " [ 5 29]]\n"
     ]
    }
   ],
   "source": [
    "print(confusion_matrix(y_test, y_pred1))"
   ]
  },
  {
   "cell_type": "code",
   "execution_count": 60,
   "metadata": {},
   "outputs": [
    {
     "data": {
      "text/plain": [
       "0.8888888888888888"
      ]
     },
     "execution_count": 60,
     "metadata": {},
     "output_type": "execute_result"
    }
   ],
   "source": [
    "#precision = True positive / True positive + False Positive\n",
    "precision = 24 / 27\n",
    "precision"
   ]
  },
  {
   "cell_type": "code",
   "execution_count": 61,
   "metadata": {},
   "outputs": [
    {
     "data": {
      "text/plain": [
       "0.8275862068965517"
      ]
     },
     "execution_count": 61,
     "metadata": {},
     "output_type": "execute_result"
    }
   ],
   "source": [
    "#recall = True positive / True Positive + False Negative\n",
    "recall = 24 / 29\n",
    "recall"
   ]
  },
  {
   "cell_type": "code",
   "execution_count": 62,
   "metadata": {},
   "outputs": [
    {
     "data": {
      "text/plain": [
       "0.90625"
      ]
     },
     "execution_count": 62,
     "metadata": {},
     "output_type": "execute_result"
    }
   ],
   "source": [
    "#specificity = True Negative / True Negative + False Positive\n",
    "specificity = 29 / 32\n",
    "specificity"
   ]
  },
  {
   "cell_type": "markdown",
   "metadata": {},
   "source": [
    "##### Interpretation of the results"
   ]
  },
  {
   "cell_type": "markdown",
   "metadata": {},
   "source": [
    "* The model scored an overall accuracy of approximately <b>87 %</b>.\n",
    "* It was right in <b>89 %</b> of the times a positive class was predicted.\n",
    "* Recognized <b>83 %</b> of all positive, and <b>90 %</b> of all negative examples. "
   ]
  },
  {
   "cell_type": "markdown",
   "metadata": {},
   "source": [
    "### Support Vector Classifier"
   ]
  },
  {
   "cell_type": "code",
   "execution_count": 63,
   "metadata": {},
   "outputs": [
    {
     "name": "stdout",
     "output_type": "stream",
     "text": [
      "Accuracy score of the model is: 86.88524590163934 %\n"
     ]
    }
   ],
   "source": [
    "svc = SVC(probability = True)\n",
    "svc.fit(x_train, y_train)\n",
    "y_pred2 = svc.predict(x_test)\n",
    "\n",
    "print(\"Accuracy score of the model is:\",accuracy_score(y_test, y_pred2) * 100,\"%\")"
   ]
  },
  {
   "cell_type": "code",
   "execution_count": 64,
   "metadata": {},
   "outputs": [
    {
     "data": {
      "text/plain": [
       "array([[0.87071495, 0.12928505],\n",
       "       [0.26434981, 0.73565019],\n",
       "       [0.25260104, 0.74739896],\n",
       "       [0.93635189, 0.06364811],\n",
       "       [0.81598271, 0.18401729],\n",
       "       [0.75401723, 0.24598277],\n",
       "       [0.8910022 , 0.1089978 ],\n",
       "       [0.86108147, 0.13891853],\n",
       "       [0.82843409, 0.17156591],\n",
       "       [0.89480127, 0.10519873],\n",
       "       [0.2228457 , 0.7771543 ],\n",
       "       [0.06551222, 0.93448778],\n",
       "       [0.88441934, 0.11558066],\n",
       "       [0.11331246, 0.88668754],\n",
       "       [0.13417391, 0.86582609],\n",
       "       [0.46284418, 0.53715582],\n",
       "       [0.74688019, 0.25311981],\n",
       "       [0.10635815, 0.89364185],\n",
       "       [0.94171496, 0.05828504],\n",
       "       [0.34397285, 0.65602715],\n",
       "       [0.13362602, 0.86637398],\n",
       "       [0.73294916, 0.26705084],\n",
       "       [0.59075734, 0.40924266],\n",
       "       [0.66643174, 0.33356826],\n",
       "       [0.11053078, 0.88946922],\n",
       "       [0.5       , 0.5       ],\n",
       "       [0.79754188, 0.20245812],\n",
       "       [0.7617491 , 0.2382509 ],\n",
       "       [0.11093194, 0.88906806],\n",
       "       [0.15273581, 0.84726419],\n",
       "       [0.31420492, 0.68579508],\n",
       "       [0.93877566, 0.06122434],\n",
       "       [0.07306784, 0.92693216],\n",
       "       [0.19851393, 0.80148607],\n",
       "       [0.10311529, 0.89688471],\n",
       "       [0.47914263, 0.52085737],\n",
       "       [0.87023769, 0.12976231],\n",
       "       [0.16017442, 0.83982558],\n",
       "       [0.66317749, 0.33682251],\n",
       "       [0.43973596, 0.56026404],\n",
       "       [0.60331239, 0.39668761],\n",
       "       [0.20893099, 0.79106901],\n",
       "       [0.18154035, 0.81845965],\n",
       "       [0.68341708, 0.31658292],\n",
       "       [0.23997096, 0.76002904],\n",
       "       [0.20136938, 0.79863062],\n",
       "       [0.2461212 , 0.7538788 ],\n",
       "       [0.71036612, 0.28963388],\n",
       "       [0.90117653, 0.09882347],\n",
       "       [0.22606909, 0.77393091],\n",
       "       [0.11179181, 0.88820819],\n",
       "       [0.20059004, 0.79940996],\n",
       "       [0.09554416, 0.90445584],\n",
       "       [0.49040041, 0.50959959],\n",
       "       [0.05132482, 0.94867518],\n",
       "       [0.88757887, 0.11242113],\n",
       "       [0.14222892, 0.85777108],\n",
       "       [0.16003144, 0.83996856],\n",
       "       [0.10393461, 0.89606539],\n",
       "       [0.07943872, 0.92056128],\n",
       "       [0.15902857, 0.84097143]])"
      ]
     },
     "execution_count": 64,
     "metadata": {},
     "output_type": "execute_result"
    }
   ],
   "source": [
    "svc.predict_proba(x_test)"
   ]
  },
  {
   "cell_type": "code",
   "execution_count": 65,
   "metadata": {},
   "outputs": [
    {
     "name": "stdout",
     "output_type": "stream",
     "text": [
      "[[23  4]\n",
      " [ 4 30]]\n"
     ]
    }
   ],
   "source": [
    "print(confusion_matrix(y_test, y_pred2))"
   ]
  },
  {
   "cell_type": "code",
   "execution_count": 66,
   "metadata": {},
   "outputs": [
    {
     "data": {
      "text/plain": [
       "0.8518518518518519"
      ]
     },
     "execution_count": 66,
     "metadata": {},
     "output_type": "execute_result"
    }
   ],
   "source": [
    "#precision = True positive / True positive + False Positive\n",
    "precision = 23 / 27\n",
    "precision"
   ]
  },
  {
   "cell_type": "code",
   "execution_count": 67,
   "metadata": {},
   "outputs": [
    {
     "data": {
      "text/plain": [
       "0.8518518518518519"
      ]
     },
     "execution_count": 67,
     "metadata": {},
     "output_type": "execute_result"
    }
   ],
   "source": [
    "#recall = True positive / True Positive + False Negative\n",
    "recall = 23 / 27\n",
    "recall"
   ]
  },
  {
   "cell_type": "code",
   "execution_count": 68,
   "metadata": {},
   "outputs": [
    {
     "data": {
      "text/plain": [
       "0.8823529411764706"
      ]
     },
     "execution_count": 68,
     "metadata": {},
     "output_type": "execute_result"
    }
   ],
   "source": [
    "#specificity = True Negative / True Negative + False Positive\n",
    "specificity = 30 / 34\n",
    "specificity"
   ]
  },
  {
   "cell_type": "markdown",
   "metadata": {},
   "source": [
    "##### Interpretation of the results"
   ]
  },
  {
   "cell_type": "markdown",
   "metadata": {},
   "source": [
    "* The model scored an overall accuracy of approximately <b>87 %</b>.\n",
    "* It was right in <b>85 %</b> of the times a positive class was predicted.\n",
    "* Recognized <b>85 %</b> of all positive, and <b>88 %</b> of all negative examples. "
   ]
  },
  {
   "cell_type": "markdown",
   "metadata": {},
   "source": [
    "### Decision Tree Classifier"
   ]
  },
  {
   "cell_type": "code",
   "execution_count": 69,
   "metadata": {},
   "outputs": [
    {
     "name": "stdout",
     "output_type": "stream",
     "text": [
      "Accuracy score of the model is: 85.24590163934425 %\n"
     ]
    }
   ],
   "source": [
    "dtc = DecisionTreeClassifier()\n",
    "dtc.fit(x_train, y_train)\n",
    "y_pred3 = dtc.predict(x_test)\n",
    "\n",
    "print(\"Accuracy score of the model is:\",accuracy_score(y_test, y_pred3) * 100,\"%\")"
   ]
  },
  {
   "cell_type": "code",
   "execution_count": 70,
   "metadata": {},
   "outputs": [
    {
     "name": "stdout",
     "output_type": "stream",
     "text": [
      "[[23  4]\n",
      " [ 5 29]]\n"
     ]
    }
   ],
   "source": [
    "print(confusion_matrix(y_test, y_pred3))"
   ]
  },
  {
   "cell_type": "code",
   "execution_count": 71,
   "metadata": {},
   "outputs": [
    {
     "data": {
      "text/plain": [
       "0.8148148148148148"
      ]
     },
     "execution_count": 71,
     "metadata": {},
     "output_type": "execute_result"
    }
   ],
   "source": [
    "#precision = True positive / True positive + False Positive\n",
    "precision = 22 / 27\n",
    "precision"
   ]
  },
  {
   "cell_type": "code",
   "execution_count": 72,
   "metadata": {},
   "outputs": [
    {
     "data": {
      "text/plain": [
       "0.8461538461538461"
      ]
     },
     "execution_count": 72,
     "metadata": {},
     "output_type": "execute_result"
    }
   ],
   "source": [
    "#recall = True positive / True Positive + False Negative\n",
    "recall = 22 / 26\n",
    "recall"
   ]
  },
  {
   "cell_type": "code",
   "execution_count": 73,
   "metadata": {},
   "outputs": [
    {
     "data": {
      "text/plain": [
       "0.8571428571428571"
      ]
     },
     "execution_count": 73,
     "metadata": {},
     "output_type": "execute_result"
    }
   ],
   "source": [
    "#specificity = True Negative / True Negative + False Positive\n",
    "specificity = 30 / 35\n",
    "specificity"
   ]
  },
  {
   "cell_type": "markdown",
   "metadata": {},
   "source": [
    "##### Interpretation of the results"
   ]
  },
  {
   "cell_type": "markdown",
   "metadata": {},
   "source": [
    "* The model scored an overall accuracy of approximately <b>85 %</b>.\n",
    "* It was right in <b>81 %</b> of the times a positive class was predicted.\n",
    "* Recognized <b>85 %</b> of all positive, and <b>86 %</b> of all negative examples. "
   ]
  },
  {
   "cell_type": "markdown",
   "metadata": {},
   "source": [
    "### Random Forest Classifier"
   ]
  },
  {
   "cell_type": "code",
   "execution_count": 74,
   "metadata": {},
   "outputs": [
    {
     "name": "stdout",
     "output_type": "stream",
     "text": [
      "Accuracy score of the model is: 86.88524590163934 %\n"
     ]
    }
   ],
   "source": [
    "rfc = RandomForestClassifier(criterion = 'gini', max_depth = 7, max_features = 'sqrt', min_samples_leaf = 2, min_samples_split = 4, n_estimators = 180)\n",
    "rfc.fit(x_train, y_train)\n",
    "y_pred4 = rfc.predict(x_test)\n",
    "\n",
    "print(\"Accuracy score of the model is:\",accuracy_score(y_test, y_pred4) * 100,\"%\")"
   ]
  },
  {
   "cell_type": "code",
   "execution_count": 75,
   "metadata": {},
   "outputs": [
    {
     "name": "stdout",
     "output_type": "stream",
     "text": [
      "[[22  5]\n",
      " [ 3 31]]\n"
     ]
    }
   ],
   "source": [
    "print(confusion_matrix(y_test, y_pred4))"
   ]
  },
  {
   "cell_type": "code",
   "execution_count": 76,
   "metadata": {},
   "outputs": [
    {
     "data": {
      "text/plain": [
       "0.8148148148148148"
      ]
     },
     "execution_count": 76,
     "metadata": {},
     "output_type": "execute_result"
    }
   ],
   "source": [
    "#precision = True positive / True positive + False Positive\n",
    "precision = 22 / 27\n",
    "precision"
   ]
  },
  {
   "cell_type": "code",
   "execution_count": 77,
   "metadata": {},
   "outputs": [
    {
     "data": {
      "text/plain": [
       "0.88"
      ]
     },
     "execution_count": 77,
     "metadata": {},
     "output_type": "execute_result"
    }
   ],
   "source": [
    "#recall = True positive / True Positive + False Negative\n",
    "recall = 22 / 25\n",
    "recall"
   ]
  },
  {
   "cell_type": "code",
   "execution_count": 78,
   "metadata": {},
   "outputs": [
    {
     "data": {
      "text/plain": [
       "0.8611111111111112"
      ]
     },
     "execution_count": 78,
     "metadata": {},
     "output_type": "execute_result"
    }
   ],
   "source": [
    "#specificity = True Negative / True Negative + False Positive\n",
    "specificity = 31 / 36\n",
    "specificity"
   ]
  },
  {
   "cell_type": "markdown",
   "metadata": {},
   "source": [
    "##### Interpretation of the results"
   ]
  },
  {
   "cell_type": "markdown",
   "metadata": {},
   "source": [
    "* The model scored an overall accuracy of approximately <b>85 %</b>.\n",
    "* It was right in <b>81 %</b> of the times a positive class was predicted.\n",
    "* Recognized <b>88 %</b> of all positive, and <b>86 %</b> of all negative examples. "
   ]
  },
  {
   "cell_type": "markdown",
   "metadata": {},
   "source": [
    "### Classification Report and Summary"
   ]
  },
  {
   "cell_type": "code",
   "execution_count": 79,
   "metadata": {},
   "outputs": [],
   "source": [
    "lr_pred_prob = lr.predict_proba(x_test)\n",
    "knn_pred_prob = knn.predict_proba(x_test)\n",
    "svc_pred_prob = svc.predict_proba(x_test)\n",
    "dtc_pred_prob = dtc.predict_proba(x_test)\n",
    "rfc_pred_prob = rfc.predict_proba(x_test)"
   ]
  },
  {
   "cell_type": "code",
   "execution_count": 80,
   "metadata": {},
   "outputs": [],
   "source": [
    "lr_fpr, lr_tpr, lr_thresh = roc_curve(y_test, lr_pred_prob[:,1], pos_label=1)\n",
    "knn_fpr, knn_tpr, knn_thresh = roc_curve(y_test, knn_pred_prob[:,1], pos_label=1)\n",
    "svc_fpr, svc_tpr, svc_thresh = roc_curve(y_test, svc_pred_prob[:,1], pos_label=1)\n",
    "dtc_fpr, dtc_tpr, dtc_thresh = roc_curve(y_test, dtc_pred_prob[:,1], pos_label=1)\n",
    "rfc_fpr, rfc_tpr, rfc_thresh = roc_curve(y_test, rfc_pred_prob[:,1], pos_label=1)"
   ]
  },
  {
   "cell_type": "code",
   "execution_count": 81,
   "metadata": {},
   "outputs": [],
   "source": [
    "random_probs = [0 for i in range(len(y_test))]\n",
    "p_fpr, p_tpr, _ = roc_curve(y_test, random_probs, pos_label=1)"
   ]
  },
  {
   "cell_type": "code",
   "execution_count": 82,
   "metadata": {},
   "outputs": [
    {
     "data": {
      "image/png": "[encoded data removed]",
      "text/plain": [
       "<Figure size 432x288 with 1 Axes>"
      ]
     },
     "metadata": {
      "needs_background": "light"
     },
     "output_type": "display_data"
    }
   ],
   "source": [
    "plt.plot(lr_fpr, lr_tpr, linestyle='-',color='yellow', label='Logistic Regression')\n",
    "plt.plot(knn_fpr, knn_tpr, linestyle='-',color='green', label='KNN')\n",
    "plt.plot(svc_fpr, svc_tpr, linestyle='-',color='red', label='SVC')\n",
    "plt.plot(dtc_fpr, dtc_tpr, linestyle='-',color='purple', label='DecisionTreeClassifier')\n",
    "plt.plot(rfc_fpr, rfc_tpr, linestyle='-',color='cyan', label='RandomForestClassifier')\n",
    "plt.plot(p_fpr, p_tpr, linestyle='--', color='blue')\n",
    "plt.title('ROC curve')\n",
    "plt.xlabel('False Positive Rate')\n",
    "plt.ylabel('True Positive rate')\n",
    "plt.legend(loc='best')\n",
    "\n",
    "plt.show()"
   ]
  },
  {
   "cell_type": "markdown",
   "metadata": {},
   "source": [
    "Algorithm     | Accuracy  | Precision | Recall | Specificity |\n",
    "------------- | --------- | ------    | -----  | -----|\n",
    "LR            | 87        | 81        | 88     | 86\n",
    "KNN           | 87      | 89        | 83     | 90\n",
    "SVM           | 87      | 85       | 85     | 88\n",
    "DTC           | 85        | 81        | 85     | 86\n",
    "RFC           | 85        | 81        | 88     | 86"
   ]
  },
  {
   "cell_type": "markdown",
   "metadata": {},
   "source": [
    "Based on the ROC curve, it is hard to make a conclusion, but the RandomForestClassifier seems like probably the best model. While examining the classification evaluation metrics, it looks like we have a close decision between Logistic Regression and KNearestNeighbor classifiers. KNN has better precision and specificity scores, while LR has better recall, and most importantly it got a smaller number of False Negative results.\n",
    "\n",
    "Heart disease is a serious condition and missclassifying a patient with the disease holds a great risk. That is why in that case, Logistic Regression is probably the best model for classification."
   ]
  },
  {
   "cell_type": "markdown",
   "metadata": {},
   "source": [
    "### K Means Clustering of the positive examples"
   ]
  },
  {
   "cell_type": "code",
   "execution_count": 83,
   "metadata": {},
   "outputs": [],
   "source": [
    "positive_patients = heart_data[(heart_data['target'] == 1)]"
   ]
  },
  {
   "cell_type": "code",
   "execution_count": 84,
   "metadata": {},
   "outputs": [
    {
     "data": {
      "text/plain": [
       "165"
      ]
     },
     "execution_count": 84,
     "metadata": {},
     "output_type": "execute_result"
    }
   ],
   "source": [
    "len(positive_patients)"
   ]
  },
  {
   "cell_type": "code",
   "execution_count": 85,
   "metadata": {},
   "outputs": [
    {
     "data": {
      "text/html": [
       "<div>\n",
       "<style scoped>\n",
       "    .dataframe tbody tr th:only-of-type {\n",
       "        vertical-align: middle;\n",
       "    }\n",
       "\n",
       "    .dataframe tbody tr th {\n",
       "        vertical-align: top;\n",
       "    }\n",
       "\n",
       "    .dataframe thead th {\n",
       "        text-align: right;\n",
       "    }\n",
       "</style>\n",
       "<table border=\"1\" class=\"dataframe\">\n",
       "  <thead>\n",
       "    <tr style=\"text-align: right;\">\n",
       "      <th></th>\n",
       "      <th>age</th>\n",
       "      <th>sex</th>\n",
       "      <th>chest_pain_type</th>\n",
       "      <th>resting_blood_pressure</th>\n",
       "      <th>cholesterol</th>\n",
       "      <th>fasting_blood_sugar</th>\n",
       "      <th>rest_ecg</th>\n",
       "      <th>max_heart_rate_achieved</th>\n",
       "      <th>exercise_induced_angina</th>\n",
       "      <th>st_depression</th>\n",
       "      <th>st_slope</th>\n",
       "      <th>major_vessels_count</th>\n",
       "      <th>thalassemia</th>\n",
       "      <th>target</th>\n",
       "    </tr>\n",
       "  </thead>\n",
       "  <tbody>\n",
       "    <tr>\n",
       "      <th>0</th>\n",
       "      <td>63</td>\n",
       "      <td>1</td>\n",
       "      <td>3</td>\n",
       "      <td>145</td>\n",
       "      <td>233</td>\n",
       "      <td>1</td>\n",
       "      <td>0</td>\n",
       "      <td>150</td>\n",
       "      <td>0</td>\n",
       "      <td>2.3</td>\n",
       "      <td>0</td>\n",
       "      <td>0</td>\n",
       "      <td>1</td>\n",
       "      <td>1</td>\n",
       "    </tr>\n",
       "    <tr>\n",
       "      <th>1</th>\n",
       "      <td>37</td>\n",
       "      <td>1</td>\n",
       "      <td>2</td>\n",
       "      <td>130</td>\n",
       "      <td>250</td>\n",
       "      <td>0</td>\n",
       "      <td>1</td>\n",
       "      <td>187</td>\n",
       "      <td>0</td>\n",
       "      <td>3.5</td>\n",
       "      <td>0</td>\n",
       "      <td>0</td>\n",
       "      <td>2</td>\n",
       "      <td>1</td>\n",
       "    </tr>\n",
       "    <tr>\n",
       "      <th>2</th>\n",
       "      <td>41</td>\n",
       "      <td>0</td>\n",
       "      <td>1</td>\n",
       "      <td>130</td>\n",
       "      <td>204</td>\n",
       "      <td>0</td>\n",
       "      <td>0</td>\n",
       "      <td>172</td>\n",
       "      <td>0</td>\n",
       "      <td>1.4</td>\n",
       "      <td>2</td>\n",
       "      <td>0</td>\n",
       "      <td>2</td>\n",
       "      <td>1</td>\n",
       "    </tr>\n",
       "    <tr>\n",
       "      <th>3</th>\n",
       "      <td>56</td>\n",
       "      <td>1</td>\n",
       "      <td>1</td>\n",
       "      <td>120</td>\n",
       "      <td>236</td>\n",
       "      <td>0</td>\n",
       "      <td>1</td>\n",
       "      <td>178</td>\n",
       "      <td>0</td>\n",
       "      <td>0.8</td>\n",
       "      <td>2</td>\n",
       "      <td>0</td>\n",
       "      <td>2</td>\n",
       "      <td>1</td>\n",
       "    </tr>\n",
       "    <tr>\n",
       "      <th>4</th>\n",
       "      <td>57</td>\n",
       "      <td>0</td>\n",
       "      <td>0</td>\n",
       "      <td>120</td>\n",
       "      <td>354</td>\n",
       "      <td>0</td>\n",
       "      <td>1</td>\n",
       "      <td>163</td>\n",
       "      <td>1</td>\n",
       "      <td>0.6</td>\n",
       "      <td>2</td>\n",
       "      <td>0</td>\n",
       "      <td>2</td>\n",
       "      <td>1</td>\n",
       "    </tr>\n",
       "  </tbody>\n",
       "</table>\n",
       "</div>"
      ],
      "text/plain": [
       "   age  sex  chest_pain_type  resting_blood_pressure  cholesterol  \\\n",
       "0   63    1                3                     145          233   \n",
       "1   37    1                2                     130          250   \n",
       "2   41    0                1                     130          204   \n",
       "3   56    1                1                     120          236   \n",
       "4   57    0                0                     120          354   \n",
       "\n",
       "   fasting_blood_sugar  rest_ecg  max_heart_rate_achieved  \\\n",
       "0                    1         0                      150   \n",
       "1                    0         1                      187   \n",
       "2                    0         0                      172   \n",
       "3                    0         1                      178   \n",
       "4                    0         1                      163   \n",
       "\n",
       "   exercise_induced_angina  st_depression  st_slope  major_vessels_count  \\\n",
       "0                        0            2.3         0                    0   \n",
       "1                        0            3.5         0                    0   \n",
       "2                        0            1.4         2                    0   \n",
       "3                        0            0.8         2                    0   \n",
       "4                        1            0.6         2                    0   \n",
       "\n",
       "   thalassemia  target  \n",
       "0            1       1  \n",
       "1            2       1  \n",
       "2            2       1  \n",
       "3            2       1  \n",
       "4            2       1  "
      ]
     },
     "execution_count": 85,
     "metadata": {},
     "output_type": "execute_result"
    }
   ],
   "source": [
    "positive_patients.head()"
   ]
  },
  {
   "cell_type": "markdown",
   "metadata": {},
   "source": [
    "### EDA"
   ]
  },
  {
   "cell_type": "code",
   "execution_count": 86,
   "metadata": {},
   "outputs": [
    {
     "data": {
      "text/html": [
       "<div>\n",
       "<style scoped>\n",
       "    .dataframe tbody tr th:only-of-type {\n",
       "        vertical-align: middle;\n",
       "    }\n",
       "\n",
       "    .dataframe tbody tr th {\n",
       "        vertical-align: top;\n",
       "    }\n",
       "\n",
       "    .dataframe thead th {\n",
       "        text-align: right;\n",
       "    }\n",
       "</style>\n",
       "<table border=\"1\" class=\"dataframe\">\n",
       "  <thead>\n",
       "    <tr style=\"text-align: right;\">\n",
       "      <th></th>\n",
       "      <th>age</th>\n",
       "      <th>sex</th>\n",
       "      <th>chest_pain_type</th>\n",
       "      <th>resting_blood_pressure</th>\n",
       "      <th>cholesterol</th>\n",
       "      <th>fasting_blood_sugar</th>\n",
       "      <th>rest_ecg</th>\n",
       "      <th>max_heart_rate_achieved</th>\n",
       "      <th>exercise_induced_angina</th>\n",
       "      <th>st_depression</th>\n",
       "      <th>st_slope</th>\n",
       "      <th>major_vessels_count</th>\n",
       "      <th>thalassemia</th>\n",
       "      <th>target</th>\n",
       "    </tr>\n",
       "  </thead>\n",
       "  <tbody>\n",
       "    <tr>\n",
       "      <th>age</th>\n",
       "      <td>1.000000</td>\n",
       "      <td>-0.190231</td>\n",
       "      <td>0.024934</td>\n",
       "      <td>0.274698</td>\n",
       "      <td>0.257154</td>\n",
       "      <td>0.155415</td>\n",
       "      <td>-0.084360</td>\n",
       "      <td>-0.525801</td>\n",
       "      <td>0.046990</td>\n",
       "      <td>0.174594</td>\n",
       "      <td>-0.109380</td>\n",
       "      <td>0.117463</td>\n",
       "      <td>0.080959</td>\n",
       "      <td>NaN</td>\n",
       "    </tr>\n",
       "    <tr>\n",
       "      <th>sex</th>\n",
       "      <td>-0.190231</td>\n",
       "      <td>1.000000</td>\n",
       "      <td>0.039321</td>\n",
       "      <td>0.030943</td>\n",
       "      <td>-0.239287</td>\n",
       "      <td>0.142416</td>\n",
       "      <td>0.018542</td>\n",
       "      <td>0.204315</td>\n",
       "      <td>0.071849</td>\n",
       "      <td>0.032630</td>\n",
       "      <td>0.015768</td>\n",
       "      <td>0.060384</td>\n",
       "      <td>0.229687</td>\n",
       "      <td>NaN</td>\n",
       "    </tr>\n",
       "    <tr>\n",
       "      <th>chest_pain_type</th>\n",
       "      <td>0.024934</td>\n",
       "      <td>0.039321</td>\n",
       "      <td>1.000000</td>\n",
       "      <td>0.185422</td>\n",
       "      <td>-0.044993</td>\n",
       "      <td>0.227776</td>\n",
       "      <td>-0.073879</td>\n",
       "      <td>0.064143</td>\n",
       "      <td>-0.104002</td>\n",
       "      <td>0.207949</td>\n",
       "      <td>-0.127548</td>\n",
       "      <td>0.101492</td>\n",
       "      <td>0.047912</td>\n",
       "      <td>NaN</td>\n",
       "    </tr>\n",
       "    <tr>\n",
       "      <th>resting_blood_pressure</th>\n",
       "      <td>0.274698</td>\n",
       "      <td>0.030943</td>\n",
       "      <td>0.185422</td>\n",
       "      <td>1.000000</td>\n",
       "      <td>0.093291</td>\n",
       "      <td>0.136800</td>\n",
       "      <td>-0.102860</td>\n",
       "      <td>0.028039</td>\n",
       "      <td>-0.045556</td>\n",
       "      <td>0.181501</td>\n",
       "      <td>-0.008066</td>\n",
       "      <td>0.051005</td>\n",
       "      <td>-0.013813</td>\n",
       "      <td>NaN</td>\n",
       "    </tr>\n",
       "    <tr>\n",
       "      <th>cholesterol</th>\n",
       "      <td>0.257154</td>\n",
       "      <td>-0.239287</td>\n",
       "      <td>-0.044993</td>\n",
       "      <td>0.093291</td>\n",
       "      <td>1.000000</td>\n",
       "      <td>-0.017795</td>\n",
       "      <td>-0.206730</td>\n",
       "      <td>0.014455</td>\n",
       "      <td>-0.011896</td>\n",
       "      <td>0.057718</td>\n",
       "      <td>0.044581</td>\n",
       "      <td>-0.029081</td>\n",
       "      <td>0.081992</td>\n",
       "      <td>NaN</td>\n",
       "    </tr>\n",
       "    <tr>\n",
       "      <th>fasting_blood_sugar</th>\n",
       "      <td>0.155415</td>\n",
       "      <td>0.142416</td>\n",
       "      <td>0.227776</td>\n",
       "      <td>0.136800</td>\n",
       "      <td>-0.017795</td>\n",
       "      <td>1.000000</td>\n",
       "      <td>-0.057736</td>\n",
       "      <td>-0.028132</td>\n",
       "      <td>-0.060931</td>\n",
       "      <td>-0.004714</td>\n",
       "      <td>-0.019531</td>\n",
       "      <td>0.095860</td>\n",
       "      <td>0.083362</td>\n",
       "      <td>NaN</td>\n",
       "    </tr>\n",
       "    <tr>\n",
       "      <th>rest_ecg</th>\n",
       "      <td>-0.084360</td>\n",
       "      <td>0.018542</td>\n",
       "      <td>-0.073879</td>\n",
       "      <td>-0.102860</td>\n",
       "      <td>-0.206730</td>\n",
       "      <td>-0.057736</td>\n",
       "      <td>1.000000</td>\n",
       "      <td>0.031035</td>\n",
       "      <td>-0.092503</td>\n",
       "      <td>-0.087215</td>\n",
       "      <td>0.138237</td>\n",
       "      <td>0.133233</td>\n",
       "      <td>0.106879</td>\n",
       "      <td>NaN</td>\n",
       "    </tr>\n",
       "    <tr>\n",
       "      <th>max_heart_rate_achieved</th>\n",
       "      <td>-0.525801</td>\n",
       "      <td>0.204315</td>\n",
       "      <td>0.064143</td>\n",
       "      <td>0.028039</td>\n",
       "      <td>0.014455</td>\n",
       "      <td>-0.028132</td>\n",
       "      <td>0.031035</td>\n",
       "      <td>1.000000</td>\n",
       "      <td>-0.173675</td>\n",
       "      <td>-0.182040</td>\n",
       "      <td>0.223528</td>\n",
       "      <td>-0.042331</td>\n",
       "      <td>0.040057</td>\n",
       "      <td>NaN</td>\n",
       "    </tr>\n",
       "    <tr>\n",
       "      <th>exercise_induced_angina</th>\n",
       "      <td>0.046990</td>\n",
       "      <td>0.071849</td>\n",
       "      <td>-0.104002</td>\n",
       "      <td>-0.045556</td>\n",
       "      <td>-0.011896</td>\n",
       "      <td>-0.060931</td>\n",
       "      <td>-0.092503</td>\n",
       "      <td>-0.173675</td>\n",
       "      <td>1.000000</td>\n",
       "      <td>0.033505</td>\n",
       "      <td>-0.049097</td>\n",
       "      <td>-0.069545</td>\n",
       "      <td>0.083362</td>\n",
       "      <td>NaN</td>\n",
       "    </tr>\n",
       "    <tr>\n",
       "      <th>st_depression</th>\n",
       "      <td>0.174594</td>\n",
       "      <td>0.032630</td>\n",
       "      <td>0.207949</td>\n",
       "      <td>0.181501</td>\n",
       "      <td>0.057718</td>\n",
       "      <td>-0.004714</td>\n",
       "      <td>-0.087215</td>\n",
       "      <td>-0.182040</td>\n",
       "      <td>0.033505</td>\n",
       "      <td>1.000000</td>\n",
       "      <td>-0.476775</td>\n",
       "      <td>-0.075280</td>\n",
       "      <td>0.024138</td>\n",
       "      <td>NaN</td>\n",
       "    </tr>\n",
       "    <tr>\n",
       "      <th>st_slope</th>\n",
       "      <td>-0.109380</td>\n",
       "      <td>0.015768</td>\n",
       "      <td>-0.127548</td>\n",
       "      <td>-0.008066</td>\n",
       "      <td>0.044581</td>\n",
       "      <td>-0.019531</td>\n",
       "      <td>0.138237</td>\n",
       "      <td>0.223528</td>\n",
       "      <td>-0.049097</td>\n",
       "      <td>-0.476775</td>\n",
       "      <td>1.000000</td>\n",
       "      <td>0.113300</td>\n",
       "      <td>0.002673</td>\n",
       "      <td>NaN</td>\n",
       "    </tr>\n",
       "    <tr>\n",
       "      <th>major_vessels_count</th>\n",
       "      <td>0.117463</td>\n",
       "      <td>0.060384</td>\n",
       "      <td>0.101492</td>\n",
       "      <td>0.051005</td>\n",
       "      <td>-0.029081</td>\n",
       "      <td>0.095860</td>\n",
       "      <td>0.133233</td>\n",
       "      <td>-0.042331</td>\n",
       "      <td>-0.069545</td>\n",
       "      <td>-0.075280</td>\n",
       "      <td>0.113300</td>\n",
       "      <td>1.000000</td>\n",
       "      <td>0.103750</td>\n",
       "      <td>NaN</td>\n",
       "    </tr>\n",
       "    <tr>\n",
       "      <th>thalassemia</th>\n",
       "      <td>0.080959</td>\n",
       "      <td>0.229687</td>\n",
       "      <td>0.047912</td>\n",
       "      <td>-0.013813</td>\n",
       "      <td>0.081992</td>\n",
       "      <td>0.083362</td>\n",
       "      <td>0.106879</td>\n",
       "      <td>0.040057</td>\n",
       "      <td>0.083362</td>\n",
       "      <td>0.024138</td>\n",
       "      <td>0.002673</td>\n",
       "      <td>0.103750</td>\n",
       "      <td>1.000000</td>\n",
       "      <td>NaN</td>\n",
       "    </tr>\n",
       "    <tr>\n",
       "      <th>target</th>\n",
       "      <td>NaN</td>\n",
       "      <td>NaN</td>\n",
       "      <td>NaN</td>\n",
       "      <td>NaN</td>\n",
       "      <td>NaN</td>\n",
       "      <td>NaN</td>\n",
       "      <td>NaN</td>\n",
       "      <td>NaN</td>\n",
       "      <td>NaN</td>\n",
       "      <td>NaN</td>\n",
       "      <td>NaN</td>\n",
       "      <td>NaN</td>\n",
       "      <td>NaN</td>\n",
       "      <td>NaN</td>\n",
       "    </tr>\n",
       "  </tbody>\n",
       "</table>\n",
       "</div>"
      ],
      "text/plain": [
       "                              age       sex  chest_pain_type  \\\n",
       "age                      1.000000 -0.190231         0.024934   \n",
       "sex                     -0.190231  1.000000         0.039321   \n",
       "chest_pain_type          0.024934  0.039321         1.000000   \n",
       "resting_blood_pressure   0.274698  0.030943         0.185422   \n",
       "cholesterol              0.257154 -0.239287        -0.044993   \n",
       "fasting_blood_sugar      0.155415  0.142416         0.227776   \n",
       "rest_ecg                -0.084360  0.018542        -0.073879   \n",
       "max_heart_rate_achieved -0.525801  0.204315         0.064143   \n",
       "exercise_induced_angina  0.046990  0.071849        -0.104002   \n",
       "st_depression            0.174594  0.032630         0.207949   \n",
       "st_slope                -0.109380  0.015768        -0.127548   \n",
       "major_vessels_count      0.117463  0.060384         0.101492   \n",
       "thalassemia              0.080959  0.229687         0.047912   \n",
       "target                        NaN       NaN              NaN   \n",
       "\n",
       "                         resting_blood_pressure  cholesterol  \\\n",
       "age                                    0.274698     0.257154   \n",
       "sex                                    0.030943    -0.239287   \n",
       "chest_pain_type                        0.185422    -0.044993   \n",
       "resting_blood_pressure                 1.000000     0.093291   \n",
       "cholesterol                            0.093291     1.000000   \n",
       "fasting_blood_sugar                    0.136800    -0.017795   \n",
       "rest_ecg                              -0.102860    -0.206730   \n",
       "max_heart_rate_achieved                0.028039     0.014455   \n",
       "exercise_induced_angina               -0.045556    -0.011896   \n",
       "st_depression                          0.181501     0.057718   \n",
       "st_slope                              -0.008066     0.044581   \n",
       "major_vessels_count                    0.051005    -0.029081   \n",
       "thalassemia                           -0.013813     0.081992   \n",
       "target                                      NaN          NaN   \n",
       "\n",
       "                         fasting_blood_sugar  rest_ecg  \\\n",
       "age                                 0.155415 -0.084360   \n",
       "sex                                 0.142416  0.018542   \n",
       "chest_pain_type                     0.227776 -0.073879   \n",
       "resting_blood_pressure              0.136800 -0.102860   \n",
       "cholesterol                        -0.017795 -0.206730   \n",
       "fasting_blood_sugar                 1.000000 -0.057736   \n",
       "rest_ecg                           -0.057736  1.000000   \n",
       "max_heart_rate_achieved            -0.028132  0.031035   \n",
       "exercise_induced_angina            -0.060931 -0.092503   \n",
       "st_depression                      -0.004714 -0.087215   \n",
       "st_slope                           -0.019531  0.138237   \n",
       "major_vessels_count                 0.095860  0.133233   \n",
       "thalassemia                         0.083362  0.106879   \n",
       "target                                   NaN       NaN   \n",
       "\n",
       "                         max_heart_rate_achieved  exercise_induced_angina  \\\n",
       "age                                    -0.525801                 0.046990   \n",
       "sex                                     0.204315                 0.071849   \n",
       "chest_pain_type                         0.064143                -0.104002   \n",
       "resting_blood_pressure                  0.028039                -0.045556   \n",
       "cholesterol                             0.014455                -0.011896   \n",
       "fasting_blood_sugar                    -0.028132                -0.060931   \n",
       "rest_ecg                                0.031035                -0.092503   \n",
       "max_heart_rate_achieved                 1.000000                -0.173675   \n",
       "exercise_induced_angina                -0.173675                 1.000000   \n",
       "st_depression                          -0.182040                 0.033505   \n",
       "st_slope                                0.223528                -0.049097   \n",
       "major_vessels_count                    -0.042331                -0.069545   \n",
       "thalassemia                             0.040057                 0.083362   \n",
       "target                                       NaN                      NaN   \n",
       "\n",
       "                         st_depression  st_slope  major_vessels_count  \\\n",
       "age                           0.174594 -0.109380             0.117463   \n",
       "sex                           0.032630  0.015768             0.060384   \n",
       "chest_pain_type               0.207949 -0.127548             0.101492   \n",
       "resting_blood_pressure        0.181501 -0.008066             0.051005   \n",
       "cholesterol                   0.057718  0.044581            -0.029081   \n",
       "fasting_blood_sugar          -0.004714 -0.019531             0.095860   \n",
       "rest_ecg                     -0.087215  0.138237             0.133233   \n",
       "max_heart_rate_achieved      -0.182040  0.223528            -0.042331   \n",
       "exercise_induced_angina       0.033505 -0.049097            -0.069545   \n",
       "st_depression                 1.000000 -0.476775            -0.075280   \n",
       "st_slope                     -0.476775  1.000000             0.113300   \n",
       "major_vessels_count          -0.075280  0.113300             1.000000   \n",
       "thalassemia                   0.024138  0.002673             0.103750   \n",
       "target                             NaN       NaN                  NaN   \n",
       "\n",
       "                         thalassemia  target  \n",
       "age                         0.080959     NaN  \n",
       "sex                         0.229687     NaN  \n",
       "chest_pain_type             0.047912     NaN  \n",
       "resting_blood_pressure     -0.013813     NaN  \n",
       "cholesterol                 0.081992     NaN  \n",
       "fasting_blood_sugar         0.083362     NaN  \n",
       "rest_ecg                    0.106879     NaN  \n",
       "max_heart_rate_achieved     0.040057     NaN  \n",
       "exercise_induced_angina     0.083362     NaN  \n",
       "st_depression               0.024138     NaN  \n",
       "st_slope                    0.002673     NaN  \n",
       "major_vessels_count         0.103750     NaN  \n",
       "thalassemia                 1.000000     NaN  \n",
       "target                           NaN     NaN  "
      ]
     },
     "execution_count": 86,
     "metadata": {},
     "output_type": "execute_result"
    }
   ],
   "source": [
    "positive_patients.corr()"
   ]
  },
  {
   "cell_type": "code",
   "execution_count": 87,
   "metadata": {},
   "outputs": [
    {
     "data": {
      "image/png": "[encoded data removed]",
      "text/plain": [
       "<Figure size 432x288 with 1 Axes>"
      ]
     },
     "metadata": {
      "needs_background": "light"
     },
     "output_type": "display_data"
    }
   ],
   "source": [
    "plt.scatter(positive_patients['age'], positive_patients['resting_blood_pressure'])\n",
    "plt.xlabel('Age')\n",
    "plt.ylabel('Resting blood pressure')\n",
    "plt.show()"
   ]
  },
  {
   "cell_type": "code",
   "execution_count": 88,
   "metadata": {},
   "outputs": [
    {
     "name": "stdout",
     "output_type": "stream",
     "text": [
      "The Pearson Correlation Coefficient is 0.27469769588513465  with a P-value of P = 0.0003560678811288467\n"
     ]
    }
   ],
   "source": [
    "pearson_coef, p_value = stats.pearsonr(positive_patients['age'], positive_patients['resting_blood_pressure'])\n",
    "print(\"The Pearson Correlation Coefficient is\", pearson_coef, \" with a P-value of P =\", p_value)"
   ]
  },
  {
   "cell_type": "code",
   "execution_count": 89,
   "metadata": {},
   "outputs": [
    {
     "data": {
      "image/png": "[encoded data removed]",
      "text/plain": [
       "<Figure size 432x288 with 1 Axes>"
      ]
     },
     "metadata": {
      "needs_background": "light"
     },
     "output_type": "display_data"
    }
   ],
   "source": [
    "plt.scatter(positive_patients['age'], positive_patients['cholesterol'])\n",
    "plt.xlabel('Age')\n",
    "plt.ylabel('Cholesterol')\n",
    "plt.show()"
   ]
  },
  {
   "cell_type": "code",
   "execution_count": 90,
   "metadata": {},
   "outputs": [
    {
     "name": "stdout",
     "output_type": "stream",
     "text": [
      "The Pearson Correlation Coefficient is 0.2571537656848685  with a P-value of P = 0.0008550126059718955\n"
     ]
    }
   ],
   "source": [
    "pearson_coef, p_value = stats.pearsonr(positive_patients['age'], positive_patients['cholesterol'])\n",
    "print(\"The Pearson Correlation Coefficient is\", pearson_coef, \" with a P-value of P =\", p_value)"
   ]
  },
  {
   "cell_type": "code",
   "execution_count": 91,
   "metadata": {},
   "outputs": [
    {
     "data": {
      "image/png": "[encoded data removed]",
      "text/plain": [
       "<Figure size 432x288 with 1 Axes>"
      ]
     },
     "metadata": {
      "needs_background": "light"
     },
     "output_type": "display_data"
    }
   ],
   "source": [
    "plt.scatter(positive_patients['age'], positive_patients['max_heart_rate_achieved'])\n",
    "plt.xlabel('Age')\n",
    "plt.ylabel('Max heart rate achieved')\n",
    "plt.show()"
   ]
  },
  {
   "cell_type": "code",
   "execution_count": 92,
   "metadata": {},
   "outputs": [
    {
     "name": "stdout",
     "output_type": "stream",
     "text": [
      "The Pearson Correlation Coefficient is -0.5258007358642253  with a P-value of P = 4.107759226144909e-13\n"
     ]
    }
   ],
   "source": [
    "pearson_coef, p_value = stats.pearsonr(positive_patients['age'], positive_patients['max_heart_rate_achieved'])\n",
    "print(\"The Pearson Correlation Coefficient is\", pearson_coef, \" with a P-value of P =\", p_value)"
   ]
  },
  {
   "cell_type": "markdown",
   "metadata": {},
   "source": [
    "<h5>Conclusion:</h5>\n",
    "All three correlations appear statistically significant, but the linear relationships between 'age' and 'cholesterol' and 'age' and 'resting_blood_pressure' are small. Thats why I will use 'age' and 'max_heart_rate_achieved' for the K Means clustering algorithm, as their correlation coefficient indicates a moderate negative linear relationship."
   ]
  },
  {
   "cell_type": "markdown",
   "metadata": {},
   "source": [
    "### Preprocessing"
   ]
  },
  {
   "cell_type": "code",
   "execution_count": 93,
   "metadata": {},
   "outputs": [],
   "source": [
    "x_kmeans = positive_patients.copy()"
   ]
  },
  {
   "cell_type": "code",
   "execution_count": 94,
   "metadata": {},
   "outputs": [
    {
     "data": {
      "text/html": [
       "<div>\n",
       "<style scoped>\n",
       "    .dataframe tbody tr th:only-of-type {\n",
       "        vertical-align: middle;\n",
       "    }\n",
       "\n",
       "    .dataframe tbody tr th {\n",
       "        vertical-align: top;\n",
       "    }\n",
       "\n",
       "    .dataframe thead th {\n",
       "        text-align: right;\n",
       "    }\n",
       "</style>\n",
       "<table border=\"1\" class=\"dataframe\">\n",
       "  <thead>\n",
       "    <tr style=\"text-align: right;\">\n",
       "      <th></th>\n",
       "      <th>age</th>\n",
       "      <th>max_heart_rate_achieved</th>\n",
       "    </tr>\n",
       "  </thead>\n",
       "  <tbody>\n",
       "    <tr>\n",
       "      <th>0</th>\n",
       "      <td>63</td>\n",
       "      <td>150</td>\n",
       "    </tr>\n",
       "    <tr>\n",
       "      <th>1</th>\n",
       "      <td>37</td>\n",
       "      <td>187</td>\n",
       "    </tr>\n",
       "    <tr>\n",
       "      <th>2</th>\n",
       "      <td>41</td>\n",
       "      <td>172</td>\n",
       "    </tr>\n",
       "    <tr>\n",
       "      <th>3</th>\n",
       "      <td>56</td>\n",
       "      <td>178</td>\n",
       "    </tr>\n",
       "    <tr>\n",
       "      <th>4</th>\n",
       "      <td>57</td>\n",
       "      <td>163</td>\n",
       "    </tr>\n",
       "  </tbody>\n",
       "</table>\n",
       "</div>"
      ],
      "text/plain": [
       "   age  max_heart_rate_achieved\n",
       "0   63                      150\n",
       "1   37                      187\n",
       "2   41                      172\n",
       "3   56                      178\n",
       "4   57                      163"
      ]
     },
     "execution_count": 94,
     "metadata": {},
     "output_type": "execute_result"
    }
   ],
   "source": [
    "x_kmeans.drop(\"target\", axis = 1, inplace = True)\n",
    "x_kmeans.drop(\"cholesterol\", axis = 1, inplace = True)\n",
    "x_kmeans.drop(\"chest_pain_type\", axis = 1, inplace = True)\n",
    "x_kmeans.drop(\"resting_blood_pressure\", axis = 1, inplace = True)\n",
    "x_kmeans.drop(\"sex\", axis = 1, inplace = True)\n",
    "x_kmeans.drop(\"exercise_induced_angina\", axis = 1, inplace = True)\n",
    "x_kmeans.drop(\"st_depression\", axis = 1, inplace = True)\n",
    "x_kmeans.drop(\"st_slope\", axis = 1, inplace = True)\n",
    "x_kmeans.drop(\"major_vessels_count\", axis = 1, inplace = True)\n",
    "x_kmeans.drop(\"thalassemia\", axis = 1, inplace = True)\n",
    "x_kmeans.drop(\"rest_ecg\", axis = 1, inplace = True)\n",
    "x_kmeans.drop(\"fasting_blood_sugar\", axis = 1, inplace = True)\n",
    "x_kmeans.head()"
   ]
  },
  {
   "cell_type": "code",
   "execution_count": 95,
   "metadata": {},
   "outputs": [
    {
     "data": {
      "text/html": [
       "<div>\n",
       "<style scoped>\n",
       "    .dataframe tbody tr th:only-of-type {\n",
       "        vertical-align: middle;\n",
       "    }\n",
       "\n",
       "    .dataframe tbody tr th {\n",
       "        vertical-align: top;\n",
       "    }\n",
       "\n",
       "    .dataframe thead th {\n",
       "        text-align: right;\n",
       "    }\n",
       "</style>\n",
       "<table border=\"1\" class=\"dataframe\">\n",
       "  <thead>\n",
       "    <tr style=\"text-align: right;\">\n",
       "      <th></th>\n",
       "      <th>age</th>\n",
       "      <th>max_heart_rate_achieved</th>\n",
       "    </tr>\n",
       "  </thead>\n",
       "  <tbody>\n",
       "    <tr>\n",
       "      <th>0</th>\n",
       "      <td>0.828947</td>\n",
       "      <td>0.742574</td>\n",
       "    </tr>\n",
       "    <tr>\n",
       "      <th>1</th>\n",
       "      <td>0.486842</td>\n",
       "      <td>0.925743</td>\n",
       "    </tr>\n",
       "    <tr>\n",
       "      <th>2</th>\n",
       "      <td>0.539474</td>\n",
       "      <td>0.851485</td>\n",
       "    </tr>\n",
       "    <tr>\n",
       "      <th>3</th>\n",
       "      <td>0.736842</td>\n",
       "      <td>0.881188</td>\n",
       "    </tr>\n",
       "    <tr>\n",
       "      <th>4</th>\n",
       "      <td>0.750000</td>\n",
       "      <td>0.806931</td>\n",
       "    </tr>\n",
       "  </tbody>\n",
       "</table>\n",
       "</div>"
      ],
      "text/plain": [
       "        age  max_heart_rate_achieved\n",
       "0  0.828947                 0.742574\n",
       "1  0.486842                 0.925743\n",
       "2  0.539474                 0.851485\n",
       "3  0.736842                 0.881188\n",
       "4  0.750000                 0.806931"
      ]
     },
     "execution_count": 95,
     "metadata": {},
     "output_type": "execute_result"
    }
   ],
   "source": [
    "x_kmeans['max_heart_rate_achieved'] = x_kmeans['max_heart_rate_achieved'] / x_kmeans['max_heart_rate_achieved'].max()\n",
    "x_kmeans['age'] = x_kmeans['age'] / x_kmeans['age'].max()\n",
    "x_kmeans.head()"
   ]
  },
  {
   "cell_type": "code",
   "execution_count": 96,
   "metadata": {},
   "outputs": [
    {
     "data": {
      "image/png": "[encoded data removed]",
      "text/plain": [
       "<Figure size 432x288 with 1 Axes>"
      ]
     },
     "metadata": {
      "needs_background": "light"
     },
     "output_type": "display_data"
    }
   ],
   "source": [
    "plt.scatter(x_kmeans['age'], x_kmeans['max_heart_rate_achieved'])\n",
    "plt.xlabel('Age')\n",
    "plt.ylabel('Max heart rate achieved')\n",
    "plt.show()"
   ]
  },
  {
   "cell_type": "markdown",
   "metadata": {},
   "source": [
    "### Clustering"
   ]
  },
  {
   "cell_type": "code",
   "execution_count": 97,
   "metadata": {},
   "outputs": [
    {
     "data": {
      "image/png": "[encoded data removed]",
      "text/plain": [
       "<Figure size 432x288 with 1 Axes>"
      ]
     },
     "metadata": {
      "needs_background": "light"
     },
     "output_type": "display_data"
    }
   ],
   "source": [
    "#using the elbow method to see the most suitable number of clusters\n",
    "wcss =[]\n",
    "for i in range(1,10):\n",
    "  kmeans = KMeans(i)\n",
    "  kmeans.fit(x_kmeans)\n",
    "  wcss.append(kmeans.inertia_)\n",
    "\n",
    "plt.plot(range(1,10),wcss)\n",
    "plt.xlabel('Number of clusters')\n",
    "plt.ylabel('WCSS')\n",
    "plt.show()"
   ]
  },
  {
   "cell_type": "code",
   "execution_count": 98,
   "metadata": {},
   "outputs": [
    {
     "data": {
      "text/plain": [
       "KMeans(n_clusters=3)"
      ]
     },
     "execution_count": 98,
     "metadata": {},
     "output_type": "execute_result"
    }
   ],
   "source": [
    "#KMeans Clustering with K = 3\n",
    "kmeans = KMeans(n_clusters=3)\n",
    "kmeans.fit(x_kmeans)"
   ]
  },
  {
   "cell_type": "code",
   "execution_count": 99,
   "metadata": {},
   "outputs": [],
   "source": [
    "#Results\n",
    "clusters = x_kmeans.copy()\n",
    "clusters['cluster_pred'] = kmeans.fit_predict(x_kmeans)"
   ]
  },
  {
   "cell_type": "code",
   "execution_count": 100,
   "metadata": {},
   "outputs": [
    {
     "data": {
      "image/png": "[encoded data removed]",
      "text/plain": [
       "<Figure size 432x288 with 1 Axes>"
      ]
     },
     "metadata": {
      "needs_background": "light"
     },
     "output_type": "display_data"
    }
   ],
   "source": [
    "plt.scatter(clusters['age'],clusters['max_heart_rate_achieved'],c=clusters['cluster_pred'],cmap='rainbow')\n",
    "plt.xlabel('Age')\n",
    "plt.ylabel('Max heart rate achieved')\n",
    "plt.show()"
   ]
  },
  {
   "cell_type": "code",
   "execution_count": 101,
   "metadata": {},
   "outputs": [
    {
     "data": {
      "text/plain": [
       "KMeans(n_clusters=2)"
      ]
     },
     "execution_count": 101,
     "metadata": {},
     "output_type": "execute_result"
    }
   ],
   "source": [
    "#KMeans Clustering with K = 2\n",
    "kmeans = KMeans(n_clusters=2)\n",
    "kmeans.fit(x_kmeans)"
   ]
  },
  {
   "cell_type": "code",
   "execution_count": 102,
   "metadata": {},
   "outputs": [
    {
     "data": {
      "image/png": "[encoded data removed]",
      "text/plain": [
       "<Figure size 432x288 with 1 Axes>"
      ]
     },
     "metadata": {
      "needs_background": "light"
     },
     "output_type": "display_data"
    }
   ],
   "source": [
    "#Results\n",
    "clusters1 = x_kmeans.copy()\n",
    "clusters1['cluster_pred'] = kmeans.fit_predict(x_kmeans)\n",
    "\n",
    "plt.scatter(clusters1['age'],clusters1['max_heart_rate_achieved'],c=clusters1['cluster_pred'],cmap='rainbow')\n",
    "plt.xlabel('Age')\n",
    "plt.ylabel('Max heart rate achieved')\n",
    "plt.show()"
   ]
  },
  {
   "cell_type": "markdown",
   "metadata": {},
   "source": [
    "### Clustering Conclusion"
   ]
  },
  {
   "cell_type": "markdown",
   "metadata": {},
   "source": [
    "After clustering the positive patients, we can make the following conclusions. Patients that are younger than 55 years tend to have abnormally high max heart rate, while older patients don`t. This could mean that other features are more indicative of a heart disease when observing older people, whereas with younger patients, a high max heart rate is definitely disturbing."
   ]
  },
  {
   "cell_type": "markdown",
   "metadata": {},
   "source": [
    "### References"
   ]
  },
  {
   "cell_type": "markdown",
   "metadata": {},
   "source": [
    "* https://www.kaggle.com/shubhamjha1901/heartdisease-logisticregressionmodel\n",
    "* https://www.kaggle.com/anshigupta01/heart-disease-classification\n",
    "* https://www.mayoclinic.org/diseases-conditions/heart-disease/diagnosis-treatment/drc-20353124\n",
    "* https://www.bhf.org.uk/informationsupport/risk-factors\n",
    "* https://www.heart.org/en/health-topics/heart-attack/understand-your-risks-to-prevent-a-heart-attack\n",
    "* https://litfl.com/st-segment-ecg-library/\n",
    "* https://www.getbodysmart.com/heart-anatomy/major-blood-vessels-heart\n",
    "* https://www.healthline.com/health/thalassemia\n",
    "* https://www.symbolab.com/solver/complex-numbers-calculator/6.678692115314504e-07"
   ]
  },
  {
   "cell_type": "code",
   "execution_count": null,
   "metadata": {},
   "outputs": [],
   "source": []
  }
 ],
 "metadata": {
  "kernelspec": {
   "display_name": "Python 3",
   "language": "python",
   "name": "python3"
  },
  "language_info": {
   "codemirror_mode": {
    "name": "ipython",
    "version": 3
   },
   "file_extension": ".py",
   "mimetype": "text/x-python",
   "name": "python",
   "nbconvert_exporter": "python",
   "pygments_lexer": "ipython3",
   "version": "3.8.3"
  }
 },
 "nbformat": 4,
 "nbformat_minor": 4
}
