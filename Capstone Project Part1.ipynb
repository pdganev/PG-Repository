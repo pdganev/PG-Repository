{
 "cells": [
  {
   "cell_type": "markdown",
   "metadata": {},
   "source": [
    "# 1. Introduction / Business Understanding"
   ]
  },
  {
   "cell_type": "markdown",
   "metadata": {},
   "source": [
    "Our client is an entrepreneur from the town of Pazardzhik, Bulgaria.His name is Dimitar, also known as \"Mitio the Onion\", and He owns a local fast food restaurant, near the Pazardzhik`s Park of freedom. The product the He offers is typical for Bulgaria, and is called \"A Princess\". A princess is basically a large piece of bread, baked with minced meat, ham, or other product of the same type with yellow cheese on top. The product is cheap to make, very delicious, and our client firmly believes that he can conquer the Manhattan market with it. Like Dimitar says \"It costs 50 cents to make, i can sell it for 5$, 2000 pieces a day, count by yourself!\" Our goal here is to determine which neighborhoods in Manhattan, NY are best for a start. After a brief conversation with the stake holder, we came to the conclusion, that a location near a park is what we are searching for. "
   ]
  },
  {
   "cell_type": "markdown",
   "metadata": {},
   "source": [
    "# 2. Data and methodology"
   ]
  },
  {
   "cell_type": "markdown",
   "metadata": {},
   "source": [
    "For this project, We will use the New York neighborhood data, from  https://cocl.us/new_york_dataset. We will use common python libraries, to work with the data, discover the geographical coordinates of Manhattan, NY and create a map visualization with the Manhattan neighborhoods on it, to see which ones match our criteria."
   ]
  },
  {
   "cell_type": "code",
   "execution_count": null,
   "metadata": {},
   "outputs": [],
   "source": []
  }
 ],
 "metadata": {
  "kernelspec": {
   "display_name": "Python",
   "language": "python",
   "name": "conda-env-python-py"
  },
  "language_info": {
   "codemirror_mode": {
    "name": "ipython",
    "version": 3
   },
   "file_extension": ".py",
   "mimetype": "text/x-python",
   "name": "python",
   "nbconvert_exporter": "python",
   "pygments_lexer": "ipython3",
   "version": "3.6.10"
  }
 },
 "nbformat": 4,
 "nbformat_minor": 4
}
